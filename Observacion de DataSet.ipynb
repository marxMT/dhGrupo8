{
 "cells": [
  {
   "cell_type": "code",
   "execution_count": 1,
   "metadata": {},
   "outputs": [
    {
     "name": "stdout",
     "output_type": "stream",
     "text": [
      "2019-09-05T19:42:56-03:00\n",
      "\n",
      "CPython 3.7.3\n",
      "IPython 7.4.0\n",
      "\n",
      "compiler   : MSC v.1915 64 bit (AMD64)\n",
      "system     : Windows\n",
      "release    : 10\n",
      "machine    : AMD64\n",
      "processor  : Intel64 Family 6 Model 142 Stepping 10, GenuineIntel\n",
      "CPU cores  : 8\n",
      "interpreter: 64bit\n"
     ]
    }
   ],
   "source": [
    "%load_ext watermark\n",
    "%watermark"
   ]
  },
  {
   "cell_type": "markdown",
   "metadata": {},
   "source": [
    "### En este notebook se realiza una visualizacion sencilla del dataset, se elimina la columa : Uname 0, Pais, Operacion; finalmente guardamos ese nuevo  dataset, y este ultimo es el que utilizaremos para posteriores procesos.\n",
    "#######OJO: Estoy guardando el dataset final en una carpeta DATA."
   ]
  },
  {
   "cell_type": "code",
   "execution_count": 6,
   "metadata": {},
   "outputs": [],
   "source": [
    "import pandas as pd\n",
    "import numpy as np"
   ]
  },
  {
   "cell_type": "code",
   "execution_count": 7,
   "metadata": {},
   "outputs": [
    {
     "data": {
      "text/plain": [
       "121220"
      ]
     },
     "execution_count": 7,
     "metadata": {},
     "output_type": "execute_result"
    }
   ],
   "source": [
    "#Leemos el dataSet:\n",
    "df_properati = pd.read_csv(\"../Data/properatti.csv\")\n",
    "df_properati.shape[0]"
   ]
  },
  {
   "cell_type": "code",
   "execution_count": 8,
   "metadata": {},
   "outputs": [],
   "source": [
    "#Eliminamos la columna Unanmed:0\n",
    "df_properati = df_properati.drop(['Unnamed: 0'], axis = 1)\n"
   ]
  },
  {
   "cell_type": "code",
   "execution_count": 10,
   "metadata": {},
   "outputs": [
    {
     "data": {
      "text/plain": [
       "operation                      object\n",
       "property_type                  object\n",
       "place_name                     object\n",
       "place_with_parent_names        object\n",
       "country_name                   object\n",
       "state_name                     object\n",
       "geonames_id                   float64\n",
       "lat-lon                        object\n",
       "lat                           float64\n",
       "lon                           float64\n",
       "price                         float64\n",
       "currency                       object\n",
       "price_aprox_local_currency    float64\n",
       "price_aprox_usd               float64\n",
       "surface_total_in_m2           float64\n",
       "surface_covered_in_m2         float64\n",
       "price_usd_per_m2              float64\n",
       "price_per_m2                  float64\n",
       "floor                         float64\n",
       "rooms                         float64\n",
       "expenses                      float64\n",
       "properati_url                  object\n",
       "description                    object\n",
       "title                          object\n",
       "image_thumbnail                object\n",
       "dtype: object"
      ]
     },
     "execution_count": 10,
     "metadata": {},
     "output_type": "execute_result"
    }
   ],
   "source": [
    "#Obervamos los tipos de datos:\n",
    "df_properati.dtypes"
   ]
  },
  {
   "cell_type": "code",
   "execution_count": 11,
   "metadata": {},
   "outputs": [
    {
     "data": {
      "text/plain": [
       "Index(['operation', 'property_type', 'place_name', 'place_with_parent_names',\n",
       "       'country_name', 'state_name', 'geonames_id', 'lat-lon', 'lat', 'lon',\n",
       "       'price', 'currency', 'price_aprox_local_currency', 'price_aprox_usd',\n",
       "       'surface_total_in_m2', 'surface_covered_in_m2', 'price_usd_per_m2',\n",
       "       'price_per_m2', 'floor', 'rooms', 'expenses', 'properati_url',\n",
       "       'description', 'title', 'image_thumbnail'],\n",
       "      dtype='object')"
      ]
     },
     "execution_count": 11,
     "metadata": {},
     "output_type": "execute_result"
    }
   ],
   "source": [
    "df_properati.columns"
   ]
  },
  {
   "cell_type": "code",
   "execution_count": 12,
   "metadata": {},
   "outputs": [],
   "source": [
    "#Renombraremos los nombres de las columnas:\n",
    "#nombre_columnas = ['Operación','Tipo Propiedad', '' ]\n",
    "#df_properati.rename(nombre_columnas)"
   ]
  },
  {
   "cell_type": "code",
   "execution_count": 13,
   "metadata": {},
   "outputs": [],
   "source": [
    "#Convertimos en minusculas los datos  tipo object\n",
    "# currency contienen valores NaN( float) por tanto es necesario pasarlo todo a string para luego cambiar a lower\n",
    "for columna in df_properati:\n",
    "    if df_properati[columna].dtype == object:\n",
    "        df_properati[columna] = df_properati[columna].astype(str).map(str.lower)\n"
   ]
  },
  {
   "cell_type": "code",
   "execution_count": 14,
   "metadata": {},
   "outputs": [],
   "source": [
    "#observamos columnas que poseen el mismo valor, si la cantidad es df.shpae[0]-1 eliminamos e informamos\n",
    "def valores_comunes(df):\n",
    "    len_df = df.shape[0]\n",
    "    for columna in df:\n",
    "        val_duplicados = df[columna].duplicated().sum()\n",
    "        if len_df - val_duplicados == 1:\n",
    "            print('{} --->{} ---> ELIMINADO'.format(columna,df[columna][0]))\n",
    "            df = df.drop([columna], axis =1)\n",
    "    return df"
   ]
  },
  {
   "cell_type": "code",
   "execution_count": 15,
   "metadata": {},
   "outputs": [
    {
     "name": "stdout",
     "output_type": "stream",
     "text": [
      "operation --->sell ---> ELIMINADO\n",
      "country_name --->argentina ---> ELIMINADO\n"
     ]
    }
   ],
   "source": [
    "df_properati = valores_comunes(df_properati)"
   ]
  },
  {
   "cell_type": "code",
   "execution_count": 16,
   "metadata": {},
   "outputs": [],
   "source": [
    "# Luego de eliminar las columnas repetidas y que no aportan valores significativos( columna UNAME:0,country_name )\n",
    "#guardamos este dataset:\n",
    "df_properati.to_csv('../Data/properati_1.csv',index=False)"
   ]
  },
  {
   "cell_type": "code",
   "execution_count": null,
   "metadata": {
    "collapsed": true
   },
   "outputs": [],
   "source": []
  }
 ],
 "metadata": {
  "kernelspec": {
   "display_name": "Python 3",
   "language": "python",
   "name": "python3"
  },
  "language_info": {
   "codemirror_mode": {
    "name": "ipython",
    "version": 3
   },
   "file_extension": ".py",
   "mimetype": "text/x-python",
   "name": "python",
   "nbconvert_exporter": "python",
   "pygments_lexer": "ipython3",
   "version": "3.7.3"
  }
 },
 "nbformat": 4,
 "nbformat_minor": 2
}
