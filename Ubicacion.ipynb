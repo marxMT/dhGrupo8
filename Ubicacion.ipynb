{
 "cells": [
  {
   "cell_type": "code",
   "execution_count": 2,
   "metadata": {
    "collapsed": false
   },
   "outputs": [],
   "source": [
    "import pandas as pd\n",
    "import numpy as np\n",
    "import seaborn as sns\n",
    "%matplotlib inline\n",
    "import matplotlib.pyplot as plt"
   ]
  },
  {
   "cell_type": "code",
   "execution_count": 69,
   "metadata": {
    "collapsed": true
   },
   "outputs": [],
   "source": [
    "#MOdificamos algunos parametros de plt\n",
    "plt.rcParams['figure.figsize'] = (10,10) # 20 pulgadas de ancho y 20 de alto para todos los plots( modificamos el tamaño de las graficas"
   ]
  },
  {
   "cell_type": "markdown",
   "metadata": {},
   "source": [
    "### Objetivo:\n",
    "        # Análisis de columnas place_name\tplace_with_parent_names\tstate_name y definir los niveles  de ubicación geográfica para nuestro modelo"
   ]
  },
  {
   "cell_type": "code",
   "execution_count": 145,
   "metadata": {
    "collapsed": false
   },
   "outputs": [],
   "source": [
    "#Importamos el dataSet\n",
    "df_properati = pd.read_csv('../Data/properati_1.csv')\n",
    "df_properati.head()"
   ]
  },
  {
   "cell_type": "code",
   "execution_count": 1,
   "metadata": {
    "collapsed": false
   },
   "outputs": [],
   "source": [
    "#Extraemos las columnas :'place_with_parent_names', 'place_name','state_name' y analizamos \n",
    "df_ciudad = df_properati.loc[:,['place_with_parent_names','state_name','place_name']]\n",
    "df_ciudad.head()"
   ]
  },
  {
   "cell_type": "code",
   "execution_count": 28,
   "metadata": {
    "collapsed": true
   },
   "outputs": [],
   "source": [
    "#Anlizamos valores nulos de cada columna:\n",
    "def valores_nulos(df):\n",
    "    for columna in df:\n",
    "        print('{}--->{}'.format(columna, df[columna].isna().sum()))"
   ]
  },
  {
   "cell_type": "code",
   "execution_count": 2,
   "metadata": {
    "collapsed": false
   },
   "outputs": [],
   "source": [
    "valores_nulos(df_ciudad)"
   ]
  },
  {
   "cell_type": "code",
   "execution_count": 5,
   "metadata": {
    "collapsed": false
   },
   "outputs": [],
   "source": [
    "#Dividismo el campo df_ciudad para comparar con las columnas state_name y place_name\n",
    "df_div = df_ciudad['place_with_parent_names'].apply(lambda x: pd.Series(x.split('|')))\n",
    "df_div.head()"
   ]
  },
  {
   "cell_type": "code",
   "execution_count": 6,
   "metadata": {
    "collapsed": false
   },
   "outputs": [],
   "source": [
    "#Concatenamos df_ciudad con df_div\n",
    "df_ciudad_2 = pd.concat([df_ciudad, df_div], axis = 1)\n",
    "df_ciudad_2.head()"
   ]
  },
  {
   "cell_type": "code",
   "execution_count": 7,
   "metadata": {
    "collapsed": false
   },
   "outputs": [],
   "source": [
    "#anlizamos valores nuños para las columnas 2,3,4,5,6\n",
    "valores_nulos(df_ciudad_2.loc[:,[2,3,4,5,6]])"
   ]
  },
  {
   "cell_type": "code",
   "execution_count": 35,
   "metadata": {
    "collapsed": false
   },
   "outputs": [],
   "source": [
    "#Observamos que la columna 5,6 tienen un gran porcentaje de valores nulos, decidimos eliminarlo.\n",
    "df_ciudad_2 = df_ciudad_2.drop([0,1,5,6], axis = 1)"
   ]
  },
  {
   "cell_type": "code",
   "execution_count": 44,
   "metadata": {
    "collapsed": false
   },
   "outputs": [],
   "source": [
    "#comparamos valores 'state_name' 'place_name' con los calores que resultaron de dividir place_with_parent_names\n",
    "def columnas_diferentes(df, columnas):\n",
    "    \n",
    "    print(\"Se tienen {} valores distintos entre {} y {}\".format(df[df[columnas[0]]!=df[columnas[1]]].shape[0], columnas[0], columnas[1]))\n",
    "    "
   ]
  },
  {
   "cell_type": "code",
   "execution_count": 45,
   "metadata": {
    "collapsed": false
   },
   "outputs": [
    {
     "data": {
      "text/plain": [
       "0"
      ]
     },
     "execution_count": 45,
     "metadata": {},
     "output_type": "execute_result"
    }
   ],
   "source": [
    "df_ciudad_2[df_ciudad_2['state_name']!=df_ciudad_2[2]].shape[0]"
   ]
  },
  {
   "cell_type": "code",
   "execution_count": 47,
   "metadata": {
    "collapsed": false
   },
   "outputs": [
    {
     "name": "stdout",
     "output_type": "stream",
     "text": [
      "Se tienen 0 valores distintos entre state_name y 2\n",
      "Se tienen 35193 valores distintos entre place_name y 3\n"
     ]
    }
   ],
   "source": [
    "columnas_diferentes(df_ciudad_2, ['state_name',2])\n",
    "columnas_diferentes(df_ciudad_2, ['state_name',3])"
   ]
  },
  {
   "cell_type": "code",
   "execution_count": 56,
   "metadata": {
    "collapsed": false
   },
   "outputs": [
    {
     "data": {
      "text/plain": [
       "0"
      ]
     },
     "execution_count": 56,
     "metadata": {},
     "output_type": "execute_result"
    }
   ],
   "source": [
    "#inspeccionamos valores nulos de la columna 3 \n",
    "df_ciudad_2[3].isna().sum()\n",
    "# Observamos que  el campo place_name tenia 23 valores nulos"
   ]
  },
  {
   "cell_type": "code",
   "execution_count": 111,
   "metadata": {
    "collapsed": true
   },
   "outputs": [],
   "source": [
    "df_ciudad_2 = df_ciudad_2.loc[:,[2,3,4]]"
   ]
  },
  {
   "cell_type": "code",
   "execution_count": 113,
   "metadata": {
    "collapsed": true
   },
   "outputs": [],
   "source": [
    "#OJO:Aqui tenemos que eliminar las columnas 'state_name' ,'place_name' y 'whit_name_...' y concatenar df_ciudad2\n"
   ]
  },
  {
   "cell_type": "code",
   "execution_count": 70,
   "metadata": {
    "collapsed": false
   },
   "outputs": [
    {
     "data": {
      "text/plain": [
       "<matplotlib.axes._subplots.AxesSubplot at 0x7f84a95cb128>"
      ]
     },
     "execution_count": 70,
     "metadata": {},
     "output_type": "execute_result"
    },
    {
     "data": {
      "image/png": "[encoded data removed]",
      "text/plain": [
       "<Figure size 720x720 with 1 Axes>"
      ]
     },
     "metadata": {},
     "output_type": "display_data"
    }
   ],
   "source": [
    "#Veamos una grafica de que Provincia tiene mayor publicaciones\n",
    "df_ciudad_2[2].value_counts(normalize=True).plot.barh()"
   ]
  },
  {
   "cell_type": "markdown",
   "metadata": {},
   "source": [
    "## CONCLUSION:\n",
    "##### Eliminamos las columas 'state_name', 'place_name' del DataSet\n",
    "##### COnservamos la columna 'place_with_parent_names', y trabajamos con el nivel de ubicacion que el nos proporciona:\n",
    "        |- Pais\n",
    "            |- Provincia\n",
    "                |-Partidos-Departamentos\n",
    "                    |-Municipio"
   ]
  },
  {
   "cell_type": "markdown",
   "metadata": {},
   "source": [
    "## Objetivo:\n",
    "   ##### - Comparar valores de las columnas lat, lon, y 'lat-lon' (valores nulos, igualdad)"
   ]
  },
  {
   "cell_type": "code",
   "execution_count": 87,
   "metadata": {
    "collapsed": false
   },
   "outputs": [
    {
     "data": {
      "text/html": [
       "<div>\n",
       "<style scoped>\n",
       "    .dataframe tbody tr th:only-of-type {\n",
       "        vertical-align: middle;\n",
       "    }\n",
       "\n",
       "    .dataframe tbody tr th {\n",
       "        vertical-align: top;\n",
       "    }\n",
       "\n",
       "    .dataframe thead th {\n",
       "        text-align: right;\n",
       "    }\n",
       "</style>\n",
       "<table border=\"1\" class=\"dataframe\">\n",
       "  <thead>\n",
       "    <tr style=\"text-align: right;\">\n",
       "      <th></th>\n",
       "      <th>lat-lon</th>\n",
       "      <th>lat</th>\n",
       "      <th>lon</th>\n",
       "    </tr>\n",
       "  </thead>\n",
       "  <tbody>\n",
       "    <tr>\n",
       "      <th>0</th>\n",
       "      <td>-34.6618237,-58.5088387</td>\n",
       "      <td>-34.661824</td>\n",
       "      <td>-58.508839</td>\n",
       "    </tr>\n",
       "    <tr>\n",
       "      <th>1</th>\n",
       "      <td>-34.9038831,-57.9643295</td>\n",
       "      <td>-34.903883</td>\n",
       "      <td>-57.964330</td>\n",
       "    </tr>\n",
       "    <tr>\n",
       "      <th>2</th>\n",
       "      <td>-34.6522615,-58.5229825</td>\n",
       "      <td>-34.652262</td>\n",
       "      <td>-58.522982</td>\n",
       "    </tr>\n",
       "    <tr>\n",
       "      <th>3</th>\n",
       "      <td>-34.6477969,-58.5164244</td>\n",
       "      <td>-34.647797</td>\n",
       "      <td>-58.516424</td>\n",
       "    </tr>\n",
       "    <tr>\n",
       "      <th>4</th>\n",
       "      <td>-38.0026256,-57.5494468</td>\n",
       "      <td>-38.002626</td>\n",
       "      <td>-57.549447</td>\n",
       "    </tr>\n",
       "  </tbody>\n",
       "</table>\n",
       "</div>"
      ],
      "text/plain": [
       "                   lat-lon        lat        lon\n",
       "0  -34.6618237,-58.5088387 -34.661824 -58.508839\n",
       "1  -34.9038831,-57.9643295 -34.903883 -57.964330\n",
       "2  -34.6522615,-58.5229825 -34.652262 -58.522982\n",
       "3  -34.6477969,-58.5164244 -34.647797 -58.516424\n",
       "4  -38.0026256,-57.5494468 -38.002626 -57.549447"
      ]
     },
     "execution_count": 87,
     "metadata": {},
     "output_type": "execute_result"
    }
   ],
   "source": [
    "# TOmamos  en un data frame las columnas en estudio\n",
    "df_lat_lon = df_properati.loc[:,['lat-lon','lat','lon']]\n",
    "df_lat_lon.head()"
   ]
  },
  {
   "cell_type": "code",
   "execution_count": 75,
   "metadata": {
    "collapsed": false
   },
   "outputs": [
    {
     "name": "stdout",
     "output_type": "stream",
     "text": [
      "lat-lon--->51550\n",
      "lat--->51550\n",
      "lon--->51550\n"
     ]
    }
   ],
   "source": [
    "#Analizamos valores nulos en cada columna:\n",
    "valores_nulos(df_lat_lon)"
   ]
  },
  {
   "cell_type": "code",
   "execution_count": 86,
   "metadata": {
    "collapsed": false
   },
   "outputs": [
    {
     "data": {
      "text/html": [
       "<div>\n",
       "<style scoped>\n",
       "    .dataframe tbody tr th:only-of-type {\n",
       "        vertical-align: middle;\n",
       "    }\n",
       "\n",
       "    .dataframe tbody tr th {\n",
       "        vertical-align: top;\n",
       "    }\n",
       "\n",
       "    .dataframe thead th {\n",
       "        text-align: right;\n",
       "    }\n",
       "</style>\n",
       "<table border=\"1\" class=\"dataframe\">\n",
       "  <thead>\n",
       "    <tr style=\"text-align: right;\">\n",
       "      <th></th>\n",
       "      <th>0</th>\n",
       "      <th>1</th>\n",
       "    </tr>\n",
       "  </thead>\n",
       "  <tbody>\n",
       "    <tr>\n",
       "      <th>0</th>\n",
       "      <td>-34.6618237</td>\n",
       "      <td>-58.5088387</td>\n",
       "    </tr>\n",
       "    <tr>\n",
       "      <th>1</th>\n",
       "      <td>-34.9038831</td>\n",
       "      <td>-57.9643295</td>\n",
       "    </tr>\n",
       "    <tr>\n",
       "      <th>2</th>\n",
       "      <td>-34.6522615</td>\n",
       "      <td>-58.5229825</td>\n",
       "    </tr>\n",
       "    <tr>\n",
       "      <th>3</th>\n",
       "      <td>-34.6477969</td>\n",
       "      <td>-58.5164244</td>\n",
       "    </tr>\n",
       "    <tr>\n",
       "      <th>4</th>\n",
       "      <td>-38.0026256</td>\n",
       "      <td>-57.5494468</td>\n",
       "    </tr>\n",
       "  </tbody>\n",
       "</table>\n",
       "</div>"
      ],
      "text/plain": [
       "             0            1\n",
       "0  -34.6618237  -58.5088387\n",
       "1  -34.9038831  -57.9643295\n",
       "2  -34.6522615  -58.5229825\n",
       "3  -34.6477969  -58.5164244\n",
       "4  -38.0026256  -57.5494468"
      ]
     },
     "execution_count": 86,
     "metadata": {},
     "output_type": "execute_result"
    }
   ],
   "source": [
    "#Dividismo valores lat-lon para poder comparar independientemente con lat y lon\n",
    "df_lat_lon['lat_lon']= df_lat_lon['lat-lon'].astype(str)\n",
    "df_div_lat_lon = df_lat_lon['lat_lon'].apply(lambda x:pd.Series(x.split(',')))\n",
    "df_div_lat_lon.head()"
   ]
  },
  {
   "cell_type": "code",
   "execution_count": null,
   "metadata": {
    "collapsed": false
   },
   "outputs": [],
   "source": [
    "#Concatenamos\n",
    "df_coord= pd.concat([df_lat_lon,df_div_lat_lon], axis = 1)\n"
   ]
  },
  {
   "cell_type": "code",
   "execution_count": 93,
   "metadata": {
    "collapsed": false
   },
   "outputs": [],
   "source": [
    "# convertimos en float el data frame y lo redondeamos a 4 decimas\n",
    "df_coord = df_coord.drop(['lat-lon'], axis = 1)"
   ]
  },
  {
   "cell_type": "code",
   "execution_count": 106,
   "metadata": {
    "collapsed": false
   },
   "outputs": [
    {
     "data": {
      "text/html": [
       "<div>\n",
       "<style scoped>\n",
       "    .dataframe tbody tr th:only-of-type {\n",
       "        vertical-align: middle;\n",
       "    }\n",
       "\n",
       "    .dataframe tbody tr th {\n",
       "        vertical-align: top;\n",
       "    }\n",
       "\n",
       "    .dataframe thead th {\n",
       "        text-align: right;\n",
       "    }\n",
       "</style>\n",
       "<table border=\"1\" class=\"dataframe\">\n",
       "  <thead>\n",
       "    <tr style=\"text-align: right;\">\n",
       "      <th></th>\n",
       "      <th>lat</th>\n",
       "      <th>lon</th>\n",
       "      <th>0</th>\n",
       "      <th>1</th>\n",
       "    </tr>\n",
       "  </thead>\n",
       "  <tbody>\n",
       "    <tr>\n",
       "      <th>count</th>\n",
       "      <td>44662.000000</td>\n",
       "      <td>44662.000000</td>\n",
       "      <td>44662.000000</td>\n",
       "      <td>44662.000000</td>\n",
       "    </tr>\n",
       "    <tr>\n",
       "      <th>mean</th>\n",
       "      <td>-34.583139</td>\n",
       "      <td>-59.376805</td>\n",
       "      <td>-34.583139</td>\n",
       "      <td>-59.376805</td>\n",
       "    </tr>\n",
       "    <tr>\n",
       "      <th>std</th>\n",
       "      <td>2.093952</td>\n",
       "      <td>2.450862</td>\n",
       "      <td>2.093952</td>\n",
       "      <td>2.450862</td>\n",
       "    </tr>\n",
       "    <tr>\n",
       "      <th>min</th>\n",
       "      <td>-54.824000</td>\n",
       "      <td>-75.678900</td>\n",
       "      <td>-54.824000</td>\n",
       "      <td>-75.678900</td>\n",
       "    </tr>\n",
       "    <tr>\n",
       "      <th>25%</th>\n",
       "      <td>-34.707500</td>\n",
       "      <td>-58.789800</td>\n",
       "      <td>-34.707500</td>\n",
       "      <td>-58.789800</td>\n",
       "    </tr>\n",
       "    <tr>\n",
       "      <th>50%</th>\n",
       "      <td>-34.602000</td>\n",
       "      <td>-58.490900</td>\n",
       "      <td>-34.602000</td>\n",
       "      <td>-58.490900</td>\n",
       "    </tr>\n",
       "    <tr>\n",
       "      <th>75%</th>\n",
       "      <td>-34.451725</td>\n",
       "      <td>-58.394700</td>\n",
       "      <td>-34.451725</td>\n",
       "      <td>-58.394700</td>\n",
       "    </tr>\n",
       "    <tr>\n",
       "      <th>max</th>\n",
       "      <td>4.545800</td>\n",
       "      <td>-53.733300</td>\n",
       "      <td>4.545800</td>\n",
       "      <td>-53.733300</td>\n",
       "    </tr>\n",
       "  </tbody>\n",
       "</table>\n",
       "</div>"
      ],
      "text/plain": [
       "                lat           lon             0             1\n",
       "count  44662.000000  44662.000000  44662.000000  44662.000000\n",
       "mean     -34.583139    -59.376805    -34.583139    -59.376805\n",
       "std        2.093952      2.450862      2.093952      2.450862\n",
       "min      -54.824000    -75.678900    -54.824000    -75.678900\n",
       "25%      -34.707500    -58.789800    -34.707500    -58.789800\n",
       "50%      -34.602000    -58.490900    -34.602000    -58.490900\n",
       "75%      -34.451725    -58.394700    -34.451725    -58.394700\n",
       "max        4.545800    -53.733300      4.545800    -53.733300"
      ]
     },
     "execution_count": 106,
     "metadata": {},
     "output_type": "execute_result"
    }
   ],
   "source": [
    "df_coord= df_coord.astype(float)\n",
    "df_coord = df_coord.round(4)\n",
    "#Observamos algunos descriptivos:\n",
    "df_coord.describe()"
   ]
  },
  {
   "cell_type": "markdown",
   "metadata": {},
   "source": [
    "#### Podemos Observar que lat y 0 poseen los mismo valores, que lon y 1 poseen los mismo valores\n",
    "##### Inspeccionamos "
   ]
  },
  {
   "cell_type": "code",
   "execution_count": 95,
   "metadata": {
    "collapsed": false
   },
   "outputs": [],
   "source": [
    "df_coord= df_coord.astype(float)\n",
    "df_coord = df_coord.round(4)\n",
    "#Eliminamos valores duplicados:\n",
    "df_coord = df_coord.drop_duplicates()"
   ]
  },
  {
   "cell_type": "code",
   "execution_count": 97,
   "metadata": {
    "collapsed": false
   },
   "outputs": [
    {
     "name": "stdout",
     "output_type": "stream",
     "text": [
      "lat--->1\n",
      "lon--->1\n",
      "0--->1\n",
      "1--->1\n"
     ]
    }
   ],
   "source": [
    "#valores nulso en este nuevo dataFrame:\n",
    "valores_nulos(df_coord)"
   ]
  },
  {
   "cell_type": "code",
   "execution_count": 101,
   "metadata": {
    "collapsed": false
   },
   "outputs": [
    {
     "data": {
      "text/html": [
       "<div>\n",
       "<style scoped>\n",
       "    .dataframe tbody tr th:only-of-type {\n",
       "        vertical-align: middle;\n",
       "    }\n",
       "\n",
       "    .dataframe tbody tr th {\n",
       "        vertical-align: top;\n",
       "    }\n",
       "\n",
       "    .dataframe thead th {\n",
       "        text-align: right;\n",
       "    }\n",
       "</style>\n",
       "<table border=\"1\" class=\"dataframe\">\n",
       "  <thead>\n",
       "    <tr style=\"text-align: right;\">\n",
       "      <th></th>\n",
       "      <th>lat</th>\n",
       "      <th>lon</th>\n",
       "      <th>0</th>\n",
       "      <th>1</th>\n",
       "    </tr>\n",
       "  </thead>\n",
       "  <tbody>\n",
       "    <tr>\n",
       "      <th>13</th>\n",
       "      <td>NaN</td>\n",
       "      <td>NaN</td>\n",
       "      <td>NaN</td>\n",
       "      <td>NaN</td>\n",
       "    </tr>\n",
       "  </tbody>\n",
       "</table>\n",
       "</div>"
      ],
      "text/plain": [
       "    lat  lon   0   1\n",
       "13  NaN  NaN NaN NaN"
      ]
     },
     "execution_count": 101,
     "metadata": {},
     "output_type": "execute_result"
    }
   ],
   "source": [
    "#OBSERVAMOS QUE LOS VALORES DISTINTOS:\n",
    "df_coord[df_coord['lat'] != df_coord[0]]"
   ]
  },
  {
   "cell_type": "markdown",
   "metadata": {},
   "source": [
    "# Conclusión\n",
    "#### Observamos que la columna 'lon-lat' tienes los mismo valores que 'lon' y 'lat'\n",
    "#### Nos quedamos con las columnas 'lon', 'lat' para consultar  ubicacion en: https://datosgobar.github.io/georef-ar-api/\n",
    "#### Eliminamos la columna 'lat-lon'"
   ]
  },
  {
   "cell_type": "code",
   "execution_count": 107,
   "metadata": {
    "collapsed": true
   },
   "outputs": [],
   "source": [
    "#COmpletamos los valores restantes de ubicacion(Municipio)\n",
    "import requests\n",
    "import json\n",
    "import time\n",
    "from pandas.io.json import json_normalize"
   ]
  },
  {
   "cell_type": "code",
   "execution_count": 108,
   "metadata": {
    "collapsed": true
   },
   "outputs": [],
   "source": [
    "def consumir_api(row):\n",
    "    try:\n",
    "        url = 'https://apis.datos.gob.ar/georef/api/ubicacion?lat='+ str(row['lat']) + '&lon=' + str(row['lon'])\n",
    "        response = (requests.get(url).text)\n",
    "        response_json = json.loads(response)\n",
    "        return response_json\n",
    "    except Exception as e:\n",
    "        raise e"
   ]
  },
  {
   "cell_type": "code",
   "execution_count": 140,
   "metadata": {
    "collapsed": false
   },
   "outputs": [],
   "source": [
    "#Concatenamos df_ciudad_2 con df_properati[lat, lon]\n",
    "df_local_coor = pd.concat([df_ciudad_2,df_properati.loc[:,['lat', 'lon']]], axis = 1)"
   ]
  },
  {
   "cell_type": "code",
   "execution_count": 141,
   "metadata": {
    "collapsed": false
   },
   "outputs": [],
   "source": [
    "#SOlo nos interesa completar valores de la columna 4:\n",
    "df_local_coor = df_local_coor[df_local_coor[4].isna() |(df_local_coor[4]=='')]"
   ]
  },
  {
   "cell_type": "code",
   "execution_count": 142,
   "metadata": {
    "collapsed": false
   },
   "outputs": [],
   "source": [
    "#liminamos df con lat, lon en nan\n",
    "df_local_coor = df_local_coor[df_local_coor['lat'].notna() |(df_local_coor['lon'].notna())]"
   ]
  },
  {
   "cell_type": "code",
   "execution_count": 144,
   "metadata": {
    "collapsed": false
   },
   "outputs": [
    {
     "data": {
      "text/plain": [
       "50692"
      ]
     },
     "execution_count": 144,
     "metadata": {},
     "output_type": "execute_result"
    }
   ],
   "source": [
    "df_local_coor.shape[0]"
   ]
  },
  {
   "cell_type": "code",
   "execution_count": null,
   "metadata": {
    "collapsed": true
   },
   "outputs": [],
   "source": [
    "# Consultamos en la api estos valores de dataframe\n",
    "df_local_coor['api'] = df_local_coor.apply(consumir_api, axis = 1)\n",
    "df_local_coor['api']"
   ]
  },
  {
   "cell_type": "code",
   "execution_count": null,
   "metadata": {
    "collapsed": true
   },
   "outputs": [],
   "source": [
    "#Normalizamos JSON en el DATAFRAME\n",
    "df = json_normalize(df_local_coor['api'])"
   ]
  }
 ],
 "metadata": {
  "kernelspec": {
   "display_name": "Python 3",
   "language": "python",
   "name": "python3"
  },
  "language_info": {
   "codemirror_mode": {
    "name": "ipython",
    "version": 3
   },
   "file_extension": ".py",
   "mimetype": "text/x-python",
   "name": "python",
   "nbconvert_exporter": "python",
   "pygments_lexer": "ipython3",
   "version": "3.5.3"
  }
 },
 "nbformat": 4,
 "nbformat_minor": 2
}
