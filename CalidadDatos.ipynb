{
 "cells": [
  {
   "cell_type": "code",
   "execution_count": 1,
   "metadata": {},
   "outputs": [
    {
     "name": "stdout",
     "output_type": "stream",
     "text": [
      "2019-09-05T07:09:33-03:00\n",
      "\n",
      "CPython 3.5.3\n",
      "IPython 7.8.0\n",
      "\n",
      "compiler   : GCC 6.3.0 20170516\n",
      "system     : Linux\n",
      "release    : 4.9.0-8-amd64\n",
      "machine    : x86_64\n",
      "processor  : \n",
      "CPU cores  : 4\n",
      "interpreter: 64bit\n"
     ]
    }
   ],
   "source": [
    "%load_ext watermark\n",
    "%watermark"
   ]
  },
  {
   "cell_type": "markdown",
   "metadata": {},
   "source": [
    "### en este proceso Anlizamos valores duplicados, elementos vacios, y columnas que afectaran al modelo.\n",
    "#### Ayer trabajamos en entender la  estructura del campo place_with_parent_names,"
   ]
  },
  {
   "cell_type": "code",
   "execution_count": 9,
   "metadata": {},
   "outputs": [],
   "source": [
    "import pandas as pd\n",
    "import numpy as np\n",
    "from scipy import stats"
   ]
  },
  {
   "cell_type": "markdown",
   "metadata": {},
   "source": [
    "# ¿Quien influye en mi modelo?\n",
    "## Tipo de Propiedad\n",
    "## Ubicacion:\n",
    "        ### TOmamos como referencia  columna \"place_with_parent_name\":\n",
    "        \n",
    "                "
   ]
  },
  {
   "cell_type": "code",
   "execution_count": 10,
   "metadata": {},
   "outputs": [],
   "source": [
    "import matplotlib.pyplot as plt\n",
    "%matplotlib inline\n",
    "\n",
    "#plt.rcParams['figure.figsize'] = (5,5)s # 10 pulgadas de ancho y 10 de alto para todos los plots( modificamos el tamaño de las graficas"
   ]
  },
  {
   "cell_type": "code",
   "execution_count": 11,
   "metadata": {},
   "outputs": [],
   "source": [
    "# En el paso anterior eliminamos las columnas que no afectaran a nuestro modelo futuro; tomamos como dataSet el guardado en paso anterior\n",
    "df_properati = pd.read_csv('../Data/properati_1.csv')\n"
   ]
  },
  {
   "cell_type": "code",
   "execution_count": 12,
   "metadata": {},
   "outputs": [
    {
     "data": {
      "text/html": [
       "<div>\n",
       "<style scoped>\n",
       "    .dataframe tbody tr th:only-of-type {\n",
       "        vertical-align: middle;\n",
       "    }\n",
       "\n",
       "    .dataframe tbody tr th {\n",
       "        vertical-align: top;\n",
       "    }\n",
       "\n",
       "    .dataframe thead th {\n",
       "        text-align: right;\n",
       "    }\n",
       "</style>\n",
       "<table border=\"1\" class=\"dataframe\">\n",
       "  <thead>\n",
       "    <tr style=\"text-align: right;\">\n",
       "      <th></th>\n",
       "      <th>property_type</th>\n",
       "      <th>place_name</th>\n",
       "      <th>place_with_parent_names</th>\n",
       "      <th>state_name</th>\n",
       "      <th>geonames_id</th>\n",
       "      <th>lat-lon</th>\n",
       "      <th>lat</th>\n",
       "      <th>lon</th>\n",
       "      <th>price</th>\n",
       "      <th>currency</th>\n",
       "      <th>...</th>\n",
       "      <th>surface_covered_in_m2</th>\n",
       "      <th>price_usd_per_m2</th>\n",
       "      <th>price_per_m2</th>\n",
       "      <th>floor</th>\n",
       "      <th>rooms</th>\n",
       "      <th>expenses</th>\n",
       "      <th>properati_url</th>\n",
       "      <th>description</th>\n",
       "      <th>title</th>\n",
       "      <th>image_thumbnail</th>\n",
       "    </tr>\n",
       "  </thead>\n",
       "  <tbody>\n",
       "    <tr>\n",
       "      <th>59822</th>\n",
       "      <td>house</td>\n",
       "      <td>haedo</td>\n",
       "      <td>|argentina|bs.as. g.b.a. zona oeste|morón|haedo|</td>\n",
       "      <td>bs.as. g.b.a. zona oeste</td>\n",
       "      <td>NaN</td>\n",
       "      <td>NaN</td>\n",
       "      <td>NaN</td>\n",
       "      <td>NaN</td>\n",
       "      <td>160000.0</td>\n",
       "      <td>usd</td>\n",
       "      <td>...</td>\n",
       "      <td>90.0</td>\n",
       "      <td>571.428571</td>\n",
       "      <td>1777.777778</td>\n",
       "      <td>NaN</td>\n",
       "      <td>3.0</td>\n",
       "      <td>NaN</td>\n",
       "      <td>http://www.properati.com.ar/19y03_venta_casa_h...</td>\n",
       "      <td>casa americana ideal modernizar . liv. com. co...</td>\n",
       "      <td>casa  en venta haedo / moron (a195 1928)</td>\n",
       "      <td>https://thumbs4.properati.com/9/ivqgkjhjls3ota...</td>\n",
       "    </tr>\n",
       "  </tbody>\n",
       "</table>\n",
       "<p>1 rows × 23 columns</p>\n",
       "</div>"
      ],
      "text/plain": [
       "      property_type place_name  \\\n",
       "59822         house      haedo   \n",
       "\n",
       "                                place_with_parent_names  \\\n",
       "59822  |argentina|bs.as. g.b.a. zona oeste|morón|haedo|   \n",
       "\n",
       "                     state_name  geonames_id lat-lon  lat  lon     price  \\\n",
       "59822  bs.as. g.b.a. zona oeste          NaN     NaN  NaN  NaN  160000.0   \n",
       "\n",
       "      currency  ...  surface_covered_in_m2  price_usd_per_m2  price_per_m2  \\\n",
       "59822      usd  ...                   90.0        571.428571   1777.777778   \n",
       "\n",
       "       floor  rooms  expenses  \\\n",
       "59822    NaN    3.0       NaN   \n",
       "\n",
       "                                           properati_url  \\\n",
       "59822  http://www.properati.com.ar/19y03_venta_casa_h...   \n",
       "\n",
       "                                             description  \\\n",
       "59822  casa americana ideal modernizar . liv. com. co...   \n",
       "\n",
       "                                          title  \\\n",
       "59822  casa  en venta haedo / moron (a195 1928)   \n",
       "\n",
       "                                         image_thumbnail  \n",
       "59822  https://thumbs4.properati.com/9/ivqgkjhjls3ota...  \n",
       "\n",
       "[1 rows x 23 columns]"
      ]
     },
     "execution_count": 12,
     "metadata": {},
     "output_type": "execute_result"
    }
   ],
   "source": [
    "df_properati.sample()"
   ]
  },
  {
   "cell_type": "code",
   "execution_count": 13,
   "metadata": {},
   "outputs": [
    {
     "data": {
      "text/plain": [
       "8504"
      ]
     },
     "execution_count": 13,
     "metadata": {},
     "output_type": "execute_result"
    }
   ],
   "source": [
    "df_properati['geonames_id'].value_counts().iloc[0]"
   ]
  },
  {
   "cell_type": "markdown",
   "metadata": {},
   "source": [
    "# VALORES  DUPLICADOS"
   ]
  },
  {
   "cell_type": "code",
   "execution_count": 14,
   "metadata": {},
   "outputs": [],
   "source": [
    "#Vemos la cantidad de valores repetidos por cada columna:\n",
    "def duplicados_columna(df):\n",
    "        \"\"\"Muestra elementos duplicados\"\"\"\n",
    "        len_df = df.shape[0]\n",
    "        for columna in df:\n",
    "            duplicados_columna = df[columna].value_counts()\n",
    "            mayor_duplic = duplicados_columna.iloc[0]\n",
    "            menor_duplic = duplicados_columna.iloc[-1]\n",
    "            print(\"{} ----{}--{}--{}\".format(columna,round(mayor_duplic/(1.0 * len_df),3),round(menor_duplic/(1.0*len_df),3), df[columna].dtype))    \n"
   ]
  },
  {
   "cell_type": "code",
   "execution_count": 15,
   "metadata": {},
   "outputs": [
    {
     "name": "stdout",
     "output_type": "stream",
     "text": [
      "property_type ----0.586--0.034--object\n",
      "place_name ----0.076--0.0--object\n",
      "place_with_parent_names ----0.07--0.0--object\n",
      "state_name ----0.267--0.0--object\n",
      "geonames_id ----0.07--0.0--float64\n",
      "lat-lon ----0.003--0.0--object\n",
      "lat ----0.003--0.0--float64\n",
      "lon ----0.003--0.0--float64\n",
      "price ----0.014--0.0--float64\n",
      "currency ----0.723--0.0--object\n",
      "price_aprox_local_currency ----0.014--0.0--float64\n",
      "price_aprox_usd ----0.014--0.0--float64\n",
      "surface_total_in_m2 ----0.014--0.0--float64\n",
      "surface_covered_in_m2 ----0.023--0.0--float64\n",
      "price_usd_per_m2 ----0.005--0.0--float64\n",
      "price_per_m2 ----0.007--0.0--float64\n",
      "floor ----0.017--0.0--float64\n",
      "rooms ----0.104--0.0--float64\n",
      "expenses ----0.008--0.0--float64\n",
      "properati_url ----0.0--0.0--object\n",
      "description ----0.003--0.0--object\n",
      "title ----0.041--0.0--object\n",
      "image_thumbnail ----0.002--0.0--object\n"
     ]
    }
   ],
   "source": [
    "# Observamos los duplicados por cada columna\n",
    "duplicados_columna(df_properati)"
   ]
  },
  {
   "cell_type": "code",
   "execution_count": 4,
   "metadata": {},
   "outputs": [],
   "source": [
    "#df_properati['property_type'].value_counts(normalize=True).plot.barh()"
   ]
  },
  {
   "cell_type": "code",
   "execution_count": 31,
   "metadata": {},
   "outputs": [],
   "source": [
    "#generamos un nueso DataFrame formado por :\n",
    "        #Concatenars las columnas :pais, place_name, state_name para comparar para compararlo con la columna \"place_with_parent_names\"\n",
    "\n",
    "df_concat =\"|\"+ \"argentina\"+\"|\"+df_properati['place_name']+\"|\"+df_properati['state_name']+\"|\""
   ]
  },
  {
   "cell_type": "code",
   "execution_count": 1,
   "metadata": {},
   "outputs": [],
   "source": [
    "# comparamos el nuevo dataFrame(df_concat) con la columna 'place_with_parent_names'\n",
    "(df_concat == (df_properati['place_with_parent_names']))\n",
    "# Observamos que hay valores  que son diferentes"
   ]
  },
  {
   "cell_type": "code",
   "execution_count": 43,
   "metadata": {},
   "outputs": [
    {
     "data": {
      "text/plain": [
       "'|argentina|bs.as. g.b.a. zona norte|vicente lópez|munro|'"
      ]
     },
     "execution_count": 43,
     "metadata": {},
     "output_type": "execute_result"
    }
   ],
   "source": [
    "# Observamos que el indice 6 tenian valores diferentes, procedemos a visualizar los valores ocmo tal\n",
    "df_properati.iloc[6]['place_with_parent_names']"
   ]
  },
  {
   "cell_type": "code",
   "execution_count": 59,
   "metadata": {},
   "outputs": [],
   "source": [
    "#Creamos un DataFrame cuyas columnas son los valores de place_with_parent_names, \n",
    "location_df = df_properati['place_with_parent_names'].apply(lambda x: pd.Series(x.split('|')))"
   ]
  },
  {
   "cell_type": "code",
   "execution_count": 61,
   "metadata": {},
   "outputs": [
    {
     "data": {
      "text/html": [
       "<div>\n",
       "<style scoped>\n",
       "    .dataframe tbody tr th:only-of-type {\n",
       "        vertical-align: middle;\n",
       "    }\n",
       "\n",
       "    .dataframe tbody tr th {\n",
       "        vertical-align: top;\n",
       "    }\n",
       "\n",
       "    .dataframe thead th {\n",
       "        text-align: right;\n",
       "    }\n",
       "</style>\n",
       "<table border=\"1\" class=\"dataframe\">\n",
       "  <thead>\n",
       "    <tr style=\"text-align: right;\">\n",
       "      <th></th>\n",
       "      <th>0</th>\n",
       "      <th>1</th>\n",
       "      <th>2</th>\n",
       "      <th>3</th>\n",
       "      <th>4</th>\n",
       "      <th>5</th>\n",
       "      <th>6</th>\n",
       "    </tr>\n",
       "  </thead>\n",
       "  <tbody>\n",
       "    <tr>\n",
       "      <th>0</th>\n",
       "      <td></td>\n",
       "      <td>argentina</td>\n",
       "      <td>capital federal</td>\n",
       "      <td>mataderos</td>\n",
       "      <td></td>\n",
       "      <td>NaN</td>\n",
       "      <td>NaN</td>\n",
       "    </tr>\n",
       "    <tr>\n",
       "      <th>1</th>\n",
       "      <td></td>\n",
       "      <td>argentina</td>\n",
       "      <td>bs.as. g.b.a. zona sur</td>\n",
       "      <td>la plata</td>\n",
       "      <td></td>\n",
       "      <td>NaN</td>\n",
       "      <td>NaN</td>\n",
       "    </tr>\n",
       "    <tr>\n",
       "      <th>2</th>\n",
       "      <td></td>\n",
       "      <td>argentina</td>\n",
       "      <td>capital federal</td>\n",
       "      <td>mataderos</td>\n",
       "      <td></td>\n",
       "      <td>NaN</td>\n",
       "      <td>NaN</td>\n",
       "    </tr>\n",
       "    <tr>\n",
       "      <th>3</th>\n",
       "      <td></td>\n",
       "      <td>argentina</td>\n",
       "      <td>capital federal</td>\n",
       "      <td>liniers</td>\n",
       "      <td></td>\n",
       "      <td>NaN</td>\n",
       "      <td>NaN</td>\n",
       "    </tr>\n",
       "    <tr>\n",
       "      <th>4</th>\n",
       "      <td></td>\n",
       "      <td>argentina</td>\n",
       "      <td>buenos aires costa atlántica</td>\n",
       "      <td>mar del plata</td>\n",
       "      <td>centro</td>\n",
       "      <td></td>\n",
       "      <td>NaN</td>\n",
       "    </tr>\n",
       "  </tbody>\n",
       "</table>\n",
       "</div>"
      ],
      "text/plain": [
       "  0          1                             2              3       4    5    6\n",
       "0    argentina               capital federal      mataderos          NaN  NaN\n",
       "1    argentina        bs.as. g.b.a. zona sur       la plata          NaN  NaN\n",
       "2    argentina               capital federal      mataderos          NaN  NaN\n",
       "3    argentina               capital federal        liniers          NaN  NaN\n",
       "4    argentina  buenos aires costa atlántica  mar del plata  centro       NaN"
      ]
     },
     "execution_count": 61,
     "metadata": {},
     "output_type": "execute_result"
    }
   ],
   "source": [
    "#Observamos valores que nos genero\n",
    "location_df.head()"
   ]
  },
  {
   "cell_type": "code",
   "execution_count": 62,
   "metadata": {},
   "outputs": [
    {
     "data": {
      "text/plain": [
       "argentina    121220\n",
       "Name: 1, dtype: int64"
      ]
     },
     "execution_count": 62,
     "metadata": {},
     "output_type": "execute_result"
    }
   ],
   "source": [
    "#observalos los diferentes valores  que tienen cada columna\n",
    "location_df[1].value_counts() # Eliminaremos"
   ]
  },
  {
   "cell_type": "code",
   "execution_count": 2,
   "metadata": {},
   "outputs": [],
   "source": [
    "location_df[2].value_counts()"
   ]
  },
  {
   "cell_type": "code",
   "execution_count": 3,
   "metadata": {},
   "outputs": [],
   "source": [
    "location_df[3].value_counts()"
   ]
  },
  {
   "cell_type": "code",
   "execution_count": 4,
   "metadata": {},
   "outputs": [],
   "source": [
    "location_df[5].value_counts()"
   ]
  },
  {
   "cell_type": "code",
   "execution_count": 76,
   "metadata": {},
   "outputs": [
    {
     "data": {
      "text/plain": [
       "    548\n",
       "Name: 6, dtype: int64"
      ]
     },
     "execution_count": 76,
     "metadata": {},
     "output_type": "execute_result"
    }
   ],
   "source": [
    "location_df[6].value_counts()"
   ]
  },
  {
   "cell_type": "code",
   "execution_count": 78,
   "metadata": {},
   "outputs": [],
   "source": [
    "#Encontramos valores repetidos en la columna 3 y 4( ejemplo:pilas | pilar), extraemos esos valores en un DataFrame,\n",
    "df_col3_col4 = location_df[[3,4]]\n"
   ]
  },
  {
   "cell_type": "code",
   "execution_count": 81,
   "metadata": {},
   "outputs": [
    {
     "name": "stderr",
     "output_type": "stream",
     "text": [
      "C:\\Users\\marx.e.morales.tello\\AppData\\Local\\Continuum\\anaconda3\\lib\\site-packages\\ipykernel_launcher.py:1: SettingWithCopyWarning: \n",
      "A value is trying to be set on a copy of a slice from a DataFrame.\n",
      "Try using .loc[row_indexer,col_indexer] = value instead\n",
      "\n",
      "See the caveats in the documentation: http://pandas.pydata.org/pandas-docs/stable/indexing.html#indexing-view-versus-copy\n",
      "  \"\"\"Entry point for launching an IPython kernel.\n"
     ]
    }
   ],
   "source": [
    "#agregamos una nueva columna dif, cuyos valores son TRUE si columna3 = a columna 4(ejemplo:pilar = pilar), y FALSE di columna3!= columna4\n",
    "\n",
    "df_col3_col4['dif'] = df_col3_col4[3] == df_col3_col4[4]\n",
    "# OJO: al correr nos genera un warning, esto es propio del kernel de, no afecta a los procesos"
   ]
  },
  {
   "cell_type": "code",
   "execution_count": 5,
   "metadata": {},
   "outputs": [],
   "source": [
    "#Observamos el DF(DataFrame) generado:\n",
    "df_col3_col4"
   ]
  },
  {
   "cell_type": "code",
   "execution_count": null,
   "metadata": {},
   "outputs": [],
   "source": [
    "#Cantidad de valores falso y true q observamos:\n",
    "df_col3_col4['dif'].value_counts()"
   ]
  }
 ],
 "metadata": {
  "kernelspec": {
   "display_name": "Python 3",
   "language": "python",
   "name": "python3"
  },
  "language_info": {
   "codemirror_mode": {
    "name": "ipython",
    "version": 3
   },
   "file_extension": ".py",
   "mimetype": "text/x-python",
   "name": "python",
   "nbconvert_exporter": "python",
   "pygments_lexer": "ipython3",
   "version": "3.7.3"
  }
 },
 "nbformat": 4,
 "nbformat_minor": 2
}
