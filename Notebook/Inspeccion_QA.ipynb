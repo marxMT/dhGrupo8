{
 "cells": [
  {
   "cell_type": "code",
   "execution_count": 10,
   "metadata": {
    "collapsed": false
   },
   "outputs": [],
   "source": [
    "%load_ext watermark\n",
    "%watermark"
   ]
  },
  {
   "cell_type": "code",
   "execution_count": 5,
   "metadata": {
    "collapsed": true
   },
   "outputs": [],
   "source": [
    "import pandas as pd\n",
    "import numpy as np\n",
    "from scipy import stats"
   ]
  },
  {
   "cell_type": "code",
   "execution_count": 9,
   "metadata": {
    "collapsed": false,
    "scrolled": true
   },
   "outputs": [],
   "source": [
    "#leemos el data set, e inspeccionamos los datos \n",
    "df = pd.read_csv(\"../Data/properatti.csv\")\n",
    "df.head()"
   ]
  },
  {
   "cell_type": "code",
   "execution_count": 10,
   "metadata": {
    "collapsed": false
   },
   "outputs": [],
   "source": [
    "class Inspeccion(object):\n",
    "    \"\"\" Sirve para realizar inspeccion y acercamiento al DataSet\"\"\"\n",
    "    def __init__(self, df):\n",
    "        self._df = df\n",
    "        \n",
    "    @property\n",
    "    def df(self):\n",
    "        return self._df\n",
    "\n",
    "    @df.setter\n",
    "    def df(self, df):\n",
    "        self._df = value\n",
    "        \n",
    "    def tamanio(self):\n",
    "        \"\"\"Retorna el numeor de registros del dataSet\"\"\"\n",
    "        return self.df.shape[0]\n",
    "    \n",
    "    def tipo(self,tipo):\n",
    "        \"\"\"Imprime todos los valores tipo mencionado\n",
    "            Input:\n",
    "                tipo:\n",
    "                    object :o\n",
    "                    float64: f\n",
    "                    int64: i\n",
    "        \"\"\"\n",
    "        dic_tipos ={'o':'object', 'i':'int64', 'f':'float64'}\n",
    "        for columna in self.df :\n",
    "                if self.df[columna].dtypes == dic_tipos[tipo]:\n",
    "                    print(\"{}\".format(columna))\n",
    "                    \n",
    "    def columnas(self):\n",
    "        \"\"\"Muestra una lista con todas las columnas del dataset\"\"\"\n",
    "        l_columnas = list(self.df.columns)\n",
    "        print(l_columnas)\n",
    "    \n",
    "    def rename_columnas(self, nombres):\n",
    "        \"\"\"Cambia el nombre de columnas\n",
    "            input:\n",
    "                    nombres: lista de nuevos nombres\n",
    "            return:\n",
    "                    df con columnas nuevas\"\"\"\n",
    "        self.df.columns = nombres\n",
    "        return self.df\n",
    "    \n",
    "    def tipos(self):\n",
    "        \"\"\"Imprime todos las columnas con sus respectivos tipos de datos\n",
    "            Input:\n",
    "                df: data frame\n",
    "        \"\"\"\n",
    "        print(\"====== TIPO DE DATOS ======\")\n",
    "        for columna in df:\n",
    "            print(\"{} => {}\".format(columna,self.df[columna].dtypes))\n",
    "\n",
    "    \n",
    "                \n",
    "            \n",
    "    def estadisticos(self, columna, p= False):\n",
    "        \"\"\"Muestra los estadisticos para cada columna\n",
    "            p : Imprimer porcentaje\"\"\"\n",
    "        print(\"-----{}-----\".format(columna))\n",
    "        df[columna].describe()\n",
    "    \n",
    "\n",
    "    def  renombrar(self, nuevo_nombre):\n",
    "        \"\"\"Renombramos el data set original, y almacenamos en el directorio actual\"\"\"\n",
    "        self.df.to_csv(nuevo_nombre, index=False)"
   ]
  },
  {
   "cell_type": "code",
   "execution_count": 7,
   "metadata": {
    "collapsed": false
   },
   "outputs": [],
   "source": [
    "class Calidad_Datos(object):\n",
    "    \"\"\"Evaluamos la calidad de datos del DataSet\"\"\"\n",
    "    def __init__(self, df):\n",
    "        self._df = df\n",
    "        \n",
    "    @property\n",
    "    def df(self):\n",
    "        return self._df\n",
    "\n",
    "    @df.setter\n",
    "    def df(self, df):\n",
    "        self._df = value\n",
    "    \n",
    "    \n",
    "    def tamanio(self):\n",
    "        return self.df.shape[0]\n",
    "    \n",
    "    def eliminar_columnas(self, lista):\n",
    "        \"\"\"Retorna dataframe con lista de columnas eliminadas\"\"\"\n",
    "        return self.df.drop(lista, axis=1)\n",
    "\n",
    "    \n",
    "    def duplicados(self):\n",
    "        \"\"\"Muestra elementos duplicados\"\"\"\n",
    "        for columna in self.df:\n",
    "            duplicados_columna = self.df[columna].value_counts()\n",
    "            mayor_duplic = duplicados_columna[0]\n",
    "            menor_duplic = duplicados_columna[-1]\n",
    "            print(\"{}--{}--{}\".format(round(mayor_duplic)/(1.0 * self.tamanio),3),round(menor_duplic/(1.0*self.tamanio),3), df[columna].dtype)     \n",
    "\n",
    "    def duplicados_columna(self,columna, p=False, g=False):\n",
    "        \"\"\"Muestra cantidad de valores duplicados por columna\n",
    "            p: imprimer porcentajes\n",
    "            g: grafica\"\"\"\n",
    "        if p:\n",
    "            print(self.df[columna].value_counts()*100/self.tamanio())\n",
    "            \n",
    "        else:\n",
    "            print(self.df[columna].value_counts())\n",
    "            \n",
    "        if g:\n",
    "            self.df.columna.value_counts(noramlize=True).plot.barh()\n",
    "    \n",
    "    def nulos(self):\n",
    "        \"\"\"Imprimer procentaje de valores nulos por cada columna\"\"\"\n",
    "        tamanio = self.df.shape[0]\n",
    "        for columna in self.df:\n",
    "            cant = self.df[columna].isnull().value_counts()[0]\n",
    "            if cant - tamanio:\n",
    "                porcentaje_nulos = cant * 100/tamanio\n",
    "                print(\"{} -> {} %\".format(columna,porcentaje_nulos))\n",
    "            else:\n",
    "                print(\"{} -> 0 %\".format(columna))\n",
    "    \n",
    "\n",
    "    def valores_extremos(self, valor_extremo = 3, g=False):\n",
    "        \"\"\"Imprime outliers por columna\n",
    "            valor_extremo : valor para z score\"\"\"\n",
    "        for columna in self.df:\n",
    "            if self.df[columna].dtype != np.object:\n",
    "                extremos = len(self.df[np.abs(stats.zscore(self.df[columna])) > valor_extremo])\n",
    "                print(\"{}--{}--{}\".format(self.df[columna].name, extremos, self.df[columna.dtype]))\n",
    "                if g:\n",
    "                    self.df.bloxplot(columna = columna)\n",
    "                    \n",
    "    def renombrar(self, nombre):\n",
    "        \"\"\"Guarda el nuevo data set\"\"\"\n",
    "        self.df.to_csv(nombre, index=False)\n",
    "    "
   ]
  },
  {
   "cell_type": "code",
   "execution_count": null,
   "metadata": {
    "collapsed": true
   },
   "outputs": [],
   "source": []
  },
  {
   "cell_type": "code",
   "execution_count": null,
   "metadata": {
    "collapsed": true
   },
   "outputs": [],
   "source": []
  }
 ],
 "metadata": {
  "kernelspec": {
   "display_name": "Python 3",
   "language": "python",
   "name": "python3"
  },
  "language_info": {
   "codemirror_mode": {
    "name": "ipython",
    "version": 3
   },
   "file_extension": ".py",
   "mimetype": "text/x-python",
   "name": "python",
   "nbconvert_exporter": "python",
   "pygments_lexer": "ipython3",
   "version": "3.5.3"
  }
 },
 "nbformat": 4,
 "nbformat_minor": 2
}
