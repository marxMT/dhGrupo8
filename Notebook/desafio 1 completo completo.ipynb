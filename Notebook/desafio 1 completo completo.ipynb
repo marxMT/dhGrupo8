{
 "cells": [
  {
   "cell_type": "markdown",
   "metadata": {},
   "source": [
    "# Desafío 1"
   ]
  },
  {
   "cell_type": "markdown",
   "metadata": {},
   "source": [
    "__Importo librerías y el dataset__"
   ]
  },
  {
   "cell_type": "code",
   "execution_count": 1,
   "metadata": {},
   "outputs": [
    {
     "name": "stderr",
     "output_type": "stream",
     "text": [
      "/anaconda3/lib/python3.7/site-packages/lightgbm/__init__.py:46: UserWarning:\n",
      "\n",
      "Starting from version 2.2.1, the library file in distribution wheels for macOS is built by the Apple Clang (Xcode_8.3.1) compiler.\n",
      "This means that in case of installing LightGBM from PyPI via the ``pip install lightgbm`` command, you don't need to install the gcc compiler anymore.\n",
      "Instead of that, you need to install the OpenMP library, which is required for running LightGBM on the system with the Apple Clang compiler.\n",
      "You can install the OpenMP library by the following command: ``brew install libomp``.\n",
      "\n"
     ]
    },
    {
     "name": "stdout",
     "output_type": "stream",
     "text": [
      "Requirement already satisfied: vecstack in /anaconda3/lib/python3.7/site-packages (0.3.0)\n",
      "Requirement already satisfied: scipy in /anaconda3/lib/python3.7/site-packages (from vecstack) (1.1.0)\n",
      "Requirement already satisfied: scikit-learn>=0.18 in /anaconda3/lib/python3.7/site-packages (from vecstack) (0.20.1)\n",
      "Requirement already satisfied: numpy in /anaconda3/lib/python3.7/site-packages (from vecstack) (1.15.4)\n"
     ]
    }
   ],
   "source": [
    "import numpy as np\n",
    "import pandas as pd\n",
    "pd.set_option('display.max_columns', 500)\n",
    "from scipy import stats\n",
    "import seaborn as sns\n",
    "import matplotlib as plt\n",
    "from scipy.stats import norm\n",
    "from sklearn.preprocessing import PolynomialFeatures, StandardScaler\n",
    "scaler=StandardScaler()\n",
    "import plotly.plotly as py\n",
    "import plotly.graph_objs as go\n",
    "from sklearn.linear_model import ElasticNet, Lasso,  BayesianRidge, LassoLarsIC\n",
    "from sklearn.ensemble import RandomForestRegressor,  GradientBoostingRegressor\n",
    "from sklearn.kernel_ridge import KernelRidge\n",
    "from sklearn.pipeline import make_pipeline\n",
    "from sklearn.preprocessing import RobustScaler\n",
    "from sklearn.base import BaseEstimator, TransformerMixin, RegressorMixin, clone\n",
    "from sklearn.model_selection import KFold, cross_val_score, train_test_split\n",
    "from sklearn.metrics import mean_squared_error\n",
    "import numpy as np\n",
    "import pandas as pd\n",
    "from scipy import stats\n",
    "import seaborn as sns\n",
    "from sklearn import metrics\n",
    "from sklearn import datasets\n",
    "from sklearn.model_selection import train_test_split, KFold, cross_val_score,StratifiedKFold\n",
    "from sklearn.linear_model import LinearRegression, Lasso, LassoCV, Ridge, RidgeCV\n",
    "from sklearn.preprocessing import PolynomialFeatures, StandardScaler\n",
    "from sklearn.metrics import mean_squared_error, r2_score\n",
    "from sklearn.linear_model import ElasticNet, Lasso,  BayesianRidge, LassoLarsIC,LogisticRegression\n",
    "from sklearn.ensemble import RandomForestRegressor,  GradientBoostingRegressor\n",
    "from sklearn.kernel_ridge import KernelRidge\n",
    "from sklearn.pipeline import make_pipeline\n",
    "from sklearn.preprocessing import RobustScaler\n",
    "from sklearn.base import BaseEstimator, TransformerMixin, RegressorMixin, clone\n",
    "from sklearn.model_selection import KFold, cross_val_score, train_test_split\n",
    "from sklearn.metrics import mean_squared_error\n",
    "from sklearn.tree import DecisionTreeRegressor\n",
    "import xgboost as xgb\n",
    "from xgboost import XGBRegressor\n",
    "import lightgbm as lgb\n",
    "!pip install vecstack\n",
    "from vecstack import StackingTransformer, stacking\n",
    "from scipy.stats import norm\n",
    "from sklearn.preprocessing import StandardScaler\n",
    "from scipy import stats\n",
    "import warnings\n",
    "warnings.filterwarnings('ignore')\n",
    "%matplotlib inline\n",
    "from scipy.stats import skew\n",
    "from scipy.special import boxcox1p\n",
    "from sklearn.preprocessing import StandardScaler\n",
    "from sklearn.decomposition import PCA\n",
    "rmse = lambda y, y_pred: np.sqrt(mean_squared_error(y, y_pred))"
   ]
  },
  {
   "cell_type": "code",
   "execution_count": 2,
   "metadata": {},
   "outputs": [],
   "source": [
    "df=pd.read_csv(\"properatti.csv\", index_col=0)"
   ]
  },
  {
   "cell_type": "code",
   "execution_count": 3,
   "metadata": {
    "scrolled": true
   },
   "outputs": [
    {
     "data": {
      "text/html": [
       "<div>\n",
       "<style scoped>\n",
       "    .dataframe tbody tr th:only-of-type {\n",
       "        vertical-align: middle;\n",
       "    }\n",
       "\n",
       "    .dataframe tbody tr th {\n",
       "        vertical-align: top;\n",
       "    }\n",
       "\n",
       "    .dataframe thead th {\n",
       "        text-align: right;\n",
       "    }\n",
       "</style>\n",
       "<table border=\"1\" class=\"dataframe\">\n",
       "  <thead>\n",
       "    <tr style=\"text-align: right;\">\n",
       "      <th></th>\n",
       "      <th>operation</th>\n",
       "      <th>property_type</th>\n",
       "      <th>place_name</th>\n",
       "      <th>place_with_parent_names</th>\n",
       "      <th>country_name</th>\n",
       "      <th>state_name</th>\n",
       "      <th>geonames_id</th>\n",
       "      <th>lat-lon</th>\n",
       "      <th>lat</th>\n",
       "      <th>lon</th>\n",
       "      <th>price</th>\n",
       "      <th>currency</th>\n",
       "      <th>price_aprox_local_currency</th>\n",
       "      <th>price_aprox_usd</th>\n",
       "      <th>surface_total_in_m2</th>\n",
       "      <th>surface_covered_in_m2</th>\n",
       "      <th>price_usd_per_m2</th>\n",
       "      <th>price_per_m2</th>\n",
       "      <th>floor</th>\n",
       "      <th>rooms</th>\n",
       "      <th>expenses</th>\n",
       "      <th>properati_url</th>\n",
       "      <th>description</th>\n",
       "      <th>title</th>\n",
       "      <th>image_thumbnail</th>\n",
       "    </tr>\n",
       "  </thead>\n",
       "  <tbody>\n",
       "    <tr>\n",
       "      <th>0</th>\n",
       "      <td>sell</td>\n",
       "      <td>PH</td>\n",
       "      <td>Mataderos</td>\n",
       "      <td>|Argentina|Capital Federal|Mataderos|</td>\n",
       "      <td>Argentina</td>\n",
       "      <td>Capital Federal</td>\n",
       "      <td>3430787.0</td>\n",
       "      <td>-34.6618237,-58.5088387</td>\n",
       "      <td>-34.661824</td>\n",
       "      <td>-58.508839</td>\n",
       "      <td>62000.0</td>\n",
       "      <td>USD</td>\n",
       "      <td>1093959.0</td>\n",
       "      <td>62000.0</td>\n",
       "      <td>55.0</td>\n",
       "      <td>40.0</td>\n",
       "      <td>1127.272727</td>\n",
       "      <td>1550.000000</td>\n",
       "      <td>NaN</td>\n",
       "      <td>NaN</td>\n",
       "      <td>NaN</td>\n",
       "      <td>http://www.properati.com.ar/15bo8_venta_ph_mat...</td>\n",
       "      <td>2 AMBIENTES TIPO CASA PLANTA BAJA POR PASILLO,...</td>\n",
       "      <td>2 AMB TIPO CASA SIN EXPENSAS EN PB</td>\n",
       "      <td>https://thumbs4.properati.com/8/BluUYiHJLhgIIK...</td>\n",
       "    </tr>\n",
       "    <tr>\n",
       "      <th>1</th>\n",
       "      <td>sell</td>\n",
       "      <td>apartment</td>\n",
       "      <td>La Plata</td>\n",
       "      <td>|Argentina|Bs.As. G.B.A. Zona Sur|La Plata|</td>\n",
       "      <td>Argentina</td>\n",
       "      <td>Bs.As. G.B.A. Zona Sur</td>\n",
       "      <td>3432039.0</td>\n",
       "      <td>-34.9038831,-57.9643295</td>\n",
       "      <td>-34.903883</td>\n",
       "      <td>-57.964330</td>\n",
       "      <td>150000.0</td>\n",
       "      <td>USD</td>\n",
       "      <td>2646675.0</td>\n",
       "      <td>150000.0</td>\n",
       "      <td>NaN</td>\n",
       "      <td>NaN</td>\n",
       "      <td>NaN</td>\n",
       "      <td>NaN</td>\n",
       "      <td>NaN</td>\n",
       "      <td>NaN</td>\n",
       "      <td>NaN</td>\n",
       "      <td>http://www.properati.com.ar/15bob_venta_depart...</td>\n",
       "      <td>Venta de departamento en décimo piso al frente...</td>\n",
       "      <td>VENTA Depto 2 dorm. a estrenar 7 e/ 36 y 37   ...</td>\n",
       "      <td>https://thumbs4.properati.com/7/ikpVBu2ztHA7jv...</td>\n",
       "    </tr>\n",
       "    <tr>\n",
       "      <th>2</th>\n",
       "      <td>sell</td>\n",
       "      <td>apartment</td>\n",
       "      <td>Mataderos</td>\n",
       "      <td>|Argentina|Capital Federal|Mataderos|</td>\n",
       "      <td>Argentina</td>\n",
       "      <td>Capital Federal</td>\n",
       "      <td>3430787.0</td>\n",
       "      <td>-34.6522615,-58.5229825</td>\n",
       "      <td>-34.652262</td>\n",
       "      <td>-58.522982</td>\n",
       "      <td>72000.0</td>\n",
       "      <td>USD</td>\n",
       "      <td>1270404.0</td>\n",
       "      <td>72000.0</td>\n",
       "      <td>55.0</td>\n",
       "      <td>55.0</td>\n",
       "      <td>1309.090909</td>\n",
       "      <td>1309.090909</td>\n",
       "      <td>NaN</td>\n",
       "      <td>NaN</td>\n",
       "      <td>NaN</td>\n",
       "      <td>http://www.properati.com.ar/15bod_venta_depart...</td>\n",
       "      <td>2 AMBIENTES 3ER PISO LATERAL LIVING COMEDOR AM...</td>\n",
       "      <td>2 AMB 3ER PISO CON ASCENSOR APTO CREDITO</td>\n",
       "      <td>https://thumbs4.properati.com/5/SXKr34F_IwG3W_...</td>\n",
       "    </tr>\n",
       "    <tr>\n",
       "      <th>3</th>\n",
       "      <td>sell</td>\n",
       "      <td>PH</td>\n",
       "      <td>Liniers</td>\n",
       "      <td>|Argentina|Capital Federal|Liniers|</td>\n",
       "      <td>Argentina</td>\n",
       "      <td>Capital Federal</td>\n",
       "      <td>3431333.0</td>\n",
       "      <td>-34.6477969,-58.5164244</td>\n",
       "      <td>-34.647797</td>\n",
       "      <td>-58.516424</td>\n",
       "      <td>95000.0</td>\n",
       "      <td>USD</td>\n",
       "      <td>1676227.5</td>\n",
       "      <td>95000.0</td>\n",
       "      <td>NaN</td>\n",
       "      <td>NaN</td>\n",
       "      <td>NaN</td>\n",
       "      <td>NaN</td>\n",
       "      <td>NaN</td>\n",
       "      <td>NaN</td>\n",
       "      <td>NaN</td>\n",
       "      <td>http://www.properati.com.ar/15boh_venta_ph_lin...</td>\n",
       "      <td>PH 3 ambientes con patio. Hay 3 deptos en lote...</td>\n",
       "      <td>PH 3 amb. cfte. reciclado</td>\n",
       "      <td>https://thumbs4.properati.com/3/DgIfX-85Mog5SP...</td>\n",
       "    </tr>\n",
       "    <tr>\n",
       "      <th>4</th>\n",
       "      <td>sell</td>\n",
       "      <td>apartment</td>\n",
       "      <td>Centro</td>\n",
       "      <td>|Argentina|Buenos Aires Costa Atlántica|Mar de...</td>\n",
       "      <td>Argentina</td>\n",
       "      <td>Buenos Aires Costa Atlántica</td>\n",
       "      <td>3435548.0</td>\n",
       "      <td>-38.0026256,-57.5494468</td>\n",
       "      <td>-38.002626</td>\n",
       "      <td>-57.549447</td>\n",
       "      <td>64000.0</td>\n",
       "      <td>USD</td>\n",
       "      <td>1129248.0</td>\n",
       "      <td>64000.0</td>\n",
       "      <td>35.0</td>\n",
       "      <td>35.0</td>\n",
       "      <td>1828.571429</td>\n",
       "      <td>1828.571429</td>\n",
       "      <td>NaN</td>\n",
       "      <td>NaN</td>\n",
       "      <td>NaN</td>\n",
       "      <td>http://www.properati.com.ar/15bok_venta_depart...</td>\n",
       "      <td>DEPARTAMENTO CON FANTÁSTICA ILUMINACIÓN NATURA...</td>\n",
       "      <td>DEPTO 2 AMB AL CONTRAFRENTE ZONA CENTRO/PLAZA ...</td>\n",
       "      <td>https://thumbs4.properati.com/5/xrRqlNcSI_vs-f...</td>\n",
       "    </tr>\n",
       "  </tbody>\n",
       "</table>\n",
       "</div>"
      ],
      "text/plain": [
       "  operation property_type place_name  \\\n",
       "0      sell            PH  Mataderos   \n",
       "1      sell     apartment   La Plata   \n",
       "2      sell     apartment  Mataderos   \n",
       "3      sell            PH    Liniers   \n",
       "4      sell     apartment     Centro   \n",
       "\n",
       "                             place_with_parent_names country_name  \\\n",
       "0              |Argentina|Capital Federal|Mataderos|    Argentina   \n",
       "1        |Argentina|Bs.As. G.B.A. Zona Sur|La Plata|    Argentina   \n",
       "2              |Argentina|Capital Federal|Mataderos|    Argentina   \n",
       "3                |Argentina|Capital Federal|Liniers|    Argentina   \n",
       "4  |Argentina|Buenos Aires Costa Atlántica|Mar de...    Argentina   \n",
       "\n",
       "                     state_name  geonames_id                  lat-lon  \\\n",
       "0               Capital Federal    3430787.0  -34.6618237,-58.5088387   \n",
       "1        Bs.As. G.B.A. Zona Sur    3432039.0  -34.9038831,-57.9643295   \n",
       "2               Capital Federal    3430787.0  -34.6522615,-58.5229825   \n",
       "3               Capital Federal    3431333.0  -34.6477969,-58.5164244   \n",
       "4  Buenos Aires Costa Atlántica    3435548.0  -38.0026256,-57.5494468   \n",
       "\n",
       "         lat        lon     price currency  price_aprox_local_currency  \\\n",
       "0 -34.661824 -58.508839   62000.0      USD                   1093959.0   \n",
       "1 -34.903883 -57.964330  150000.0      USD                   2646675.0   \n",
       "2 -34.652262 -58.522982   72000.0      USD                   1270404.0   \n",
       "3 -34.647797 -58.516424   95000.0      USD                   1676227.5   \n",
       "4 -38.002626 -57.549447   64000.0      USD                   1129248.0   \n",
       "\n",
       "   price_aprox_usd  surface_total_in_m2  surface_covered_in_m2  \\\n",
       "0          62000.0                 55.0                   40.0   \n",
       "1         150000.0                  NaN                    NaN   \n",
       "2          72000.0                 55.0                   55.0   \n",
       "3          95000.0                  NaN                    NaN   \n",
       "4          64000.0                 35.0                   35.0   \n",
       "\n",
       "   price_usd_per_m2  price_per_m2  floor  rooms  expenses  \\\n",
       "0       1127.272727   1550.000000    NaN    NaN       NaN   \n",
       "1               NaN           NaN    NaN    NaN       NaN   \n",
       "2       1309.090909   1309.090909    NaN    NaN       NaN   \n",
       "3               NaN           NaN    NaN    NaN       NaN   \n",
       "4       1828.571429   1828.571429    NaN    NaN       NaN   \n",
       "\n",
       "                                       properati_url  \\\n",
       "0  http://www.properati.com.ar/15bo8_venta_ph_mat...   \n",
       "1  http://www.properati.com.ar/15bob_venta_depart...   \n",
       "2  http://www.properati.com.ar/15bod_venta_depart...   \n",
       "3  http://www.properati.com.ar/15boh_venta_ph_lin...   \n",
       "4  http://www.properati.com.ar/15bok_venta_depart...   \n",
       "\n",
       "                                         description  \\\n",
       "0  2 AMBIENTES TIPO CASA PLANTA BAJA POR PASILLO,...   \n",
       "1  Venta de departamento en décimo piso al frente...   \n",
       "2  2 AMBIENTES 3ER PISO LATERAL LIVING COMEDOR AM...   \n",
       "3  PH 3 ambientes con patio. Hay 3 deptos en lote...   \n",
       "4  DEPARTAMENTO CON FANTÁSTICA ILUMINACIÓN NATURA...   \n",
       "\n",
       "                                               title  \\\n",
       "0                 2 AMB TIPO CASA SIN EXPENSAS EN PB   \n",
       "1  VENTA Depto 2 dorm. a estrenar 7 e/ 36 y 37   ...   \n",
       "2           2 AMB 3ER PISO CON ASCENSOR APTO CREDITO   \n",
       "3                       PH 3 amb. cfte. reciclado      \n",
       "4  DEPTO 2 AMB AL CONTRAFRENTE ZONA CENTRO/PLAZA ...   \n",
       "\n",
       "                                     image_thumbnail  \n",
       "0  https://thumbs4.properati.com/8/BluUYiHJLhgIIK...  \n",
       "1  https://thumbs4.properati.com/7/ikpVBu2ztHA7jv...  \n",
       "2  https://thumbs4.properati.com/5/SXKr34F_IwG3W_...  \n",
       "3  https://thumbs4.properati.com/3/DgIfX-85Mog5SP...  \n",
       "4  https://thumbs4.properati.com/5/xrRqlNcSI_vs-f...  "
      ]
     },
     "execution_count": 3,
     "metadata": {},
     "output_type": "execute_result"
    }
   ],
   "source": [
    "df.head()"
   ]
  },
  {
   "cell_type": "markdown",
   "metadata": {},
   "source": [
    "__Tomo el tipo de cambio en el caso de necesitarlo más adelante__"
   ]
  },
  {
   "cell_type": "code",
   "execution_count": 4,
   "metadata": {},
   "outputs": [],
   "source": [
    "tc = round(np.mean(df.price_aprox_local_currency / df.price_aprox_usd),4)"
   ]
  },
  {
   "cell_type": "markdown",
   "metadata": {},
   "source": [
    "__Chequeo de variables categóricas__"
   ]
  },
  {
   "cell_type": "code",
   "execution_count": 5,
   "metadata": {},
   "outputs": [
    {
     "data": {
      "text/plain": [
       "sell    121220\n",
       "Name: operation, dtype: int64"
      ]
     },
     "execution_count": 5,
     "metadata": {},
     "output_type": "execute_result"
    }
   ],
   "source": [
    "df[\"operation\"].value_counts()"
   ]
  },
  {
   "cell_type": "markdown",
   "metadata": {},
   "source": [
    "Como todas las operacines son de venta, procedo a eliminar la columna ya que no me aporta información diferencial entre filas."
   ]
  },
  {
   "cell_type": "code",
   "execution_count": 6,
   "metadata": {},
   "outputs": [],
   "source": [
    "df.drop(columns=['operation'], inplace=True)"
   ]
  },
  {
   "cell_type": "code",
   "execution_count": 7,
   "metadata": {},
   "outputs": [
    {
     "data": {
      "text/plain": [
       "apartment    71065\n",
       "house        40268\n",
       "PH            5751\n",
       "store         4136\n",
       "Name: property_type, dtype: int64"
      ]
     },
     "execution_count": 7,
     "metadata": {},
     "output_type": "execute_result"
    }
   ],
   "source": [
    "df[\"property_type\"].value_counts()"
   ]
  },
  {
   "cell_type": "code",
   "execution_count": 8,
   "metadata": {
    "scrolled": true
   },
   "outputs": [
    {
     "data": {
      "text/plain": [
       "Córdoba                        9254\n",
       "Rosario                        8504\n",
       "Mar del Plata                  6534\n",
       "Tigre                          3324\n",
       "Nordelta                       3315\n",
       "Belgrano                       2992\n",
       "Palermo                        2885\n",
       "La Plata                       2534\n",
       "Caballito                      2273\n",
       "Pilar                          2228\n",
       "Villa Urquiza                  1632\n",
       "Olivos                         1590\n",
       "Recoleta                       1547\n",
       "Lomas de Zamora                1529\n",
       "Flores                         1354\n",
       "Ituzaingó                      1340\n",
       "Villa Crespo                   1331\n",
       "Capital Federal                1297\n",
       "San Telmo                      1216\n",
       "Morón                          1209\n",
       "Almagro                        1165\n",
       "Barrio Norte                   1140\n",
       "Ramos Mejía                    1127\n",
       "Martínez                       1058\n",
       "Lanús                          1048\n",
       "Escobar                        1037\n",
       "Banfield                       1007\n",
       "San Isidro                      990\n",
       "Pinamar                         932\n",
       "Boedo                           890\n",
       "                               ... \n",
       "Barrio Cerrado \"La Damasia\"       1\n",
       "Villa Unión                       1\n",
       "Los Talas                         1\n",
       "Villars                           1\n",
       "La Silleta                        1\n",
       "San Antonio                       1\n",
       "Tilisarao                         1\n",
       "Coronel Bogado                    1\n",
       "Bosques                           1\n",
       "Cabildo                           1\n",
       "Agua Blanca                       1\n",
       "La Colina Golf & Polo             1\n",
       "Barrio Cerrado \"La Emilia\"        1\n",
       "Juramento                         1\n",
       "General Pinto                     1\n",
       "El Zorzal                         1\n",
       "Capilla del Rosario               1\n",
       "Quemú Quemú                       1\n",
       "Barrio Camet                      1\n",
       "Speluzzi                          1\n",
       "Chajarí                           1\n",
       "Obispo Trejo                      1\n",
       "Gral San Martin                   1\n",
       "Oliveros                          1\n",
       "Los Corralitos                    1\n",
       "Coronel Moldes                    1\n",
       "Laguna Larga                      1\n",
       "Alfar                             1\n",
       "Nelson                            1\n",
       "María Juana                       1\n",
       "Name: place_name, Length: 1060, dtype: int64"
      ]
     },
     "execution_count": 8,
     "metadata": {},
     "output_type": "execute_result"
    }
   ],
   "source": [
    "df[\"place_name\"].value_counts()"
   ]
  },
  {
   "cell_type": "code",
   "execution_count": 9,
   "metadata": {
    "scrolled": true
   },
   "outputs": [
    {
     "data": {
      "text/plain": [
       "Capital Federal                 32316\n",
       "Bs.As. G.B.A. Zona Norte        25560\n",
       "Bs.As. G.B.A. Zona Sur          13952\n",
       "Córdoba                         12069\n",
       "Santa Fe                        10172\n",
       "Buenos Aires Costa Atlántica    10006\n",
       "Bs.As. G.B.A. Zona Oeste         9322\n",
       "Buenos Aires Interior            2291\n",
       "Río Negro                         808\n",
       "Neuquén                           733\n",
       "Mendoza                           681\n",
       "Tucumán                           674\n",
       "Corrientes                        583\n",
       "Misiones                          464\n",
       "Entre Ríos                        369\n",
       "Salta                             278\n",
       "Chubut                            259\n",
       "San Luis                          252\n",
       "La Pampa                          157\n",
       "Formosa                            65\n",
       "Chaco                              57\n",
       "San Juan                           40\n",
       "Tierra Del Fuego                   31\n",
       "Catamarca                          27\n",
       "Jujuy                              26\n",
       "Santa Cruz                         20\n",
       "Santiago Del Estero                 4\n",
       "La Rioja                            4\n",
       "Name: state_name, dtype: int64"
      ]
     },
     "execution_count": 9,
     "metadata": {},
     "output_type": "execute_result"
    }
   ],
   "source": [
    "df[\"state_name\"].value_counts()"
   ]
  },
  {
   "cell_type": "code",
   "execution_count": 10,
   "metadata": {
    "scrolled": true
   },
   "outputs": [
    {
     "data": {
      "text/plain": [
       "USD    87587\n",
       "ARS    13219\n",
       "PEN        2\n",
       "UYU        1\n",
       "Name: currency, dtype: int64"
      ]
     },
     "execution_count": 10,
     "metadata": {},
     "output_type": "execute_result"
    }
   ],
   "source": [
    "df['currency'].value_counts()"
   ]
  },
  {
   "cell_type": "markdown",
   "metadata": {},
   "source": [
    "## Precios en USD"
   ]
  },
  {
   "cell_type": "markdown",
   "metadata": {},
   "source": [
    "__Como hay 3 valores que no están ni en pesos ni en dólares se procede a eliminarlos__"
   ]
  },
  {
   "cell_type": "code",
   "execution_count": 11,
   "metadata": {},
   "outputs": [],
   "source": [
    "df = df[df.currency != 'UYU']\n",
    "df = df[df.currency != 'PEN']"
   ]
  },
  {
   "cell_type": "code",
   "execution_count": 12,
   "metadata": {
    "scrolled": true
   },
   "outputs": [
    {
     "data": {
      "text/plain": [
       "property_type                      0\n",
       "place_name                        23\n",
       "place_with_parent_names            0\n",
       "country_name                       0\n",
       "state_name                         0\n",
       "geonames_id                    18717\n",
       "lat-lon                        51547\n",
       "lat                            51547\n",
       "lon                            51547\n",
       "price                          20410\n",
       "currency                       20411\n",
       "price_aprox_local_currency     20410\n",
       "price_aprox_usd                20410\n",
       "surface_total_in_m2            39325\n",
       "surface_covered_in_m2          19904\n",
       "price_usd_per_m2               52600\n",
       "price_per_m2                   33559\n",
       "floor                         113318\n",
       "rooms                          73827\n",
       "expenses                      106955\n",
       "properati_url                      0\n",
       "description                        2\n",
       "title                              0\n",
       "image_thumbnail                 3112\n",
       "dtype: int64"
      ]
     },
     "execution_count": 12,
     "metadata": {},
     "output_type": "execute_result"
    }
   ],
   "source": [
    "df.isnull().sum()"
   ]
  },
  {
   "cell_type": "markdown",
   "metadata": {},
   "source": [
    "__Chequeo que no haya propiedades en dólares cuyo precio sea mayor al precio en pesos__"
   ]
  },
  {
   "cell_type": "code",
   "execution_count": 13,
   "metadata": {
    "scrolled": true
   },
   "outputs": [
    {
     "data": {
      "text/plain": [
       "0"
      ]
     },
     "execution_count": 13,
     "metadata": {},
     "output_type": "execute_result"
    }
   ],
   "source": [
    "len(df[(df['currency'] == 'USD') & (df['price'] > df['price_aprox_local_currency'])])"
   ]
  },
  {
   "cell_type": "markdown",
   "metadata": {},
   "source": [
    "Como da 0 sabemos que no hay precios en dólares mayores a los valores en pesos"
   ]
  },
  {
   "cell_type": "markdown",
   "metadata": {},
   "source": [
    "__Chequeo que no haya propiedades en pesos cuyo precio sea menor al precio en dolares__"
   ]
  },
  {
   "cell_type": "code",
   "execution_count": 14,
   "metadata": {},
   "outputs": [
    {
     "data": {
      "text/plain": [
       "0"
      ]
     },
     "execution_count": 14,
     "metadata": {},
     "output_type": "execute_result"
    }
   ],
   "source": [
    "len(df[(df['currency'] == 'ARS') & (df['price'] < df['price_aprox_usd'])])"
   ]
  },
  {
   "cell_type": "markdown",
   "metadata": {},
   "source": [
    "Como da 0 sabemos que no hay precios en pesos menores a los precios en USD"
   ]
  },
  {
   "cell_type": "markdown",
   "metadata": {},
   "source": [
    "__Chequeo que el precio en dólares sea igual al precio en moneda extranjera (USD)__"
   ]
  },
  {
   "cell_type": "code",
   "execution_count": 15,
   "metadata": {
    "scrolled": true
   },
   "outputs": [
    {
     "data": {
      "text/plain": [
       "0"
      ]
     },
     "execution_count": 15,
     "metadata": {},
     "output_type": "execute_result"
    }
   ],
   "source": [
    "len(df[(df['currency'] == 'USD') & (df['price'] != df['price_aprox_usd'])])"
   ]
  },
  {
   "cell_type": "markdown",
   "metadata": {},
   "source": [
    "Como da 0 sabemos que no hay diferencia entre los precios en USD"
   ]
  },
  {
   "cell_type": "markdown",
   "metadata": {},
   "source": [
    "__Chequeo que el precio en ARS sea igual al precio local (ARS)__"
   ]
  },
  {
   "cell_type": "code",
   "execution_count": 16,
   "metadata": {},
   "outputs": [
    {
     "data": {
      "text/plain": [
       "13219"
      ]
     },
     "execution_count": 16,
     "metadata": {},
     "output_type": "execute_result"
    }
   ],
   "source": [
    "len(df[(df['currency'] == 'ARS') & (df['price'] != df['price_aprox_local_currency'])])"
   ]
  },
  {
   "cell_type": "code",
   "execution_count": 17,
   "metadata": {
    "scrolled": true
   },
   "outputs": [
    {
     "data": {
      "text/plain": [
       "13219"
      ]
     },
     "execution_count": 17,
     "metadata": {},
     "output_type": "execute_result"
    }
   ],
   "source": [
    "len(df[df['currency'] == 'ARS'])"
   ]
  },
  {
   "cell_type": "markdown",
   "metadata": {},
   "source": [
    "Como se puede ver hay diferencia en todos los precios en ARS vs precio Local, se decide tomar la columna de price aprox USD como precio"
   ]
  },
  {
   "cell_type": "code",
   "execution_count": 18,
   "metadata": {},
   "outputs": [],
   "source": [
    "df['precioReal1'] = df['price_aprox_usd']"
   ]
  },
  {
   "cell_type": "markdown",
   "metadata": {},
   "source": [
    "__Chequeo cuantas propiedades no tienen precio asignado__"
   ]
  },
  {
   "cell_type": "code",
   "execution_count": 19,
   "metadata": {},
   "outputs": [
    {
     "data": {
      "text/plain": [
       "20410"
      ]
     },
     "execution_count": 19,
     "metadata": {},
     "output_type": "execute_result"
    }
   ],
   "source": [
    "df.precioReal1.isnull().sum()"
   ]
  },
  {
   "cell_type": "markdown",
   "metadata": {},
   "source": [
    "__Si es nulo el precio, verifico que no haya alguna otra columna de precio que tenga valor__"
   ]
  },
  {
   "cell_type": "code",
   "execution_count": 20,
   "metadata": {},
   "outputs": [
    {
     "data": {
      "text/plain": [
       "0"
      ]
     },
     "execution_count": 20,
     "metadata": {},
     "output_type": "execute_result"
    }
   ],
   "source": [
    "len(df[(df.precioReal1.isnull()) & (~df.price_aprox_local_currency.isnull() | \n",
    "                                    ~df.price_aprox_usd.isnull() | \n",
    "                                    ~df.price.isnull())])"
   ]
  },
  {
   "cell_type": "markdown",
   "metadata": {},
   "source": [
    "Comprobamos que no hay ninguna referencia de precio para reemplazar directamente"
   ]
  },
  {
   "cell_type": "markdown",
   "metadata": {},
   "source": [
    "__De los registros que no tienen precio, ver cual tiene precio por m2__"
   ]
  },
  {
   "cell_type": "code",
   "execution_count": 21,
   "metadata": {},
   "outputs": [
    {
     "data": {
      "text/plain": [
       "0"
      ]
     },
     "execution_count": 21,
     "metadata": {},
     "output_type": "execute_result"
    }
   ],
   "source": [
    "len(df[(df.precioReal1.isnull()) & (~df.price_usd_per_m2.isnull() | ~df.price_per_m2.isnull())])"
   ]
  },
  {
   "cell_type": "markdown",
   "metadata": {},
   "source": [
    "No hay registros del que se pueda inferir el precio por el precio por m2"
   ]
  },
  {
   "cell_type": "markdown",
   "metadata": {},
   "source": [
    "__Al ver el título y la descripción de las propiedades, se puede ver que hay algunos que poseen el valor de la propiedad, con lo cual hay que extraer la información.__"
   ]
  },
  {
   "cell_type": "code",
   "execution_count": 22,
   "metadata": {},
   "outputs": [
    {
     "data": {
      "text/plain": [
       "2539"
      ]
     },
     "execution_count": 22,
     "metadata": {},
     "output_type": "execute_result"
    }
   ],
   "source": [
    "df['regex_titulo'] = df['title'].str.extract('(U[$S]D [0-9]?[0-9]?[0-9]?[\\.\\s]?[0-9]?[0-9]?[0-9]?[\\.\\s]?[0-9]?[0-9]?[0-9]?)', expand=False)\n",
    "len(df[df['regex_titulo'].notnull()])"
   ]
  },
  {
   "cell_type": "markdown",
   "metadata": {},
   "source": [
    "Hay 2539 valores a los cuales le podemos extraer el valor en dolares de la propiedad del titulo"
   ]
  },
  {
   "cell_type": "markdown",
   "metadata": {},
   "source": [
    "__Elimino el signo dólares y conservo los valores de casas que valgan más de 10 mil USD__"
   ]
  },
  {
   "cell_type": "code",
   "execution_count": 23,
   "metadata": {
    "scrolled": false
   },
   "outputs": [
    {
     "data": {
      "text/plain": [
       "2507"
      ]
     },
     "execution_count": 23,
     "metadata": {},
     "output_type": "execute_result"
    }
   ],
   "source": [
    "df['regex_titulo'] = df['regex_titulo'].str.extract('([0-9]?[0-9]?[0-9]?[\\.\\s]?[0-9]?[0-9][0-9][\\.\\s]?[0-9][0-9][0-9])',\n",
    "                                                    expand=False)\n",
    "len(df[df['regex_titulo'].notnull()])"
   ]
  },
  {
   "cell_type": "markdown",
   "metadata": {},
   "source": [
    "__Elimino los puntos intermedios para luego convertir a float__"
   ]
  },
  {
   "cell_type": "code",
   "execution_count": 24,
   "metadata": {},
   "outputs": [
    {
     "data": {
      "text/plain": [
       "2507"
      ]
     },
     "execution_count": 24,
     "metadata": {},
     "output_type": "execute_result"
    }
   ],
   "source": [
    "df.regex_titulo.replace(to_replace='\\.',value='',inplace=True, regex=True)\n",
    "len(df[df.regex_titulo.notnull()])"
   ]
  },
  {
   "cell_type": "code",
   "execution_count": 25,
   "metadata": {},
   "outputs": [],
   "source": [
    "df.regex_titulo = df.regex_titulo.astype(float)"
   ]
  },
  {
   "cell_type": "markdown",
   "metadata": {},
   "source": [
    "Hacemos un chequeo rápido de que la conversión fue efectiva"
   ]
  },
  {
   "cell_type": "code",
   "execution_count": 26,
   "metadata": {},
   "outputs": [
    {
     "data": {
      "text/plain": [
       "dtype('float64')"
      ]
     },
     "execution_count": 26,
     "metadata": {},
     "output_type": "execute_result"
    }
   ],
   "source": [
    "df.regex_titulo.dtype"
   ]
  },
  {
   "cell_type": "markdown",
   "metadata": {},
   "source": [
    "__Para todos los precios reales que son NaN, tomo los valores de regex_titulo__"
   ]
  },
  {
   "cell_type": "code",
   "execution_count": 27,
   "metadata": {},
   "outputs": [],
   "source": [
    "df.loc[df.precioReal1.notnull(),'precioReal2'] = df.loc[df.precioReal1.notnull(),'precioReal1']\n",
    "df.loc[((df.precioReal1.isnull()) & (df.regex_titulo.notnull())),'precioReal2'] = df.loc[((df.precioReal1.isnull()) & (df.regex_titulo.notnull())),'regex_titulo']"
   ]
  },
  {
   "cell_type": "code",
   "execution_count": 28,
   "metadata": {
    "scrolled": true
   },
   "outputs": [
    {
     "data": {
      "text/plain": [
       "18010"
      ]
     },
     "execution_count": 28,
     "metadata": {},
     "output_type": "execute_result"
    }
   ],
   "source": [
    "df.precioReal2.isnull().sum()"
   ]
  },
  {
   "cell_type": "markdown",
   "metadata": {},
   "source": [
    "Chequeo que los valores se hayan reemplazado"
   ]
  },
  {
   "cell_type": "code",
   "execution_count": 29,
   "metadata": {
    "scrolled": true
   },
   "outputs": [
    {
     "data": {
      "text/plain": [
       "0"
      ]
     },
     "execution_count": 29,
     "metadata": {},
     "output_type": "execute_result"
    }
   ],
   "source": [
    "df[(df.precioReal1.isnull() & df.regex_titulo.notnull())]['precioReal2'].isnull().sum()"
   ]
  },
  {
   "cell_type": "markdown",
   "metadata": {},
   "source": [
    "__Así como en el título, hay descripciones que poseen valores de propiedad en dolares por lo que los extraemos del mismo__"
   ]
  },
  {
   "cell_type": "code",
   "execution_count": 30,
   "metadata": {},
   "outputs": [
    {
     "data": {
      "text/plain": [
       "5882"
      ]
     },
     "execution_count": 30,
     "metadata": {},
     "output_type": "execute_result"
    }
   ],
   "source": [
    "df['regex_desc'] = df['description'].str.extract('(U[$S]D [0-9]?[0-9]?[0-9]?[\\.\\s]?[0-9]?[0-9]?[0-9]?[\\.\\s]?[0-9]?[0-9]?[0-9]?)',\n",
    "                                                 expand=False)\n",
    "len(df[df['regex_desc'].notnull()])"
   ]
  },
  {
   "cell_type": "markdown",
   "metadata": {},
   "source": [
    "Hay 5882 valores a los cuales le podemos extraer el valor en dolares de la propiedad de descripcion"
   ]
  },
  {
   "cell_type": "markdown",
   "metadata": {},
   "source": [
    "__Elimino el signo dolares y me quedo con los valores de casas que valgan más de 10.000 dolares__"
   ]
  },
  {
   "cell_type": "code",
   "execution_count": 31,
   "metadata": {},
   "outputs": [
    {
     "data": {
      "text/plain": [
       "5273"
      ]
     },
     "execution_count": 31,
     "metadata": {},
     "output_type": "execute_result"
    }
   ],
   "source": [
    "df['regex_desc'] = df['regex_desc'].str.extract('([0-9]?[0-9]?[0-9]?[\\.\\s]?[0-9]?[0-9][0-9][\\.\\s]?[0-9][0-9][0-9])',\n",
    "                                                expand=False)\n",
    "len(df[df['regex_desc'].notnull()])"
   ]
  },
  {
   "cell_type": "markdown",
   "metadata": {},
   "source": [
    "__Elimino los puntos intermedios para luego convertir a float__"
   ]
  },
  {
   "cell_type": "code",
   "execution_count": 32,
   "metadata": {},
   "outputs": [
    {
     "data": {
      "text/plain": [
       "5273"
      ]
     },
     "execution_count": 32,
     "metadata": {},
     "output_type": "execute_result"
    }
   ],
   "source": [
    "df.regex_desc.replace(to_replace='\\.',value='',inplace=True, regex=True)\n",
    "len(df[df.regex_desc.notnull()])"
   ]
  },
  {
   "cell_type": "code",
   "execution_count": 33,
   "metadata": {},
   "outputs": [],
   "source": [
    "df.regex_desc = df.regex_desc.astype(float)"
   ]
  },
  {
   "cell_type": "markdown",
   "metadata": {},
   "source": [
    "Chequeo conversión"
   ]
  },
  {
   "cell_type": "code",
   "execution_count": 34,
   "metadata": {},
   "outputs": [
    {
     "data": {
      "text/plain": [
       "dtype('float64')"
      ]
     },
     "execution_count": 34,
     "metadata": {},
     "output_type": "execute_result"
    }
   ],
   "source": [
    "df.regex_desc.dtype"
   ]
  },
  {
   "cell_type": "markdown",
   "metadata": {},
   "source": [
    "__Para todos los preciosReales2 que son NaN, tomo los valores de regex_desc__"
   ]
  },
  {
   "cell_type": "code",
   "execution_count": 35,
   "metadata": {},
   "outputs": [],
   "source": [
    "df.loc[df.precioReal2.notnull(),'precio_usd'] = df.loc[df.precioReal2.notnull(),'precioReal2']\n",
    "df.loc[((df.precioReal2.isnull()) & \n",
    "        (df.regex_desc.notnull())),'precio_usd'] = df.loc[((df.precioReal2.isnull()) & \n",
    "                                                           (df.regex_desc.notnull())),'regex_desc']"
   ]
  },
  {
   "cell_type": "markdown",
   "metadata": {},
   "source": [
    "Chequeo que los valores se hayan reemplazado"
   ]
  },
  {
   "cell_type": "code",
   "execution_count": 36,
   "metadata": {
    "scrolled": true
   },
   "outputs": [
    {
     "data": {
      "text/plain": [
       "0"
      ]
     },
     "execution_count": 36,
     "metadata": {},
     "output_type": "execute_result"
    }
   ],
   "source": [
    "df[(df.precioReal2.isnull() & df.regex_desc.notnull())]['precio_usd'].isnull().sum()"
   ]
  },
  {
   "cell_type": "markdown",
   "metadata": {},
   "source": [
    "__Vemos la cantidad de valores que recupere con la descripcion__"
   ]
  },
  {
   "cell_type": "code",
   "execution_count": 37,
   "metadata": {},
   "outputs": [
    {
     "data": {
      "text/plain": [
       "20"
      ]
     },
     "execution_count": 37,
     "metadata": {},
     "output_type": "execute_result"
    }
   ],
   "source": [
    "df.precioReal2.isnull().sum() - df.precio_usd.isnull().sum()"
   ]
  },
  {
   "cell_type": "markdown",
   "metadata": {},
   "source": [
    "__Ahora que ya tengo todos los precios en dolares directos, procedo a chequear si puedo salvar registros con el precio por metro cuadrado__"
   ]
  },
  {
   "cell_type": "code",
   "execution_count": 38,
   "metadata": {},
   "outputs": [
    {
     "data": {
      "text/plain": [
       "0"
      ]
     },
     "execution_count": 38,
     "metadata": {},
     "output_type": "execute_result"
    }
   ],
   "source": [
    "len(df[df.precio_usd.isnull() & (df.price_usd_per_m2.notnull() | df.price_per_m2.notnull())])"
   ]
  },
  {
   "cell_type": "markdown",
   "metadata": {},
   "source": [
    "Como es 0, elimino las filas ya que no puedo recuperar el precio"
   ]
  },
  {
   "cell_type": "code",
   "execution_count": 39,
   "metadata": {},
   "outputs": [],
   "source": [
    "df.dropna(subset=['precio_usd'], inplace=True)"
   ]
  },
  {
   "cell_type": "markdown",
   "metadata": {},
   "source": [
    "__Al ya agotar las instancias de recupero de precios, procedo a eliminar las columnas auxiliares de precios y me quedo con precio_usd__"
   ]
  },
  {
   "cell_type": "code",
   "execution_count": 40,
   "metadata": {},
   "outputs": [],
   "source": [
    "df.drop(columns=['price','currency','price_aprox_local_currency','price_aprox_usd','precioReal1','regex_titulo',\n",
    "                 'precioReal2','regex_desc'], inplace=True)"
   ]
  },
  {
   "cell_type": "code",
   "execution_count": 41,
   "metadata": {
    "scrolled": true
   },
   "outputs": [
    {
     "data": {
      "text/html": [
       "<div>\n",
       "<style scoped>\n",
       "    .dataframe tbody tr th:only-of-type {\n",
       "        vertical-align: middle;\n",
       "    }\n",
       "\n",
       "    .dataframe tbody tr th {\n",
       "        vertical-align: top;\n",
       "    }\n",
       "\n",
       "    .dataframe thead th {\n",
       "        text-align: right;\n",
       "    }\n",
       "</style>\n",
       "<table border=\"1\" class=\"dataframe\">\n",
       "  <thead>\n",
       "    <tr style=\"text-align: right;\">\n",
       "      <th></th>\n",
       "      <th>property_type</th>\n",
       "      <th>place_name</th>\n",
       "      <th>place_with_parent_names</th>\n",
       "      <th>country_name</th>\n",
       "      <th>state_name</th>\n",
       "      <th>geonames_id</th>\n",
       "      <th>lat-lon</th>\n",
       "      <th>lat</th>\n",
       "      <th>lon</th>\n",
       "      <th>surface_total_in_m2</th>\n",
       "      <th>surface_covered_in_m2</th>\n",
       "      <th>price_usd_per_m2</th>\n",
       "      <th>price_per_m2</th>\n",
       "      <th>floor</th>\n",
       "      <th>rooms</th>\n",
       "      <th>expenses</th>\n",
       "      <th>properati_url</th>\n",
       "      <th>description</th>\n",
       "      <th>title</th>\n",
       "      <th>image_thumbnail</th>\n",
       "      <th>precio_usd</th>\n",
       "    </tr>\n",
       "  </thead>\n",
       "  <tbody>\n",
       "    <tr>\n",
       "      <th>41444</th>\n",
       "      <td>PH</td>\n",
       "      <td>Ramos Mejía</td>\n",
       "      <td>|Argentina|Bs.As. G.B.A. Zona Oeste|La Matanza...</td>\n",
       "      <td>Argentina</td>\n",
       "      <td>Bs.As. G.B.A. Zona Oeste</td>\n",
       "      <td>3429617.0</td>\n",
       "      <td>NaN</td>\n",
       "      <td>NaN</td>\n",
       "      <td>NaN</td>\n",
       "      <td>121.0</td>\n",
       "      <td>96.0</td>\n",
       "      <td>1239.669421</td>\n",
       "      <td>1562.5</td>\n",
       "      <td>NaN</td>\n",
       "      <td>3.0</td>\n",
       "      <td>NaN</td>\n",
       "      <td>http://www.properati.com.ar/18u6j_venta_ph_ram...</td>\n",
       "      <td>RAMOS MEJIA, CASA EN PH 3 AMBIENTES EN ALQUILE...</td>\n",
       "      <td>PH EN VENTA</td>\n",
       "      <td>NaN</td>\n",
       "      <td>150000.0</td>\n",
       "    </tr>\n",
       "  </tbody>\n",
       "</table>\n",
       "</div>"
      ],
      "text/plain": [
       "      property_type   place_name  \\\n",
       "41444            PH  Ramos Mejía   \n",
       "\n",
       "                                 place_with_parent_names country_name  \\\n",
       "41444  |Argentina|Bs.As. G.B.A. Zona Oeste|La Matanza...    Argentina   \n",
       "\n",
       "                     state_name  geonames_id lat-lon  lat  lon  \\\n",
       "41444  Bs.As. G.B.A. Zona Oeste    3429617.0     NaN  NaN  NaN   \n",
       "\n",
       "       surface_total_in_m2  surface_covered_in_m2  price_usd_per_m2  \\\n",
       "41444                121.0                   96.0       1239.669421   \n",
       "\n",
       "       price_per_m2  floor  rooms  expenses  \\\n",
       "41444        1562.5    NaN    3.0       NaN   \n",
       "\n",
       "                                           properati_url  \\\n",
       "41444  http://www.properati.com.ar/18u6j_venta_ph_ram...   \n",
       "\n",
       "                                             description        title  \\\n",
       "41444  RAMOS MEJIA, CASA EN PH 3 AMBIENTES EN ALQUILE...  PH EN VENTA   \n",
       "\n",
       "      image_thumbnail  precio_usd  \n",
       "41444             NaN    150000.0  "
      ]
     },
     "execution_count": 41,
     "metadata": {},
     "output_type": "execute_result"
    }
   ],
   "source": [
    "df.sample(1)"
   ]
  },
  {
   "cell_type": "markdown",
   "metadata": {},
   "source": [
    "## m2 totales y cubiertos"
   ]
  },
  {
   "cell_type": "markdown",
   "metadata": {},
   "source": [
    "__Chequeo a ver si hay propiedades con los m2 invertidos__"
   ]
  },
  {
   "cell_type": "code",
   "execution_count": 42,
   "metadata": {},
   "outputs": [
    {
     "data": {
      "text/plain": [
       "1011"
      ]
     },
     "execution_count": 42,
     "metadata": {},
     "output_type": "execute_result"
    }
   ],
   "source": [
    "len(df[df.surface_total_in_m2 < df.surface_covered_in_m2])"
   ]
  },
  {
   "cell_type": "markdown",
   "metadata": {},
   "source": [
    "__De las filas que poseen m2 cargados, chequeo que la superficie total sea mayor que la cubierta, caso contrario las invierte, lo mismo con los precios por m2__"
   ]
  },
  {
   "cell_type": "code",
   "execution_count": 43,
   "metadata": {},
   "outputs": [],
   "source": [
    "df.loc[(df.surface_total_in_m2 < df.surface_covered_in_m2),\n",
    "       'sup_auxiliar'] = df.loc[(df.surface_total_in_m2 < df.surface_covered_in_m2),'surface_total_in_m2']\n",
    "df.loc[(df.surface_total_in_m2 < df.surface_covered_in_m2),\n",
    "       'surface_total_in_m2'] = df.loc[(df.surface_total_in_m2 < df.surface_covered_in_m2),'surface_covered_in_m2']\n",
    "df.loc[(df.sup_auxiliar.notnull()),\n",
    "       'surface_covered_in_m2'] = df.loc[(df.sup_auxiliar.notnull()),'sup_auxiliar']\n",
    "df.loc[(df.price_usd_per_m2 > df.price_per_m2),\n",
    "       'precio_aux'] = df.loc[(df.price_usd_per_m2 > df.price_per_m2),'price_usd_per_m2']\n",
    "df.loc[(df.price_usd_per_m2 > df.price_per_m2),\n",
    "       'price_usd_per_m2'] = df.loc[(df.price_usd_per_m2 > df.price_per_m2),'price_per_m2']\n",
    "df.loc[(df.precio_aux.notnull()),\n",
    "       'price_per_m2'] = df.loc[(df.precio_aux.notnull()),'precio_aux']\n",
    "df.drop(columns=['sup_auxiliar','precio_aux'],inplace=True)"
   ]
  },
  {
   "cell_type": "markdown",
   "metadata": {},
   "source": [
    "__Cuento la cantidad de registros sin metros cuadrados cubiertos ni totales__"
   ]
  },
  {
   "cell_type": "code",
   "execution_count": 44,
   "metadata": {},
   "outputs": [
    {
     "data": {
      "text/plain": [
       "7682"
      ]
     },
     "execution_count": 44,
     "metadata": {},
     "output_type": "execute_result"
    }
   ],
   "source": [
    "len(df[df.surface_total_in_m2.isnull() & df.surface_covered_in_m2.isnull()])"
   ]
  },
  {
   "cell_type": "code",
   "execution_count": 45,
   "metadata": {},
   "outputs": [
    {
     "data": {
      "text/plain": [
       "13223"
      ]
     },
     "execution_count": 45,
     "metadata": {},
     "output_type": "execute_result"
    }
   ],
   "source": [
    "len(df[df.surface_covered_in_m2.isnull()])"
   ]
  },
  {
   "cell_type": "code",
   "execution_count": 46,
   "metadata": {},
   "outputs": [
    {
     "data": {
      "text/plain": [
       "32272"
      ]
     },
     "execution_count": 46,
     "metadata": {},
     "output_type": "execute_result"
    }
   ],
   "source": [
    "len(df[df.surface_total_in_m2.isnull()])"
   ]
  },
  {
   "cell_type": "markdown",
   "metadata": {},
   "source": [
    "__Chequeo aquellas propiedades que tengan superficie cubierta cargada pero no total__"
   ]
  },
  {
   "cell_type": "code",
   "execution_count": 47,
   "metadata": {},
   "outputs": [
    {
     "data": {
      "text/plain": [
       "24590"
      ]
     },
     "execution_count": 47,
     "metadata": {},
     "output_type": "execute_result"
    }
   ],
   "source": [
    "len(df[df.surface_total_in_m2.isnull() & df.surface_covered_in_m2.notnull()])"
   ]
  },
  {
   "cell_type": "code",
   "execution_count": 48,
   "metadata": {
    "scrolled": true
   },
   "outputs": [
    {
     "data": {
      "text/html": [
       "<div>\n",
       "<style scoped>\n",
       "    .dataframe tbody tr th:only-of-type {\n",
       "        vertical-align: middle;\n",
       "    }\n",
       "\n",
       "    .dataframe tbody tr th {\n",
       "        vertical-align: top;\n",
       "    }\n",
       "\n",
       "    .dataframe thead th {\n",
       "        text-align: right;\n",
       "    }\n",
       "</style>\n",
       "<table border=\"1\" class=\"dataframe\">\n",
       "  <thead>\n",
       "    <tr style=\"text-align: right;\">\n",
       "      <th></th>\n",
       "      <th>geonames_id</th>\n",
       "      <th>lat</th>\n",
       "      <th>lon</th>\n",
       "      <th>surface_total_in_m2</th>\n",
       "      <th>surface_covered_in_m2</th>\n",
       "      <th>price_usd_per_m2</th>\n",
       "      <th>price_per_m2</th>\n",
       "      <th>floor</th>\n",
       "      <th>rooms</th>\n",
       "      <th>expenses</th>\n",
       "      <th>precio_usd</th>\n",
       "    </tr>\n",
       "  </thead>\n",
       "  <tbody>\n",
       "    <tr>\n",
       "      <th>count</th>\n",
       "      <td>20401.0</td>\n",
       "      <td>14358.0</td>\n",
       "      <td>14358.0</td>\n",
       "      <td>0.0</td>\n",
       "      <td>24590.0</td>\n",
       "      <td>0.0</td>\n",
       "      <td>24308.0</td>\n",
       "      <td>3421.0</td>\n",
       "      <td>12741.0</td>\n",
       "      <td>1807.0</td>\n",
       "      <td>24590.0</td>\n",
       "    </tr>\n",
       "    <tr>\n",
       "      <th>mean</th>\n",
       "      <td>3576085.0</td>\n",
       "      <td>-34.0</td>\n",
       "      <td>-59.0</td>\n",
       "      <td>NaN</td>\n",
       "      <td>140.0</td>\n",
       "      <td>NaN</td>\n",
       "      <td>7726.0</td>\n",
       "      <td>33.0</td>\n",
       "      <td>3.0</td>\n",
       "      <td>2991.0</td>\n",
       "      <td>228621.0</td>\n",
       "    </tr>\n",
       "    <tr>\n",
       "      <th>std</th>\n",
       "      <td>378819.0</td>\n",
       "      <td>2.0</td>\n",
       "      <td>2.0</td>\n",
       "      <td>NaN</td>\n",
       "      <td>1248.0</td>\n",
       "      <td>NaN</td>\n",
       "      <td>48165.0</td>\n",
       "      <td>173.0</td>\n",
       "      <td>2.0</td>\n",
       "      <td>2808.0</td>\n",
       "      <td>298416.0</td>\n",
       "    </tr>\n",
       "    <tr>\n",
       "      <th>min</th>\n",
       "      <td>3427208.0</td>\n",
       "      <td>-41.0</td>\n",
       "      <td>-72.0</td>\n",
       "      <td>NaN</td>\n",
       "      <td>1.0</td>\n",
       "      <td>NaN</td>\n",
       "      <td>3.0</td>\n",
       "      <td>1.0</td>\n",
       "      <td>1.0</td>\n",
       "      <td>1.0</td>\n",
       "      <td>5000.0</td>\n",
       "    </tr>\n",
       "    <tr>\n",
       "      <th>25%</th>\n",
       "      <td>3430234.0</td>\n",
       "      <td>-35.0</td>\n",
       "      <td>-59.0</td>\n",
       "      <td>NaN</td>\n",
       "      <td>46.0</td>\n",
       "      <td>NaN</td>\n",
       "      <td>1412.0</td>\n",
       "      <td>1.0</td>\n",
       "      <td>2.0</td>\n",
       "      <td>1000.0</td>\n",
       "      <td>89000.0</td>\n",
       "    </tr>\n",
       "    <tr>\n",
       "      <th>50%</th>\n",
       "      <td>3433359.0</td>\n",
       "      <td>-35.0</td>\n",
       "      <td>-58.0</td>\n",
       "      <td>NaN</td>\n",
       "      <td>78.0</td>\n",
       "      <td>NaN</td>\n",
       "      <td>2000.0</td>\n",
       "      <td>3.0</td>\n",
       "      <td>3.0</td>\n",
       "      <td>2000.0</td>\n",
       "      <td>142000.0</td>\n",
       "    </tr>\n",
       "    <tr>\n",
       "      <th>75%</th>\n",
       "      <td>3836277.0</td>\n",
       "      <td>-34.0</td>\n",
       "      <td>-58.0</td>\n",
       "      <td>NaN</td>\n",
       "      <td>152.0</td>\n",
       "      <td>NaN</td>\n",
       "      <td>3040.0</td>\n",
       "      <td>6.0</td>\n",
       "      <td>4.0</td>\n",
       "      <td>4200.0</td>\n",
       "      <td>250000.0</td>\n",
       "    </tr>\n",
       "    <tr>\n",
       "      <th>max</th>\n",
       "      <td>6942538.0</td>\n",
       "      <td>-24.0</td>\n",
       "      <td>-55.0</td>\n",
       "      <td>NaN</td>\n",
       "      <td>187000.0</td>\n",
       "      <td>NaN</td>\n",
       "      <td>4000000.0</td>\n",
       "      <td>2509.0</td>\n",
       "      <td>30.0</td>\n",
       "      <td>23000.0</td>\n",
       "      <td>9000000.0</td>\n",
       "    </tr>\n",
       "  </tbody>\n",
       "</table>\n",
       "</div>"
      ],
      "text/plain": [
       "       geonames_id      lat      lon  surface_total_in_m2  \\\n",
       "count      20401.0  14358.0  14358.0                  0.0   \n",
       "mean     3576085.0    -34.0    -59.0                  NaN   \n",
       "std       378819.0      2.0      2.0                  NaN   \n",
       "min      3427208.0    -41.0    -72.0                  NaN   \n",
       "25%      3430234.0    -35.0    -59.0                  NaN   \n",
       "50%      3433359.0    -35.0    -58.0                  NaN   \n",
       "75%      3836277.0    -34.0    -58.0                  NaN   \n",
       "max      6942538.0    -24.0    -55.0                  NaN   \n",
       "\n",
       "       surface_covered_in_m2  price_usd_per_m2  price_per_m2   floor    rooms  \\\n",
       "count                24590.0               0.0       24308.0  3421.0  12741.0   \n",
       "mean                   140.0               NaN        7726.0    33.0      3.0   \n",
       "std                   1248.0               NaN       48165.0   173.0      2.0   \n",
       "min                      1.0               NaN           3.0     1.0      1.0   \n",
       "25%                     46.0               NaN        1412.0     1.0      2.0   \n",
       "50%                     78.0               NaN        2000.0     3.0      3.0   \n",
       "75%                    152.0               NaN        3040.0     6.0      4.0   \n",
       "max                 187000.0               NaN     4000000.0  2509.0     30.0   \n",
       "\n",
       "       expenses  precio_usd  \n",
       "count    1807.0     24590.0  \n",
       "mean     2991.0    228621.0  \n",
       "std      2808.0    298416.0  \n",
       "min         1.0      5000.0  \n",
       "25%      1000.0     89000.0  \n",
       "50%      2000.0    142000.0  \n",
       "75%      4200.0    250000.0  \n",
       "max     23000.0   9000000.0  "
      ]
     },
     "execution_count": 48,
     "metadata": {},
     "output_type": "execute_result"
    }
   ],
   "source": [
    "df[df.surface_total_in_m2.isnull() & df.surface_covered_in_m2.notnull()].describe().round(0)"
   ]
  },
  {
   "cell_type": "markdown",
   "metadata": {},
   "source": [
    "__Copio los valores de superficie cubierta en la total para estos casos__"
   ]
  },
  {
   "cell_type": "code",
   "execution_count": 49,
   "metadata": {},
   "outputs": [],
   "source": [
    "df.loc[(df.surface_total_in_m2.isnull() & \n",
    "        df.surface_covered_in_m2.notnull()),'surface_total_in_m2'] = df.loc[(df.surface_total_in_m2.isnull() & \n",
    "                                                       df.surface_covered_in_m2.notnull()),'surface_covered_in_m2']"
   ]
  },
  {
   "cell_type": "markdown",
   "metadata": {},
   "source": [
    "Vuelvo a contar la cantidad de registros sin metros cuadrados totales"
   ]
  },
  {
   "cell_type": "code",
   "execution_count": 50,
   "metadata": {},
   "outputs": [
    {
     "data": {
      "text/plain": [
       "7682"
      ]
     },
     "execution_count": 50,
     "metadata": {},
     "output_type": "execute_result"
    }
   ],
   "source": [
    "len(df[df.surface_total_in_m2.isnull()])"
   ]
  },
  {
   "cell_type": "markdown",
   "metadata": {},
   "source": [
    "Cuento la cantidad de registros sin metros cuadrados cubiertos"
   ]
  },
  {
   "cell_type": "code",
   "execution_count": 51,
   "metadata": {},
   "outputs": [
    {
     "data": {
      "text/plain": [
       "13223"
      ]
     },
     "execution_count": 51,
     "metadata": {},
     "output_type": "execute_result"
    }
   ],
   "source": [
    "len(df[df.surface_covered_in_m2.isnull()])"
   ]
  },
  {
   "cell_type": "markdown",
   "metadata": {},
   "source": [
    "__Copio los valores de superficie total en la cubierta para los casos que este la total pero no la cubierta__"
   ]
  },
  {
   "cell_type": "code",
   "execution_count": 52,
   "metadata": {},
   "outputs": [],
   "source": [
    "df.loc[(df.surface_total_in_m2.notnull() & \n",
    "        df.surface_covered_in_m2.isnull()),'surface_covered_in_m2'] = df.loc[(df.surface_total_in_m2.notnull() & \n",
    "                                                       df.surface_covered_in_m2.isnull()),'surface_total_in_m2']"
   ]
  },
  {
   "cell_type": "markdown",
   "metadata": {},
   "source": [
    "Vuelvo a contar la cantidad de registros sin metros cuadrados totales"
   ]
  },
  {
   "cell_type": "code",
   "execution_count": 53,
   "metadata": {},
   "outputs": [
    {
     "data": {
      "text/plain": [
       "7682"
      ]
     },
     "execution_count": 53,
     "metadata": {},
     "output_type": "execute_result"
    }
   ],
   "source": [
    "len(df[df.surface_total_in_m2.isnull()])"
   ]
  },
  {
   "cell_type": "markdown",
   "metadata": {},
   "source": [
    "Vuelvo a contar la cantidad de registros sin metros cuadrados cubiertos"
   ]
  },
  {
   "cell_type": "code",
   "execution_count": 54,
   "metadata": {},
   "outputs": [
    {
     "data": {
      "text/plain": [
       "7682"
      ]
     },
     "execution_count": 54,
     "metadata": {},
     "output_type": "execute_result"
    }
   ],
   "source": [
    "len(df[df.surface_covered_in_m2.isnull()])"
   ]
  },
  {
   "cell_type": "markdown",
   "metadata": {},
   "source": [
    "__Para los casos restantes, intentaremos recuperar los registros con los datos de precio x m2 y el precio en USD__"
   ]
  },
  {
   "cell_type": "code",
   "execution_count": 55,
   "metadata": {
    "scrolled": true
   },
   "outputs": [
    {
     "data": {
      "text/plain": [
       "0"
      ]
     },
     "execution_count": 55,
     "metadata": {},
     "output_type": "execute_result"
    }
   ],
   "source": [
    "len(df[df.surface_covered_in_m2.isnull() & (df.price_usd_per_m2.notnull() | df.price_per_m2.notnull())])"
   ]
  },
  {
   "cell_type": "markdown",
   "metadata": {},
   "source": [
    "Como no se puede salvar por este medio, se recurre a un regex de titulo y descripción"
   ]
  },
  {
   "cell_type": "markdown",
   "metadata": {},
   "source": [
    "__Comienzo por la descripcion__"
   ]
  },
  {
   "cell_type": "code",
   "execution_count": 56,
   "metadata": {
    "scrolled": false
   },
   "outputs": [
    {
     "data": {
      "text/plain": [
       "1111"
      ]
     },
     "execution_count": 56,
     "metadata": {},
     "output_type": "execute_result"
    }
   ],
   "source": [
    "df['regex_mts2']=df['description'].str.extract('(\\d+[\\.\\s]?\\d+\\ ?[mM][tT]?[sS]?[²2])', expand=False)\n",
    "len(df[df.regex_mts2.notnull() & (df.surface_covered_in_m2.isnull() | df.surface_total_in_m2.isnull())])"
   ]
  },
  {
   "cell_type": "markdown",
   "metadata": {},
   "source": [
    "Hay 1111 valores que pueden rescatarse con la descripción"
   ]
  },
  {
   "cell_type": "markdown",
   "metadata": {},
   "source": [
    "__Sigo con el título__"
   ]
  },
  {
   "cell_type": "code",
   "execution_count": 57,
   "metadata": {},
   "outputs": [
    {
     "data": {
      "text/plain": [
       "60"
      ]
     },
     "execution_count": 57,
     "metadata": {},
     "output_type": "execute_result"
    }
   ],
   "source": [
    "df['regex_title_mts2']=df['title'].str.extract('(\\d+[\\.\\s]?\\d+\\ ?[mM][tT]?[sS]?[²2])', expand=False)\n",
    "len(df[df.regex_title_mts2.notnull() & (df.surface_covered_in_m2.isnull() | df.surface_total_in_m2.isnull())])"
   ]
  },
  {
   "cell_type": "markdown",
   "metadata": {},
   "source": [
    "Hay 60 valores que pueden rescatarse con el titulo"
   ]
  },
  {
   "cell_type": "code",
   "execution_count": 58,
   "metadata": {},
   "outputs": [
    {
     "data": {
      "text/plain": [
       "2584"
      ]
     },
     "execution_count": 58,
     "metadata": {},
     "output_type": "execute_result"
    }
   ],
   "source": [
    "len(df[(df.regex_mts2.notnull()) & (df.regex_title_mts2.notnull())])"
   ]
  },
  {
   "cell_type": "markdown",
   "metadata": {},
   "source": [
    "__Primero asigno el metraje del titulo a los m2 totales si son nulos__"
   ]
  },
  {
   "cell_type": "code",
   "execution_count": 59,
   "metadata": {},
   "outputs": [],
   "source": [
    "df.loc[(df.surface_total_in_m2.isnull()) & \n",
    "       (df.surface_covered_in_m2.isnull()) &\n",
    "       (df.regex_title_mts2.notnull()),'regex_final_mts2'] = df.loc[(df.surface_total_in_m2.isnull()) & \n",
    "                                                                    (df.surface_covered_in_m2.isnull()) &\n",
    "                                                                    (df.regex_title_mts2.notnull()),'regex_title_mts2']"
   ]
  },
  {
   "cell_type": "code",
   "execution_count": 60,
   "metadata": {
    "scrolled": true
   },
   "outputs": [
    {
     "data": {
      "text/plain": [
       "60"
      ]
     },
     "execution_count": 60,
     "metadata": {},
     "output_type": "execute_result"
    }
   ],
   "source": [
    "len(df[(df.surface_total_in_m2.isnull() & df.surface_covered_in_m2.isnull()) & (df.regex_final_mts2.notnull())])"
   ]
  },
  {
   "cell_type": "markdown",
   "metadata": {},
   "source": [
    "Se rescataron 60 registros"
   ]
  },
  {
   "cell_type": "markdown",
   "metadata": {},
   "source": [
    "__Ahora aplico lo mismo con el regex descripcion__"
   ]
  },
  {
   "cell_type": "code",
   "execution_count": 61,
   "metadata": {},
   "outputs": [],
   "source": [
    "df.loc[(df.surface_total_in_m2.isnull()) & \n",
    "       (df.surface_covered_in_m2.isnull()) & \n",
    "       (df.regex_final_mts2.isnull()) & \n",
    "       (df.regex_mts2.notnull()),'regex_final_mts2'] = df.loc[(df.surface_total_in_m2.isnull()) & \n",
    "                                                              (df.surface_covered_in_m2.isnull()) & \n",
    "                                                              (df.regex_final_mts2.isnull()) & \n",
    "                                                              (df.regex_mts2.notnull()),'regex_mts2']"
   ]
  },
  {
   "cell_type": "code",
   "execution_count": 62,
   "metadata": {},
   "outputs": [
    {
     "data": {
      "text/plain": [
       "1120"
      ]
     },
     "execution_count": 62,
     "metadata": {},
     "output_type": "execute_result"
    }
   ],
   "source": [
    "len(df[(df.surface_total_in_m2.isnull() & df.surface_covered_in_m2.isnull()) & (df.regex_final_mts2.notnull())])"
   ]
  },
  {
   "cell_type": "markdown",
   "metadata": {},
   "source": [
    "Se rescataron entre la descripcion y el titulo 1120 valores de m2"
   ]
  },
  {
   "cell_type": "code",
   "execution_count": 63,
   "metadata": {},
   "outputs": [
    {
     "data": {
      "text/html": [
       "<div>\n",
       "<style scoped>\n",
       "    .dataframe tbody tr th:only-of-type {\n",
       "        vertical-align: middle;\n",
       "    }\n",
       "\n",
       "    .dataframe tbody tr th {\n",
       "        vertical-align: top;\n",
       "    }\n",
       "\n",
       "    .dataframe thead th {\n",
       "        text-align: right;\n",
       "    }\n",
       "</style>\n",
       "<table border=\"1\" class=\"dataframe\">\n",
       "  <thead>\n",
       "    <tr style=\"text-align: right;\">\n",
       "      <th></th>\n",
       "      <th>property_type</th>\n",
       "      <th>place_name</th>\n",
       "      <th>place_with_parent_names</th>\n",
       "      <th>country_name</th>\n",
       "      <th>state_name</th>\n",
       "      <th>geonames_id</th>\n",
       "      <th>lat-lon</th>\n",
       "      <th>lat</th>\n",
       "      <th>lon</th>\n",
       "      <th>surface_total_in_m2</th>\n",
       "      <th>surface_covered_in_m2</th>\n",
       "      <th>price_usd_per_m2</th>\n",
       "      <th>price_per_m2</th>\n",
       "      <th>floor</th>\n",
       "      <th>rooms</th>\n",
       "      <th>expenses</th>\n",
       "      <th>properati_url</th>\n",
       "      <th>description</th>\n",
       "      <th>title</th>\n",
       "      <th>image_thumbnail</th>\n",
       "      <th>precio_usd</th>\n",
       "      <th>regex_mts2</th>\n",
       "      <th>regex_title_mts2</th>\n",
       "      <th>regex_final_mts2</th>\n",
       "    </tr>\n",
       "  </thead>\n",
       "  <tbody>\n",
       "    <tr>\n",
       "      <th>91498</th>\n",
       "      <td>house</td>\n",
       "      <td>Grand Bourg</td>\n",
       "      <td>|Argentina|Bs.As. G.B.A. Zona Norte|Malvinas A...</td>\n",
       "      <td>Argentina</td>\n",
       "      <td>Bs.As. G.B.A. Zona Norte</td>\n",
       "      <td>NaN</td>\n",
       "      <td>NaN</td>\n",
       "      <td>NaN</td>\n",
       "      <td>NaN</td>\n",
       "      <td>NaN</td>\n",
       "      <td>NaN</td>\n",
       "      <td>NaN</td>\n",
       "      <td>NaN</td>\n",
       "      <td>NaN</td>\n",
       "      <td>NaN</td>\n",
       "      <td>NaN</td>\n",
       "      <td>http://www.properati.com.ar/1bbnm_venta_casa_g...</td>\n",
       "      <td>CASA  SOBRE LOTE 10x22 (220 M2)DOS (2) Dormito...</td>\n",
       "      <td>EXCELENTE UBICACION CASA 3 Ambientes EN VENTA</td>\n",
       "      <td>https://thumbs4.properati.com/5/5lWVK5KPUDFCya...</td>\n",
       "      <td>80000.0</td>\n",
       "      <td>220 M2</td>\n",
       "      <td>NaN</td>\n",
       "      <td>220 M2</td>\n",
       "    </tr>\n",
       "    <tr>\n",
       "      <th>73466</th>\n",
       "      <td>house</td>\n",
       "      <td>Burzaco</td>\n",
       "      <td>|Argentina|Bs.As. G.B.A. Zona Sur|Almirante Br...</td>\n",
       "      <td>Argentina</td>\n",
       "      <td>Bs.As. G.B.A. Zona Sur</td>\n",
       "      <td>3435894.0</td>\n",
       "      <td>NaN</td>\n",
       "      <td>NaN</td>\n",
       "      <td>NaN</td>\n",
       "      <td>NaN</td>\n",
       "      <td>NaN</td>\n",
       "      <td>NaN</td>\n",
       "      <td>NaN</td>\n",
       "      <td>NaN</td>\n",
       "      <td>NaN</td>\n",
       "      <td>NaN</td>\n",
       "      <td>http://www.properati.com.ar/1anqp_venta_casa_b...</td>\n",
       "      <td>SOBRE CALLE ASAMBLEA Nº 1.763 (BURZACO) ENTRE ...</td>\n",
       "      <td>Vende:Chalet</td>\n",
       "      <td>https://thumbs4.properati.com/1/laJc65r5IG0BWn...</td>\n",
       "      <td>250000.0</td>\n",
       "      <td>130M2</td>\n",
       "      <td>NaN</td>\n",
       "      <td>130M2</td>\n",
       "    </tr>\n",
       "  </tbody>\n",
       "</table>\n",
       "</div>"
      ],
      "text/plain": [
       "      property_type   place_name  \\\n",
       "91498         house  Grand Bourg   \n",
       "73466         house      Burzaco   \n",
       "\n",
       "                                 place_with_parent_names country_name  \\\n",
       "91498  |Argentina|Bs.As. G.B.A. Zona Norte|Malvinas A...    Argentina   \n",
       "73466  |Argentina|Bs.As. G.B.A. Zona Sur|Almirante Br...    Argentina   \n",
       "\n",
       "                     state_name  geonames_id lat-lon  lat  lon  \\\n",
       "91498  Bs.As. G.B.A. Zona Norte          NaN     NaN  NaN  NaN   \n",
       "73466    Bs.As. G.B.A. Zona Sur    3435894.0     NaN  NaN  NaN   \n",
       "\n",
       "       surface_total_in_m2  surface_covered_in_m2  price_usd_per_m2  \\\n",
       "91498                  NaN                    NaN               NaN   \n",
       "73466                  NaN                    NaN               NaN   \n",
       "\n",
       "       price_per_m2  floor  rooms  expenses  \\\n",
       "91498           NaN    NaN    NaN       NaN   \n",
       "73466           NaN    NaN    NaN       NaN   \n",
       "\n",
       "                                           properati_url  \\\n",
       "91498  http://www.properati.com.ar/1bbnm_venta_casa_g...   \n",
       "73466  http://www.properati.com.ar/1anqp_venta_casa_b...   \n",
       "\n",
       "                                             description  \\\n",
       "91498  CASA  SOBRE LOTE 10x22 (220 M2)DOS (2) Dormito...   \n",
       "73466  SOBRE CALLE ASAMBLEA Nº 1.763 (BURZACO) ENTRE ...   \n",
       "\n",
       "                                               title  \\\n",
       "91498  EXCELENTE UBICACION CASA 3 Ambientes EN VENTA   \n",
       "73466                                   Vende:Chalet   \n",
       "\n",
       "                                         image_thumbnail  precio_usd  \\\n",
       "91498  https://thumbs4.properati.com/5/5lWVK5KPUDFCya...     80000.0   \n",
       "73466  https://thumbs4.properati.com/1/laJc65r5IG0BWn...    250000.0   \n",
       "\n",
       "      regex_mts2 regex_title_mts2 regex_final_mts2  \n",
       "91498     220 M2              NaN           220 M2  \n",
       "73466      130M2              NaN            130M2  "
      ]
     },
     "execution_count": 63,
     "metadata": {},
     "output_type": "execute_result"
    }
   ],
   "source": [
    "df[df.regex_final_mts2.notnull()].sample(2)"
   ]
  },
  {
   "cell_type": "markdown",
   "metadata": {},
   "source": [
    "Como el metraje esta escrito de varias formas, no puedo usar un solo regex, por lo que se va desde el caso más genérico y se lo pisa posteriormente con los casos más específicos para que pueda ser convertido a float"
   ]
  },
  {
   "cell_type": "markdown",
   "metadata": {},
   "source": [
    "__Saco los valores raw, que se pisarán con los especiales que tienen coma__"
   ]
  },
  {
   "cell_type": "code",
   "execution_count": 64,
   "metadata": {},
   "outputs": [
    {
     "data": {
      "text/plain": [
       "1120"
      ]
     },
     "execution_count": 64,
     "metadata": {},
     "output_type": "execute_result"
    }
   ],
   "source": [
    "df['regex_final_miles']=df['regex_final_mts2'].str.extract('(\\d+[\\.\\s]?[0-9]?[0-9]?[0-9])', expand=False)\n",
    "len(df[df.regex_final_miles.notnull()])"
   ]
  },
  {
   "cell_type": "markdown",
   "metadata": {},
   "source": [
    "__Saco los valores que estan en miles y que tienen coma__"
   ]
  },
  {
   "cell_type": "code",
   "execution_count": 65,
   "metadata": {},
   "outputs": [
    {
     "data": {
      "text/plain": [
       "2"
      ]
     },
     "execution_count": 65,
     "metadata": {},
     "output_type": "execute_result"
    }
   ],
   "source": [
    "df['regex_final_miles_coma']=df['regex_final_mts2'].str.extract('(\\d+[\\.\\s]?[0-9][0-9][0-9][\\.])', expand=False)\n",
    "len(df[df.regex_final_miles_coma.notnull()])"
   ]
  },
  {
   "cell_type": "markdown",
   "metadata": {},
   "source": [
    "__Saco los valores que estan en cientos y que tienen coma__"
   ]
  },
  {
   "cell_type": "code",
   "execution_count": 66,
   "metadata": {},
   "outputs": [
    {
     "data": {
      "text/plain": [
       "48"
      ]
     },
     "execution_count": 66,
     "metadata": {},
     "output_type": "execute_result"
    }
   ],
   "source": [
    "df['regex_final_cientos_coma']=df['regex_final_mts2'].str.extract('(\\d+[\\.\\s]?\\d+[\\.])', expand=False)\n",
    "len(df[df.regex_final_miles_coma.isnull() & df.regex_final_cientos_coma.notnull()])"
   ]
  },
  {
   "cell_type": "markdown",
   "metadata": {},
   "source": [
    "__Paso a float la columna con los valores raw sin las excepciones que tienen coma__"
   ]
  },
  {
   "cell_type": "code",
   "execution_count": 67,
   "metadata": {},
   "outputs": [
    {
     "data": {
      "text/plain": [
       "1120"
      ]
     },
     "execution_count": 67,
     "metadata": {},
     "output_type": "execute_result"
    }
   ],
   "source": [
    "df.regex_final_miles.replace(to_replace='\\.',value='',inplace=True, regex=True)\n",
    "df.regex_final_miles.replace(to_replace='\\s',value='.',inplace=True, regex=True)\n",
    "df.regex_final_miles = df.regex_final_miles.astype(float)\n",
    "len(df[df.regex_final_miles.notnull()])"
   ]
  },
  {
   "cell_type": "markdown",
   "metadata": {},
   "source": [
    "Chequeo conversión a float"
   ]
  },
  {
   "cell_type": "code",
   "execution_count": 68,
   "metadata": {},
   "outputs": [
    {
     "data": {
      "text/plain": [
       "dtype('float64')"
      ]
     },
     "execution_count": 68,
     "metadata": {},
     "output_type": "execute_result"
    }
   ],
   "source": [
    "df.regex_final_miles.dtype"
   ]
  },
  {
   "cell_type": "markdown",
   "metadata": {},
   "source": [
    "__Paso la columna de miles con coma a float__"
   ]
  },
  {
   "cell_type": "code",
   "execution_count": 69,
   "metadata": {
    "scrolled": true
   },
   "outputs": [
    {
     "data": {
      "text/plain": [
       "dtype('float64')"
      ]
     },
     "execution_count": 69,
     "metadata": {},
     "output_type": "execute_result"
    }
   ],
   "source": [
    "df.regex_final_miles_coma = df.regex_final_miles_coma.astype(float)\n",
    "df.regex_final_miles_coma.dtype"
   ]
  },
  {
   "cell_type": "markdown",
   "metadata": {},
   "source": [
    "__Paso la columna de cientos con coma a float__"
   ]
  },
  {
   "cell_type": "code",
   "execution_count": 70,
   "metadata": {
    "scrolled": true
   },
   "outputs": [
    {
     "data": {
      "text/plain": [
       "dtype('float64')"
      ]
     },
     "execution_count": 70,
     "metadata": {},
     "output_type": "execute_result"
    }
   ],
   "source": [
    "df.regex_final_cientos_coma = df.regex_final_cientos_coma.astype(float)\n",
    "df.regex_final_cientos_coma.dtype"
   ]
  },
  {
   "cell_type": "markdown",
   "metadata": {},
   "source": [
    "__Tomo la columna de miles y la voy pisando con los valores de cientos y miles con coma__"
   ]
  },
  {
   "cell_type": "code",
   "execution_count": 71,
   "metadata": {},
   "outputs": [],
   "source": [
    "df.loc[df.regex_final_cientos_coma.notnull(),\n",
    "       'regex_final_miles'] = df.loc[df.regex_final_cientos_coma.notnull(), 'regex_final_cientos_coma']\n",
    "df.loc[df.regex_final_miles_coma.notnull(),\n",
    "       'regex_final_miles'] = df.loc[df.regex_final_miles_coma.notnull(), 'regex_final_miles_coma']"
   ]
  },
  {
   "cell_type": "markdown",
   "metadata": {},
   "source": [
    "__Como ya no tengo más valores de m2 para salvar, asigno los valores finales de regex_final_miles a surface_total_in_m2 y a surface_covered_in_m2__"
   ]
  },
  {
   "cell_type": "code",
   "execution_count": 72,
   "metadata": {},
   "outputs": [],
   "source": [
    "df.loc[(df.surface_total_in_m2.isnull()) & \n",
    "       (df.surface_covered_in_m2.isnull()) & \n",
    "       (df.regex_final_miles.notnull()),\n",
    "       ['surface_total_in_m2','surface_covered_in_m2']] = df.loc[(df.surface_total_in_m2.isnull()) & \n",
    "                                                                   (df.surface_covered_in_m2.isnull()) & \n",
    "                                                                   (df.regex_final_miles.notnull()),'regex_final_miles']"
   ]
  },
  {
   "cell_type": "markdown",
   "metadata": {},
   "source": [
    "Procedo a eliminar las columnas auxiliares de m2"
   ]
  },
  {
   "cell_type": "code",
   "execution_count": 73,
   "metadata": {},
   "outputs": [],
   "source": [
    "df.drop(columns=['regex_mts2','regex_title_mts2','regex_final_mts2','regex_final_miles','regex_final_miles_coma',\n",
    "                 'regex_final_cientos_coma'], inplace=True)"
   ]
  },
  {
   "cell_type": "code",
   "execution_count": 74,
   "metadata": {},
   "outputs": [
    {
     "data": {
      "text/plain": [
       "property_type                  0\n",
       "place_name                    23\n",
       "place_with_parent_names        0\n",
       "country_name                   0\n",
       "state_name                     0\n",
       "geonames_id                17752\n",
       "lat-lon                    42389\n",
       "lat                        42389\n",
       "lon                        42389\n",
       "surface_total_in_m2         6562\n",
       "surface_covered_in_m2       6562\n",
       "price_usd_per_m2           34610\n",
       "price_per_m2               15569\n",
       "floor                      96235\n",
       "rooms                      61401\n",
       "expenses                   89978\n",
       "properati_url                  0\n",
       "description                    2\n",
       "title                          0\n",
       "image_thumbnail             2252\n",
       "precio_usd                     0\n",
       "dtype: int64"
      ]
     },
     "execution_count": 74,
     "metadata": {},
     "output_type": "execute_result"
    }
   ],
   "source": [
    "df.isnull().sum()"
   ]
  },
  {
   "cell_type": "markdown",
   "metadata": {},
   "source": [
    "Elimino las filas que no poseen metros"
   ]
  },
  {
   "cell_type": "code",
   "execution_count": 75,
   "metadata": {},
   "outputs": [],
   "source": [
    "df.dropna(subset=['surface_total_in_m2'], inplace=True)"
   ]
  },
  {
   "cell_type": "markdown",
   "metadata": {},
   "source": [
    "## Precio por m2 total y cubierto"
   ]
  },
  {
   "cell_type": "markdown",
   "metadata": {},
   "source": [
    "Redondeo los valores de precio por m2"
   ]
  },
  {
   "cell_type": "code",
   "execution_count": 76,
   "metadata": {},
   "outputs": [],
   "source": [
    "df['price_usd_per_m2'] = df.price_usd_per_m2.round(0)\n",
    "df['price_per_m2'] = df.price_per_m2.round(0)"
   ]
  },
  {
   "cell_type": "markdown",
   "metadata": {},
   "source": [
    "__Ahora con los valores de m2 cubiertos y no cubiertos, procedemos al cálculo del precio por m2 para todos los valores__"
   ]
  },
  {
   "cell_type": "code",
   "execution_count": 77,
   "metadata": {
    "scrolled": true
   },
   "outputs": [
    {
     "data": {
      "text/html": [
       "<div>\n",
       "<style scoped>\n",
       "    .dataframe tbody tr th:only-of-type {\n",
       "        vertical-align: middle;\n",
       "    }\n",
       "\n",
       "    .dataframe tbody tr th {\n",
       "        vertical-align: top;\n",
       "    }\n",
       "\n",
       "    .dataframe thead th {\n",
       "        text-align: right;\n",
       "    }\n",
       "</style>\n",
       "<table border=\"1\" class=\"dataframe\">\n",
       "  <thead>\n",
       "    <tr style=\"text-align: right;\">\n",
       "      <th></th>\n",
       "      <th>property_type</th>\n",
       "      <th>place_name</th>\n",
       "      <th>place_with_parent_names</th>\n",
       "      <th>country_name</th>\n",
       "      <th>state_name</th>\n",
       "      <th>geonames_id</th>\n",
       "      <th>lat-lon</th>\n",
       "      <th>lat</th>\n",
       "      <th>lon</th>\n",
       "      <th>surface_total_in_m2</th>\n",
       "      <th>surface_covered_in_m2</th>\n",
       "      <th>price_usd_per_m2</th>\n",
       "      <th>price_per_m2</th>\n",
       "      <th>floor</th>\n",
       "      <th>rooms</th>\n",
       "      <th>expenses</th>\n",
       "      <th>properati_url</th>\n",
       "      <th>description</th>\n",
       "      <th>title</th>\n",
       "      <th>image_thumbnail</th>\n",
       "      <th>precio_usd</th>\n",
       "      <th>precio_m2_total</th>\n",
       "      <th>precio_m2_cubierto</th>\n",
       "    </tr>\n",
       "  </thead>\n",
       "  <tbody>\n",
       "    <tr>\n",
       "      <th>66513</th>\n",
       "      <td>apartment</td>\n",
       "      <td>Córdoba</td>\n",
       "      <td>|Argentina|Córdoba|Córdoba|</td>\n",
       "      <td>Argentina</td>\n",
       "      <td>Córdoba</td>\n",
       "      <td>3860259.0</td>\n",
       "      <td>NaN</td>\n",
       "      <td>NaN</td>\n",
       "      <td>NaN</td>\n",
       "      <td>53.0</td>\n",
       "      <td>53.0</td>\n",
       "      <td>1051.0</td>\n",
       "      <td>NaN</td>\n",
       "      <td>NaN</td>\n",
       "      <td>NaN</td>\n",
       "      <td>NaN</td>\n",
       "      <td>http://www.properati.com.ar/1adww_venta_depart...</td>\n",
       "      <td>Te invitamos a conocer: Octavio VI Característ...</td>\n",
       "      <td>Departamento en General Paz</td>\n",
       "      <td>https://thumbs4.properati.com/5/iP64aMvQrVua61...</td>\n",
       "      <td>55718.01</td>\n",
       "      <td>1051.0</td>\n",
       "      <td>1051.0</td>\n",
       "    </tr>\n",
       "  </tbody>\n",
       "</table>\n",
       "</div>"
      ],
      "text/plain": [
       "      property_type place_name      place_with_parent_names country_name  \\\n",
       "66513     apartment    Córdoba  |Argentina|Córdoba|Córdoba|    Argentina   \n",
       "\n",
       "      state_name  geonames_id lat-lon  lat  lon  surface_total_in_m2  \\\n",
       "66513    Córdoba    3860259.0     NaN  NaN  NaN                 53.0   \n",
       "\n",
       "       surface_covered_in_m2  price_usd_per_m2  price_per_m2  floor  rooms  \\\n",
       "66513                   53.0            1051.0           NaN    NaN    NaN   \n",
       "\n",
       "       expenses                                      properati_url  \\\n",
       "66513       NaN  http://www.properati.com.ar/1adww_venta_depart...   \n",
       "\n",
       "                                             description  \\\n",
       "66513  Te invitamos a conocer: Octavio VI Característ...   \n",
       "\n",
       "                             title  \\\n",
       "66513  Departamento en General Paz   \n",
       "\n",
       "                                         image_thumbnail  precio_usd  \\\n",
       "66513  https://thumbs4.properati.com/5/iP64aMvQrVua61...    55718.01   \n",
       "\n",
       "       precio_m2_total  precio_m2_cubierto  \n",
       "66513           1051.0              1051.0  "
      ]
     },
     "execution_count": 77,
     "metadata": {},
     "output_type": "execute_result"
    }
   ],
   "source": [
    "df['precio_m2_total'] = (df.precio_usd / df.surface_total_in_m2)\n",
    "df['precio_m2_cubierto'] = df.precio_usd / df.surface_covered_in_m2\n",
    "df['precio_m2_total'] = df.precio_m2_total.round(0)\n",
    "df['precio_m2_cubierto'] = df.precio_m2_cubierto.round(0)\n",
    "df.sample(1)"
   ]
  },
  {
   "cell_type": "markdown",
   "metadata": {},
   "source": [
    "__Calculo diferencias de precios con los ya dados, para ver outliers__"
   ]
  },
  {
   "cell_type": "code",
   "execution_count": 78,
   "metadata": {},
   "outputs": [],
   "source": [
    "df['dif_precio_m2_total'] = df.price_usd_per_m2 - df.precio_m2_total\n",
    "df['dif_precio_m2_cubierto'] = df.price_per_m2 - df.precio_m2_cubierto"
   ]
  },
  {
   "cell_type": "code",
   "execution_count": 79,
   "metadata": {},
   "outputs": [
    {
     "data": {
      "text/plain": [
       "count    68617.00\n",
       "mean         0.98\n",
       "std         56.04\n",
       "min          0.00\n",
       "25%          0.00\n",
       "50%          0.00\n",
       "75%          0.00\n",
       "max       9121.00\n",
       "Name: dif_precio_m2_total, dtype: float64"
      ]
     },
     "execution_count": 79,
     "metadata": {},
     "output_type": "execute_result"
    }
   ],
   "source": [
    "df.dif_precio_m2_total.describe().round(2)"
   ]
  },
  {
   "cell_type": "code",
   "execution_count": 80,
   "metadata": {
    "scrolled": true
   },
   "outputs": [
    {
     "data": {
      "text/plain": [
       "88"
      ]
     },
     "execution_count": 80,
     "metadata": {},
     "output_type": "execute_result"
    }
   ],
   "source": [
    "len(df[df.dif_precio_m2_total > 1])"
   ]
  },
  {
   "cell_type": "markdown",
   "metadata": {},
   "source": [
    "Solo 88 valores estan por encima de diferencias de 1 dolar, lo que equivale a menos del 1%"
   ]
  },
  {
   "cell_type": "markdown",
   "metadata": {},
   "source": [
    "__Chequeo que el precio por m2 total no este intercambiado con el precio por m2 cubierto__"
   ]
  },
  {
   "cell_type": "code",
   "execution_count": 81,
   "metadata": {},
   "outputs": [],
   "source": [
    "df['precio_m2_intercambiado'] = df.price_usd_per_m2 - df.precio_m2_cubierto"
   ]
  },
  {
   "cell_type": "code",
   "execution_count": 82,
   "metadata": {},
   "outputs": [
    {
     "data": {
      "text/plain": [
       "83"
      ]
     },
     "execution_count": 82,
     "metadata": {},
     "output_type": "execute_result"
    }
   ],
   "source": [
    "len(df[(df.dif_precio_m2_total > 1) & (df.precio_m2_intercambiado == 0)])"
   ]
  },
  {
   "cell_type": "markdown",
   "metadata": {},
   "source": [
    "Como se puede ver 83 valores de los 88 estan intercambiados, por lo que se conserva estos valores, y los restantes 5 se los elimina"
   ]
  },
  {
   "cell_type": "code",
   "execution_count": 83,
   "metadata": {},
   "outputs": [],
   "source": [
    "df.drop(axis=0, index=df.index[((df.dif_precio_m2_total > 1) & (df.precio_m2_intercambiado != 0))], inplace=True)"
   ]
  },
  {
   "cell_type": "markdown",
   "metadata": {},
   "source": [
    "__Chequeo que se hayan eliminado__"
   ]
  },
  {
   "cell_type": "code",
   "execution_count": 84,
   "metadata": {
    "scrolled": true
   },
   "outputs": [
    {
     "data": {
      "text/plain": [
       "0"
      ]
     },
     "execution_count": 84,
     "metadata": {},
     "output_type": "execute_result"
    }
   ],
   "source": [
    "len(df.index[((df.dif_precio_m2_total > 1) & (df.precio_m2_intercambiado != 0))])"
   ]
  },
  {
   "cell_type": "markdown",
   "metadata": {},
   "source": [
    "__Elimino la columna auxiliar 'precio_m2_intercambiado' y 'dif_precio_m2_total'__"
   ]
  },
  {
   "cell_type": "code",
   "execution_count": 85,
   "metadata": {},
   "outputs": [],
   "source": [
    "df.drop(columns=['precio_m2_intercambiado','dif_precio_m2_total'], inplace=True)"
   ]
  },
  {
   "cell_type": "markdown",
   "metadata": {},
   "source": [
    "__Procedo a revisar la diferencia en los m2 cubiertos__"
   ]
  },
  {
   "cell_type": "code",
   "execution_count": 86,
   "metadata": {},
   "outputs": [
    {
     "data": {
      "text/plain": [
       "count      87653.00\n",
       "mean        3749.95\n",
       "std        20784.64\n",
       "min            0.00\n",
       "25%            0.00\n",
       "50%            0.00\n",
       "75%            0.00\n",
       "max      3775665.00\n",
       "Name: dif_precio_m2_cubierto, dtype: float64"
      ]
     },
     "execution_count": 86,
     "metadata": {},
     "output_type": "execute_result"
    }
   ],
   "source": [
    "df.dif_precio_m2_cubierto.describe().round(2)"
   ]
  },
  {
   "cell_type": "code",
   "execution_count": 87,
   "metadata": {
    "scrolled": false
   },
   "outputs": [
    {
     "data": {
      "text/plain": [
       "10423"
      ]
     },
     "execution_count": 87,
     "metadata": {},
     "output_type": "execute_result"
    }
   ],
   "source": [
    "len(df[df.dif_precio_m2_cubierto > 1])"
   ]
  },
  {
   "cell_type": "markdown",
   "metadata": {},
   "source": [
    "En este caso se pueden apreciar muchas filas con diferencias. En una vista rápida del dataframe se puede ver que los valores de price_per_m2 son inusualmente altos vs los calculados, por lo que puede ser que el valor este en AR$. Se procede a aplicarle el tc y se calculan las diferencias nuevamente."
   ]
  },
  {
   "cell_type": "code",
   "execution_count": 88,
   "metadata": {},
   "outputs": [],
   "source": [
    "df['precio_m2_dolarizado']=df.price_per_m2/tc"
   ]
  },
  {
   "cell_type": "code",
   "execution_count": 89,
   "metadata": {},
   "outputs": [],
   "source": [
    "df['dif_precio_m2_cubierto_dolarizado'] = df.precio_m2_cubierto - df.precio_m2_dolarizado"
   ]
  },
  {
   "cell_type": "code",
   "execution_count": 90,
   "metadata": {},
   "outputs": [
    {
     "data": {
      "text/plain": [
       "count    10423.00\n",
       "mean       -10.94\n",
       "std        148.36\n",
       "min      -2364.54\n",
       "25%        -22.80\n",
       "50%        -17.48\n",
       "75%        -11.50\n",
       "max       9078.08\n",
       "Name: dif_precio_m2_cubierto_dolarizado, dtype: float64"
      ]
     },
     "execution_count": 90,
     "metadata": {},
     "output_type": "execute_result"
    }
   ],
   "source": [
    "df[(df.dif_precio_m2_cubierto > 1)]['dif_precio_m2_cubierto_dolarizado'].describe().round(2)"
   ]
  },
  {
   "cell_type": "markdown",
   "metadata": {},
   "source": [
    "Ahora se puede ver que las diferencias se acotan en números más cercanos al valor calculado."
   ]
  },
  {
   "cell_type": "markdown",
   "metadata": {},
   "source": [
    "__Chequeo que cantidad de propiedades estan dentro de un rango \"razonable\" al calculado. (Se toma la cota de una diferencia de -50 y +50 dolares/m2__"
   ]
  },
  {
   "cell_type": "code",
   "execution_count": 91,
   "metadata": {},
   "outputs": [
    {
     "data": {
      "text/plain": [
       "10044"
      ]
     },
     "execution_count": 91,
     "metadata": {},
     "output_type": "execute_result"
    }
   ],
   "source": [
    "len(df[(df.dif_precio_m2_cubierto > 1) & (df.dif_precio_m2_cubierto_dolarizado > -50) &(df.dif_precio_m2_cubierto_dolarizado < 50)])"
   ]
  },
  {
   "cell_type": "markdown",
   "metadata": {},
   "source": [
    "La cantidad es casi la misma que tenía diferencias altas previamente, por lo que se decide mantener los valores calculados para todos los casos. Se chequeará posteriormente por outliers para los restantes casos"
   ]
  },
  {
   "cell_type": "markdown",
   "metadata": {},
   "source": [
    "__Al ya tener todos los valores de precio por m2, procedo a eliminar las columnas auxiliares__"
   ]
  },
  {
   "cell_type": "code",
   "execution_count": 92,
   "metadata": {},
   "outputs": [],
   "source": [
    "df.drop(columns=['price_usd_per_m2','price_per_m2','dif_precio_m2_cubierto',\n",
    "                 'precio_m2_dolarizado','dif_precio_m2_cubierto_dolarizado'], inplace=True)"
   ]
  },
  {
   "cell_type": "markdown",
   "metadata": {},
   "source": [
    "## Ubicación"
   ]
  },
  {
   "cell_type": "markdown",
   "metadata": {},
   "source": [
    "Tomo la columna 'place_with_parent_names' y voy separando los conceptos por '|'. En caso que sea el nombre de un barrio privado se agregó la columna extra_info."
   ]
  },
  {
   "cell_type": "code",
   "execution_count": 93,
   "metadata": {},
   "outputs": [],
   "source": [
    "df['pais']=df[\"place_with_parent_names\"].str.split('|').str[1]\n",
    "df['provincia']=df[\"place_with_parent_names\"].str.split('|').str[2]\n",
    "df['barrio_ciudad']=df[\"place_with_parent_names\"].str.split('|').str[3]\n",
    "df['extra_info']=df[\"place_with_parent_names\"].str.split('|').str[4]\n",
    "df['extra_info_2']=df[\"place_with_parent_names\"].str.split('|').str[5]"
   ]
  },
  {
   "cell_type": "markdown",
   "metadata": {},
   "source": [
    "__Procedo a reemplazar los espacios en blanco por NaN's__"
   ]
  },
  {
   "cell_type": "code",
   "execution_count": 94,
   "metadata": {},
   "outputs": [
    {
     "data": {
      "text/plain": [
       "0"
      ]
     },
     "execution_count": 94,
     "metadata": {},
     "output_type": "execute_result"
    }
   ],
   "source": [
    "len(df[(df.pais == '') | (df.pais.isnull())])"
   ]
  },
  {
   "cell_type": "code",
   "execution_count": 95,
   "metadata": {},
   "outputs": [
    {
     "data": {
      "text/plain": [
       "0"
      ]
     },
     "execution_count": 95,
     "metadata": {},
     "output_type": "execute_result"
    }
   ],
   "source": [
    "len(df[(df.provincia == '') | (df.provincia.isnull())])"
   ]
  },
  {
   "cell_type": "code",
   "execution_count": 96,
   "metadata": {},
   "outputs": [
    {
     "data": {
      "text/plain": [
       "3241"
      ]
     },
     "execution_count": 96,
     "metadata": {},
     "output_type": "execute_result"
    }
   ],
   "source": [
    "len(df[(df.barrio_ciudad == '') | (df.barrio_ciudad.isnull())])"
   ]
  },
  {
   "cell_type": "code",
   "execution_count": 97,
   "metadata": {},
   "outputs": [
    {
     "data": {
      "text/plain": [
       "0"
      ]
     },
     "execution_count": 97,
     "metadata": {},
     "output_type": "execute_result"
    }
   ],
   "source": [
    "df.loc[df.barrio_ciudad == '','barrio_ciudad'] = np.nan\n",
    "len(df[(df.barrio_ciudad == '')])"
   ]
  },
  {
   "cell_type": "code",
   "execution_count": 98,
   "metadata": {},
   "outputs": [
    {
     "data": {
      "text/plain": [
       "61697"
      ]
     },
     "execution_count": 98,
     "metadata": {},
     "output_type": "execute_result"
    }
   ],
   "source": [
    "len(df[(df.extra_info == '') | (df.extra_info.isnull())])"
   ]
  },
  {
   "cell_type": "code",
   "execution_count": 99,
   "metadata": {},
   "outputs": [
    {
     "data": {
      "text/plain": [
       "0"
      ]
     },
     "execution_count": 99,
     "metadata": {},
     "output_type": "execute_result"
    }
   ],
   "source": [
    "df.loc[df.extra_info == '','extra_info'] = np.nan\n",
    "len(df[(df.extra_info == '')])"
   ]
  },
  {
   "cell_type": "code",
   "execution_count": 100,
   "metadata": {},
   "outputs": [
    {
     "data": {
      "text/plain": [
       "96120"
      ]
     },
     "execution_count": 100,
     "metadata": {},
     "output_type": "execute_result"
    }
   ],
   "source": [
    "len(df[(df.extra_info_2 == '') | (df.extra_info_2.isnull())])"
   ]
  },
  {
   "cell_type": "code",
   "execution_count": 101,
   "metadata": {},
   "outputs": [
    {
     "data": {
      "text/plain": [
       "0"
      ]
     },
     "execution_count": 101,
     "metadata": {},
     "output_type": "execute_result"
    }
   ],
   "source": [
    "df.loc[df.extra_info_2 == '','extra_info_2'] = np.nan\n",
    "len(df[(df.extra_info_2 == '')])"
   ]
  },
  {
   "cell_type": "code",
   "execution_count": 102,
   "metadata": {},
   "outputs": [
    {
     "data": {
      "text/plain": [
       "96660"
      ]
     },
     "execution_count": 102,
     "metadata": {},
     "output_type": "execute_result"
    }
   ],
   "source": [
    "len(df)"
   ]
  },
  {
   "cell_type": "markdown",
   "metadata": {},
   "source": [
    "__Chequeo que el pais y la provincia estén bien__"
   ]
  },
  {
   "cell_type": "code",
   "execution_count": 103,
   "metadata": {},
   "outputs": [
    {
     "data": {
      "text/plain": [
       "0"
      ]
     },
     "execution_count": 103,
     "metadata": {},
     "output_type": "execute_result"
    }
   ],
   "source": [
    "len(df[(df.country_name == df.pais) == False])"
   ]
  },
  {
   "cell_type": "code",
   "execution_count": 104,
   "metadata": {},
   "outputs": [
    {
     "data": {
      "text/plain": [
       "0"
      ]
     },
     "execution_count": 104,
     "metadata": {},
     "output_type": "execute_result"
    }
   ],
   "source": [
    "len(df[(df.state_name == df.provincia) == False])"
   ]
  },
  {
   "cell_type": "markdown",
   "metadata": {},
   "source": [
    "Como las columnas son iguales, elimino las columnas country_name y state_name"
   ]
  },
  {
   "cell_type": "code",
   "execution_count": 105,
   "metadata": {},
   "outputs": [],
   "source": [
    "df.drop(columns=['country_name','state_name'],inplace=True)"
   ]
  },
  {
   "cell_type": "markdown",
   "metadata": {},
   "source": [
    "__Chequeo que los valores de extra_info_2 coincidan con los de place_name__"
   ]
  },
  {
   "cell_type": "code",
   "execution_count": 106,
   "metadata": {
    "scrolled": true
   },
   "outputs": [
    {
     "data": {
      "text/plain": [
       "540"
      ]
     },
     "execution_count": 106,
     "metadata": {},
     "output_type": "execute_result"
    }
   ],
   "source": [
    "len(df[df.extra_info_2 == df.place_name])"
   ]
  },
  {
   "cell_type": "markdown",
   "metadata": {},
   "source": [
    "Como se puede ver, el place_name de los valores de extra_info_2 están bien."
   ]
  },
  {
   "cell_type": "markdown",
   "metadata": {},
   "source": [
    "__Chequeo que los valores de extra_info coincidan con los de place_name__"
   ]
  },
  {
   "cell_type": "code",
   "execution_count": 107,
   "metadata": {},
   "outputs": [
    {
     "data": {
      "text/plain": [
       "34423"
      ]
     },
     "execution_count": 107,
     "metadata": {},
     "output_type": "execute_result"
    }
   ],
   "source": [
    "len(df[df.extra_info.notnull() & df.extra_info_2.isnull()])"
   ]
  },
  {
   "cell_type": "code",
   "execution_count": 108,
   "metadata": {},
   "outputs": [
    {
     "data": {
      "text/plain": [
       "34423"
      ]
     },
     "execution_count": 108,
     "metadata": {},
     "output_type": "execute_result"
    }
   ],
   "source": [
    "len(df[(df.extra_info == df.place_name) & (df.extra_info.notnull()) & (df.extra_info_2.isnull())])"
   ]
  },
  {
   "cell_type": "markdown",
   "metadata": {},
   "source": [
    "Como se puede ver, el place_name de los valores de extra_info están bien."
   ]
  },
  {
   "cell_type": "markdown",
   "metadata": {},
   "source": [
    "__Chequeo que los valores de barrio_ciudad coincidan con los de place_name__"
   ]
  },
  {
   "cell_type": "code",
   "execution_count": 109,
   "metadata": {},
   "outputs": [
    {
     "data": {
      "text/plain": [
       "58456"
      ]
     },
     "execution_count": 109,
     "metadata": {},
     "output_type": "execute_result"
    }
   ],
   "source": [
    "len(df[df.barrio_ciudad.notnull() & df.extra_info.isnull() & df.extra_info_2.isnull()])"
   ]
  },
  {
   "cell_type": "code",
   "execution_count": 110,
   "metadata": {},
   "outputs": [
    {
     "data": {
      "text/plain": [
       "58433"
      ]
     },
     "execution_count": 110,
     "metadata": {},
     "output_type": "execute_result"
    }
   ],
   "source": [
    "len(df[(df.barrio_ciudad == df.place_name) & (df.barrio_ciudad.notnull())\n",
    "       & (df.extra_info.isnull()) & (df.extra_info_2.isnull())])"
   ]
  },
  {
   "cell_type": "markdown",
   "metadata": {},
   "source": [
    "Como se puede ver, el place_name de los valores de barrio_ciudad están bien excepto por 23 valores"
   ]
  },
  {
   "cell_type": "code",
   "execution_count": 111,
   "metadata": {},
   "outputs": [
    {
     "data": {
      "text/plain": [
       "23"
      ]
     },
     "execution_count": 111,
     "metadata": {},
     "output_type": "execute_result"
    }
   ],
   "source": [
    "len(df[(df.place_name.isnull()) & (df.barrio_ciudad.notnull()) \n",
    "       & (df.extra_info.isnull()) & (df.extra_info_2.isnull())])"
   ]
  },
  {
   "cell_type": "markdown",
   "metadata": {},
   "source": [
    "Los 23 valores de place_name que son null tienen su valor en barrio_ciudad, se lo asigno a place_name"
   ]
  },
  {
   "cell_type": "code",
   "execution_count": 112,
   "metadata": {},
   "outputs": [
    {
     "data": {
      "text/plain": [
       "0"
      ]
     },
     "execution_count": 112,
     "metadata": {},
     "output_type": "execute_result"
    }
   ],
   "source": [
    "df.loc[(df.place_name.isnull()) & (df.barrio_ciudad.notnull()) & (df.extra_info.isnull()) \n",
    "       & (df.extra_info_2.isnull()),'place_name'] = df.loc[(df.place_name.isnull()) & (df.barrio_ciudad.notnull()) \n",
    "                                                           & (df.extra_info.isnull()) & (df.extra_info_2.isnull()),\n",
    "                                                           'barrio_ciudad']\n",
    "len(df[(df.place_name.isnull()) & (df.barrio_ciudad.notnull()) \n",
    "       & (df.extra_info.isnull()) & (df.extra_info_2.isnull())])"
   ]
  },
  {
   "cell_type": "markdown",
   "metadata": {},
   "source": [
    "Ahora que barrio_ciudad coincide con place_name prosigo con la provincia"
   ]
  },
  {
   "cell_type": "markdown",
   "metadata": {},
   "source": [
    "__Chequeo que los valores de provincia coincidan con los de place_name__"
   ]
  },
  {
   "cell_type": "code",
   "execution_count": 113,
   "metadata": {},
   "outputs": [
    {
     "data": {
      "text/plain": [
       "3241"
      ]
     },
     "execution_count": 113,
     "metadata": {},
     "output_type": "execute_result"
    }
   ],
   "source": [
    "len(df[df.provincia.notnull() & df.barrio_ciudad.isnull() & df.extra_info.isnull() & df.extra_info_2.isnull()])"
   ]
  },
  {
   "cell_type": "code",
   "execution_count": 114,
   "metadata": {
    "scrolled": true
   },
   "outputs": [
    {
     "data": {
      "text/plain": [
       "3241"
      ]
     },
     "execution_count": 114,
     "metadata": {},
     "output_type": "execute_result"
    }
   ],
   "source": [
    "len(df[(df.provincia == df.place_name) & df.provincia.notnull() & df.barrio_ciudad.isnull() \n",
    "       & df.extra_info.isnull() & df.extra_info_2.isnull()])"
   ]
  },
  {
   "cell_type": "markdown",
   "metadata": {},
   "source": [
    "Como se puede ver, el place_name de los valores de provincia están bien."
   ]
  },
  {
   "cell_type": "markdown",
   "metadata": {},
   "source": [
    "__Chequeo que los valores de pais coincidan con los de place_name__"
   ]
  },
  {
   "cell_type": "code",
   "execution_count": 115,
   "metadata": {},
   "outputs": [
    {
     "data": {
      "text/plain": [
       "0"
      ]
     },
     "execution_count": 115,
     "metadata": {},
     "output_type": "execute_result"
    }
   ],
   "source": [
    "len(df[df.pais.notnull() & df.provincia.isnull() & df.barrio_ciudad.isnull() \n",
    "       & df.extra_info.isnull() & df.extra_info_2.isnull()])"
   ]
  },
  {
   "cell_type": "markdown",
   "metadata": {},
   "source": [
    "No hay place_name que sean solo país"
   ]
  },
  {
   "cell_type": "code",
   "execution_count": 116,
   "metadata": {},
   "outputs": [
    {
     "data": {
      "text/plain": [
       "0"
      ]
     },
     "execution_count": 116,
     "metadata": {},
     "output_type": "execute_result"
    }
   ],
   "source": [
    "len(df.place_name.notnull())-len(df[df.extra_info_2 \n",
    "                                    == df.place_name])-len(df[(df.extra_info == df.place_name) \n",
    "                                                              & (df.extra_info.notnull()) \n",
    "                                                              & (df.extra_info_2.isnull())]) - len(df[(df.barrio_ciudad == df.place_name) \n",
    "                                                                                                      & (df.barrio_ciudad.notnull()) \n",
    "                                                                                                      & (df.extra_info.isnull()) \n",
    "                                                                                                      & (df.extra_info_2.isnull())]) - len(df[(df.provincia == df.place_name) \n",
    "                                                                                                                                              & df.provincia.notnull() \n",
    "                                                                                                                                              & df.barrio_ciudad.isnull() \n",
    "                                                                                                                                              & df.extra_info.isnull() \n",
    "                                                                                                                                              & df.extra_info_2.isnull()])"
   ]
  },
  {
   "cell_type": "markdown",
   "metadata": {},
   "source": [
    "Se verifica que para todos los place_name tiene asignado una clasificación, con lo cual procedo a eliminar las columnas que no son necesarias."
   ]
  },
  {
   "cell_type": "code",
   "execution_count": 117,
   "metadata": {},
   "outputs": [],
   "source": [
    "df.drop(columns=['place_name','place_with_parent_names'], inplace=True)"
   ]
  },
  {
   "cell_type": "markdown",
   "metadata": {},
   "source": [
    "__Chequeo valores de la columna Pais__"
   ]
  },
  {
   "cell_type": "code",
   "execution_count": 118,
   "metadata": {},
   "outputs": [
    {
     "data": {
      "text/plain": [
       "Argentina    96660\n",
       "Name: pais, dtype: int64"
      ]
     },
     "execution_count": 118,
     "metadata": {},
     "output_type": "execute_result"
    }
   ],
   "source": [
    "df.pais.value_counts()"
   ]
  },
  {
   "cell_type": "markdown",
   "metadata": {},
   "source": [
    "Como todas las propiedades son de argentina no tiene sentido guardar esta información en el dataset, se elimina"
   ]
  },
  {
   "cell_type": "code",
   "execution_count": 119,
   "metadata": {},
   "outputs": [],
   "source": [
    "df.drop(columns=['pais'], inplace=True)"
   ]
  },
  {
   "cell_type": "markdown",
   "metadata": {},
   "source": [
    "__Ordeno el dataframe con los datos finales__"
   ]
  },
  {
   "cell_type": "code",
   "execution_count": 120,
   "metadata": {},
   "outputs": [
    {
     "data": {
      "text/plain": [
       "['property_type',\n",
       " 'geonames_id',\n",
       " 'lat-lon',\n",
       " 'lat',\n",
       " 'lon',\n",
       " 'surface_total_in_m2',\n",
       " 'surface_covered_in_m2',\n",
       " 'floor',\n",
       " 'rooms',\n",
       " 'expenses',\n",
       " 'properati_url',\n",
       " 'description',\n",
       " 'title',\n",
       " 'image_thumbnail',\n",
       " 'precio_usd',\n",
       " 'precio_m2_total',\n",
       " 'precio_m2_cubierto',\n",
       " 'provincia',\n",
       " 'barrio_ciudad',\n",
       " 'extra_info',\n",
       " 'extra_info_2']"
      ]
     },
     "execution_count": 120,
     "metadata": {},
     "output_type": "execute_result"
    }
   ],
   "source": [
    "list(df.columns.values)"
   ]
  },
  {
   "cell_type": "code",
   "execution_count": 121,
   "metadata": {},
   "outputs": [
    {
     "data": {
      "text/plain": [
       "(96660, 21)"
      ]
     },
     "execution_count": 121,
     "metadata": {},
     "output_type": "execute_result"
    }
   ],
   "source": [
    "df = df[['precio_usd','provincia','barrio_ciudad','extra_info','extra_info_2','property_type','surface_total_in_m2',\n",
    "         'surface_covered_in_m2','precio_m2_total','precio_m2_cubierto','geonames_id','lat-lon','lat','lon','floor',\n",
    "         'rooms','expenses','properati_url','description','title','image_thumbnail']]\n",
    "df.shape"
   ]
  },
  {
   "cell_type": "code",
   "execution_count": 122,
   "metadata": {
    "scrolled": false
   },
   "outputs": [
    {
     "data": {
      "text/html": [
       "<div>\n",
       "<style scoped>\n",
       "    .dataframe tbody tr th:only-of-type {\n",
       "        vertical-align: middle;\n",
       "    }\n",
       "\n",
       "    .dataframe tbody tr th {\n",
       "        vertical-align: top;\n",
       "    }\n",
       "\n",
       "    .dataframe thead th {\n",
       "        text-align: right;\n",
       "    }\n",
       "</style>\n",
       "<table border=\"1\" class=\"dataframe\">\n",
       "  <thead>\n",
       "    <tr style=\"text-align: right;\">\n",
       "      <th></th>\n",
       "      <th>precio_usd</th>\n",
       "      <th>provincia</th>\n",
       "      <th>barrio_ciudad</th>\n",
       "      <th>extra_info</th>\n",
       "      <th>extra_info_2</th>\n",
       "      <th>property_type</th>\n",
       "      <th>surface_total_in_m2</th>\n",
       "      <th>surface_covered_in_m2</th>\n",
       "      <th>precio_m2_total</th>\n",
       "      <th>precio_m2_cubierto</th>\n",
       "      <th>geonames_id</th>\n",
       "      <th>lat-lon</th>\n",
       "      <th>lat</th>\n",
       "      <th>lon</th>\n",
       "      <th>floor</th>\n",
       "      <th>rooms</th>\n",
       "      <th>expenses</th>\n",
       "      <th>properati_url</th>\n",
       "      <th>description</th>\n",
       "      <th>title</th>\n",
       "      <th>image_thumbnail</th>\n",
       "    </tr>\n",
       "  </thead>\n",
       "  <tbody>\n",
       "    <tr>\n",
       "      <th>93962</th>\n",
       "      <td>550000.0</td>\n",
       "      <td>Capital Federal</td>\n",
       "      <td>Puerto Madero</td>\n",
       "      <td>NaN</td>\n",
       "      <td>NaN</td>\n",
       "      <td>apartment</td>\n",
       "      <td>109.0</td>\n",
       "      <td>96.0</td>\n",
       "      <td>5046.0</td>\n",
       "      <td>5729.0</td>\n",
       "      <td>3429760.0</td>\n",
       "      <td>NaN</td>\n",
       "      <td>NaN</td>\n",
       "      <td>NaN</td>\n",
       "      <td>NaN</td>\n",
       "      <td>NaN</td>\n",
       "      <td>8400.0</td>\n",
       "      <td>http://www.properati.com.ar/1bevv_venta_depart...</td>\n",
       "      <td>Terrazas del Dique. Excelente 4 ambientes con ...</td>\n",
       "      <td>TERRAZAS  DEL DIQUE 4 AMB.   COCHERA</td>\n",
       "      <td>https://thumbs4.properati.com/0/FXkhFJi4Kss-hi...</td>\n",
       "    </tr>\n",
       "  </tbody>\n",
       "</table>\n",
       "</div>"
      ],
      "text/plain": [
       "       precio_usd        provincia  barrio_ciudad extra_info extra_info_2  \\\n",
       "93962    550000.0  Capital Federal  Puerto Madero        NaN          NaN   \n",
       "\n",
       "      property_type  surface_total_in_m2  surface_covered_in_m2  \\\n",
       "93962     apartment                109.0                   96.0   \n",
       "\n",
       "       precio_m2_total  precio_m2_cubierto  geonames_id lat-lon  lat  lon  \\\n",
       "93962           5046.0              5729.0    3429760.0     NaN  NaN  NaN   \n",
       "\n",
       "       floor  rooms  expenses  \\\n",
       "93962    NaN    NaN    8400.0   \n",
       "\n",
       "                                           properati_url  \\\n",
       "93962  http://www.properati.com.ar/1bevv_venta_depart...   \n",
       "\n",
       "                                             description  \\\n",
       "93962  Terrazas del Dique. Excelente 4 ambientes con ...   \n",
       "\n",
       "                                      title  \\\n",
       "93962  TERRAZAS  DEL DIQUE 4 AMB.   COCHERA   \n",
       "\n",
       "                                         image_thumbnail  \n",
       "93962  https://thumbs4.properati.com/0/FXkhFJi4Kss-hi...  "
      ]
     },
     "execution_count": 122,
     "metadata": {},
     "output_type": "execute_result"
    }
   ],
   "source": [
    "df.sample(1)"
   ]
  },
  {
   "cell_type": "markdown",
   "metadata": {},
   "source": [
    "# SEGUIR ACA CON TIPO DE PROPIEDAD"
   ]
  },
  {
   "cell_type": "code",
   "execution_count": null,
   "metadata": {},
   "outputs": [],
   "source": []
  },
  {
   "cell_type": "code",
   "execution_count": null,
   "metadata": {},
   "outputs": [],
   "source": []
  },
  {
   "cell_type": "code",
   "execution_count": null,
   "metadata": {},
   "outputs": [],
   "source": []
  },
  {
   "cell_type": "code",
   "execution_count": null,
   "metadata": {},
   "outputs": [],
   "source": []
  },
  {
   "cell_type": "code",
   "execution_count": null,
   "metadata": {},
   "outputs": [],
   "source": []
  },
  {
   "cell_type": "markdown",
   "metadata": {},
   "source": [
    "## Piso"
   ]
  },
  {
   "cell_type": "markdown",
   "metadata": {},
   "source": [
    "__Arranco revisando la variable__"
   ]
  },
  {
   "cell_type": "code",
   "execution_count": 123,
   "metadata": {
    "scrolled": true
   },
   "outputs": [
    {
     "data": {
      "text/plain": [
       "count    6795.00\n",
       "mean       18.89\n",
       "std       123.51\n",
       "min         1.00\n",
       "25%         1.00\n",
       "50%         3.00\n",
       "75%         6.00\n",
       "max      2509.00\n",
       "Name: floor, dtype: float64"
      ]
     },
     "execution_count": 123,
     "metadata": {},
     "output_type": "execute_result"
    }
   ],
   "source": [
    "df.floor.describe().round(2)"
   ]
  },
  {
   "cell_type": "markdown",
   "metadata": {},
   "source": [
    "Como las torres más altas de la argentina no tienen más de 50 pisos y los de más de 35 pisos se encuentran en Puerto Madero, se setea con NaN los valores mayores a estos parámetros."
   ]
  },
  {
   "cell_type": "code",
   "execution_count": 124,
   "metadata": {
    "scrolled": true
   },
   "outputs": [],
   "source": [
    "df.loc[((df.floor > 35) & (df.barrio_ciudad != 'Puerto Madero')),'floor'] = np.nan"
   ]
  },
  {
   "cell_type": "markdown",
   "metadata": {},
   "source": [
    "# Análisis descriptivo de variables"
   ]
  },
  {
   "cell_type": "markdown",
   "metadata": {},
   "source": [
    "__Procedo a la selección de variables que no tengan nulos en el df__"
   ]
  },
  {
   "cell_type": "code",
   "execution_count": 125,
   "metadata": {},
   "outputs": [
    {
     "data": {
      "text/plain": [
       "precio_usd                   0\n",
       "provincia                    0\n",
       "barrio_ciudad             3241\n",
       "extra_info               61697\n",
       "extra_info_2             96120\n",
       "property_type                0\n",
       "surface_total_in_m2          0\n",
       "surface_covered_in_m2        0\n",
       "precio_m2_total              0\n",
       "precio_m2_cubierto           0\n",
       "geonames_id              16862\n",
       "lat-lon                  39522\n",
       "lat                      39522\n",
       "lon                      39522\n",
       "floor                    90057\n",
       "rooms                    56575\n",
       "expenses                 83752\n",
       "properati_url                0\n",
       "description                  1\n",
       "title                        0\n",
       "image_thumbnail           1897\n",
       "dtype: int64"
      ]
     },
     "execution_count": 125,
     "metadata": {},
     "output_type": "execute_result"
    }
   ],
   "source": [
    "df.isnull().sum()"
   ]
  },
  {
   "cell_type": "code",
   "execution_count": 126,
   "metadata": {},
   "outputs": [
    {
     "data": {
      "text/html": [
       "<div>\n",
       "<style scoped>\n",
       "    .dataframe tbody tr th:only-of-type {\n",
       "        vertical-align: middle;\n",
       "    }\n",
       "\n",
       "    .dataframe tbody tr th {\n",
       "        vertical-align: top;\n",
       "    }\n",
       "\n",
       "    .dataframe thead th {\n",
       "        text-align: right;\n",
       "    }\n",
       "</style>\n",
       "<table border=\"1\" class=\"dataframe\">\n",
       "  <thead>\n",
       "    <tr style=\"text-align: right;\">\n",
       "      <th></th>\n",
       "      <th>precio_usd</th>\n",
       "      <th>provincia</th>\n",
       "      <th>barrio_ciudad</th>\n",
       "      <th>extra_info_2</th>\n",
       "      <th>property_type</th>\n",
       "      <th>surface_total_in_m2</th>\n",
       "      <th>surface_covered_in_m2</th>\n",
       "      <th>precio_m2_total</th>\n",
       "      <th>precio_m2_cubierto</th>\n",
       "    </tr>\n",
       "  </thead>\n",
       "  <tbody>\n",
       "    <tr>\n",
       "      <th>12567</th>\n",
       "      <td>182000.0</td>\n",
       "      <td>Bs.As. G.B.A. Zona Norte</td>\n",
       "      <td>San Fernando</td>\n",
       "      <td>NaN</td>\n",
       "      <td>apartment</td>\n",
       "      <td>59.0</td>\n",
       "      <td>49.0</td>\n",
       "      <td>3085.0</td>\n",
       "      <td>3714.0</td>\n",
       "    </tr>\n",
       "  </tbody>\n",
       "</table>\n",
       "</div>"
      ],
      "text/plain": [
       "       precio_usd                 provincia barrio_ciudad extra_info_2  \\\n",
       "12567    182000.0  Bs.As. G.B.A. Zona Norte  San Fernando          NaN   \n",
       "\n",
       "      property_type  surface_total_in_m2  surface_covered_in_m2  \\\n",
       "12567     apartment                 59.0                   49.0   \n",
       "\n",
       "       precio_m2_total  precio_m2_cubierto  \n",
       "12567           3085.0              3714.0  "
      ]
     },
     "execution_count": 126,
     "metadata": {},
     "output_type": "execute_result"
    }
   ],
   "source": [
    "dfg = df.drop(columns=['extra_info','geonames_id','lat-lon','lat','lon','floor','expenses',\n",
    "                       'rooms','properati_url','description','title','image_thumbnail'])\n",
    "dfg.sample(1)"
   ]
  },
  {
   "cell_type": "code",
   "execution_count": 127,
   "metadata": {},
   "outputs": [
    {
     "data": {
      "text/html": [
       "<div>\n",
       "<style scoped>\n",
       "    .dataframe tbody tr th:only-of-type {\n",
       "        vertical-align: middle;\n",
       "    }\n",
       "\n",
       "    .dataframe tbody tr th {\n",
       "        vertical-align: top;\n",
       "    }\n",
       "\n",
       "    .dataframe thead th {\n",
       "        text-align: right;\n",
       "    }\n",
       "</style>\n",
       "<table border=\"1\" class=\"dataframe\">\n",
       "  <thead>\n",
       "    <tr style=\"text-align: right;\">\n",
       "      <th></th>\n",
       "      <th>precio_usd</th>\n",
       "      <th>provincia</th>\n",
       "      <th>barrio_ciudad</th>\n",
       "      <th>extra_info</th>\n",
       "      <th>extra_info_2</th>\n",
       "      <th>property_type</th>\n",
       "      <th>surface_total_in_m2</th>\n",
       "      <th>surface_covered_in_m2</th>\n",
       "      <th>precio_m2_total</th>\n",
       "      <th>precio_m2_cubierto</th>\n",
       "      <th>geonames_id</th>\n",
       "      <th>lat-lon</th>\n",
       "      <th>lat</th>\n",
       "      <th>lon</th>\n",
       "      <th>floor</th>\n",
       "      <th>rooms</th>\n",
       "      <th>expenses</th>\n",
       "      <th>properati_url</th>\n",
       "      <th>description</th>\n",
       "      <th>title</th>\n",
       "      <th>image_thumbnail</th>\n",
       "    </tr>\n",
       "  </thead>\n",
       "  <tbody>\n",
       "    <tr>\n",
       "      <th>11534</th>\n",
       "      <td>49800.0</td>\n",
       "      <td>Buenos Aires Costa Atlántica</td>\n",
       "      <td>Mar del Plata</td>\n",
       "      <td>NaN</td>\n",
       "      <td>NaN</td>\n",
       "      <td>apartment</td>\n",
       "      <td>49800.0</td>\n",
       "      <td>49800.0</td>\n",
       "      <td>1.0</td>\n",
       "      <td>1.0</td>\n",
       "      <td>3430863.0</td>\n",
       "      <td>-38.0051676,-57.5444832</td>\n",
       "      <td>-38.005168</td>\n",
       "      <td>-57.544483</td>\n",
       "      <td>NaN</td>\n",
       "      <td>1.0</td>\n",
       "      <td>NaN</td>\n",
       "      <td>http://www.properati.com.ar/16bzw_venta_depart...</td>\n",
       "      <td>TOTALMENTE LUMINOSO LIVING COMEDOR CON AMPLIO ...</td>\n",
       "      <td>DEPARTAMENTO EN VENTA</td>\n",
       "      <td>https://thumbs4.properati.com/6/vggfdgnqIgFMN4...</td>\n",
       "    </tr>\n",
       "    <tr>\n",
       "      <th>13405</th>\n",
       "      <td>120000.0</td>\n",
       "      <td>Santa Fe</td>\n",
       "      <td>NaN</td>\n",
       "      <td>NaN</td>\n",
       "      <td>NaN</td>\n",
       "      <td>apartment</td>\n",
       "      <td>200000.0</td>\n",
       "      <td>80.0</td>\n",
       "      <td>1.0</td>\n",
       "      <td>1500.0</td>\n",
       "      <td>3836276.0</td>\n",
       "      <td>-31.6400864,-60.7046147</td>\n",
       "      <td>-31.640086</td>\n",
       "      <td>-60.704615</td>\n",
       "      <td>NaN</td>\n",
       "      <td>3.0</td>\n",
       "      <td>1000.0</td>\n",
       "      <td>http://www.properati.com.ar/16p2j_venta_depart...</td>\n",
       "      <td>ambientes amplios, iluminados a la calle, idea...</td>\n",
       "      <td>Departamento venta</td>\n",
       "      <td>https://thumbs4.properati.com/3/x6imA3e2uBBgO3...</td>\n",
       "    </tr>\n",
       "  </tbody>\n",
       "</table>\n",
       "</div>"
      ],
      "text/plain": [
       "       precio_usd                     provincia  barrio_ciudad extra_info  \\\n",
       "11534     49800.0  Buenos Aires Costa Atlántica  Mar del Plata        NaN   \n",
       "13405    120000.0                      Santa Fe            NaN        NaN   \n",
       "\n",
       "      extra_info_2 property_type  surface_total_in_m2  surface_covered_in_m2  \\\n",
       "11534          NaN     apartment              49800.0                49800.0   \n",
       "13405          NaN     apartment             200000.0                   80.0   \n",
       "\n",
       "       precio_m2_total  precio_m2_cubierto  geonames_id  \\\n",
       "11534              1.0                 1.0    3430863.0   \n",
       "13405              1.0              1500.0    3836276.0   \n",
       "\n",
       "                       lat-lon        lat        lon  floor  rooms  expenses  \\\n",
       "11534  -38.0051676,-57.5444832 -38.005168 -57.544483    NaN    1.0       NaN   \n",
       "13405  -31.6400864,-60.7046147 -31.640086 -60.704615    NaN    3.0    1000.0   \n",
       "\n",
       "                                           properati_url  \\\n",
       "11534  http://www.properati.com.ar/16bzw_venta_depart...   \n",
       "13405  http://www.properati.com.ar/16p2j_venta_depart...   \n",
       "\n",
       "                                             description  \\\n",
       "11534  TOTALMENTE LUMINOSO LIVING COMEDOR CON AMPLIO ...   \n",
       "13405  ambientes amplios, iluminados a la calle, idea...   \n",
       "\n",
       "                       title  \\\n",
       "11534  DEPARTAMENTO EN VENTA   \n",
       "13405     Departamento venta   \n",
       "\n",
       "                                         image_thumbnail  \n",
       "11534  https://thumbs4.properati.com/6/vggfdgnqIgFMN4...  \n",
       "13405  https://thumbs4.properati.com/3/x6imA3e2uBBgO3...  "
      ]
     },
     "execution_count": 127,
     "metadata": {},
     "output_type": "execute_result"
    }
   ],
   "source": [
    "df[df.surface_total_in_m2>=df.precio_usd]"
   ]
  },
  {
   "cell_type": "code",
   "execution_count": 128,
   "metadata": {},
   "outputs": [],
   "source": [
    "df=df.drop([11534])"
   ]
  },
  {
   "cell_type": "code",
   "execution_count": 129,
   "metadata": {},
   "outputs": [],
   "source": [
    "df.loc[13405,'surface_total_in_m2']= df.loc[13405,'surface_covered_in_m2']"
   ]
  },
  {
   "cell_type": "code",
   "execution_count": 130,
   "metadata": {},
   "outputs": [
    {
     "data": {
      "text/plain": [
       "94116"
      ]
     },
     "execution_count": 130,
     "metadata": {},
     "output_type": "execute_result"
    }
   ],
   "source": [
    "df2=df[['title','description','lat','lon','precio_usd','barrio_ciudad','property_type','surface_total_in_m2']]\n",
    "df.drop(df2[df2.duplicated()].index, axis=0, inplace=True)\n",
    "len(df)"
   ]
  },
  {
   "cell_type": "code",
   "execution_count": 131,
   "metadata": {},
   "outputs": [],
   "source": [
    "barrios=df.barrio_ciudad.unique()\n",
    "for x in barrios:\n",
    "        mean_1 = np.mean(df.precio_usd[df.barrio_ciudad==x])\n",
    "        std_1 =np.std(df.precio_usd[df.barrio_ciudad==x])\n",
    "\n",
    "        for index2, y in df[df.barrio_ciudad==x].iterrows():\n",
    "                if(std_1!=0):\n",
    "                    z_score= (y.precio_usd - mean_1)/std_1 \n",
    "                    if np.abs(z_score) > 2.5:\n",
    "                        df.loc[index2,'outlier']=\"YES\""
   ]
  },
  {
   "cell_type": "code",
   "execution_count": 132,
   "metadata": {},
   "outputs": [
    {
     "data": {
      "text/plain": [
       "2114"
      ]
     },
     "execution_count": 132,
     "metadata": {},
     "output_type": "execute_result"
    }
   ],
   "source": [
    "len(df[df.outlier==\"YES\"])"
   ]
  },
  {
   "cell_type": "code",
   "execution_count": 133,
   "metadata": {},
   "outputs": [],
   "source": [
    "df.drop(df[df.outlier==\"YES\"].index, axis=0, inplace=True)"
   ]
  },
  {
   "cell_type": "code",
   "execution_count": 134,
   "metadata": {},
   "outputs": [
    {
     "data": {
      "text/plain": [
       "92002"
      ]
     },
     "execution_count": 134,
     "metadata": {},
     "output_type": "execute_result"
    }
   ],
   "source": [
    "len(df)"
   ]
  },
  {
   "cell_type": "code",
   "execution_count": 135,
   "metadata": {},
   "outputs": [],
   "source": [
    "# df.loc[df.cero == 'NO', 'zscore'] =  df.loc[df.cero == 'NO', 'precio'] +"
   ]
  },
  {
   "cell_type": "code",
   "execution_count": 136,
   "metadata": {},
   "outputs": [],
   "source": [
    "import math \n",
    "df.drop(df[df.precio_m2_total==math.inf].index, axis=0, inplace=True)"
   ]
  },
  {
   "cell_type": "code",
   "execution_count": 137,
   "metadata": {},
   "outputs": [
    {
     "data": {
      "text/plain": [
       "['Capital Federal',\n",
       " 'Buenos Aires Costa Atlántica',\n",
       " 'Bs.As. G.B.A. Zona Norte',\n",
       " 'Córdoba',\n",
       " 'Bs.As. G.B.A. Zona Oeste',\n",
       " 'Bs.As. G.B.A. Zona Sur',\n",
       " 'Santa Fe',\n",
       " 'Misiones',\n",
       " 'Entre Ríos',\n",
       " 'Buenos Aires Interior',\n",
       " 'Neuquén',\n",
       " 'Río Negro',\n",
       " 'Mendoza',\n",
       " 'Corrientes',\n",
       " 'Chubut',\n",
       " 'Salta',\n",
       " 'San Luis',\n",
       " 'Tucumán',\n",
       " 'Tierra Del Fuego',\n",
       " 'Chaco',\n",
       " 'Catamarca',\n",
       " 'Santa Cruz',\n",
       " 'La Pampa',\n",
       " 'Santiago Del Estero',\n",
       " 'Jujuy',\n",
       " 'San Juan',\n",
       " 'La Rioja']"
      ]
     },
     "execution_count": 137,
     "metadata": {},
     "output_type": "execute_result"
    }
   ],
   "source": [
    "scoreProvincia=[]\n",
    "provincia=df.provincia.unique()\n",
    "provincia=provincia.tolist()\n",
    "del(provincia[27])\n",
    "provincia"
   ]
  },
  {
   "cell_type": "code",
   "execution_count": 138,
   "metadata": {},
   "outputs": [],
   "source": [
    "def scoreTrainProvincia(prov):\n",
    "\n",
    "    df_capFed=df.loc[df['provincia']==prov]\n",
    "\n",
    "\n",
    "    df_capFed=df_capFed[['barrio_ciudad','property_type','surface_total_in_m2','surface_covered_in_m2','precio_m2_total']]\n",
    "\n",
    "\n",
    "    df_capFed = df_capFed.reset_index()\n",
    "\n",
    "    df_capFed['precio_m2_total'] = np.log(df_capFed['precio_m2_total'])\n",
    "\n",
    "    df_capFed['precio_m2_total_new'] = pd.Series(len(df_capFed['precio_m2_total']), index=df_capFed.index)\n",
    "    df_capFed['precio_m2_total_new'] = 0 \n",
    "    df_capFed.loc[df_capFed['precio_m2_total']>0,'precio_m2_total_new'] = 1\n",
    "\n",
    "    df_capFed.loc[df_capFed['precio_m2_total_new']==1,'precio_m2_total'] = np.log(df_capFed['precio_m2_total'])\n",
    "\n",
    "    numeric_feats = df_capFed.dtypes[df_capFed.dtypes != \"object\"].index\n",
    "\n",
    "    # Check the skew of all numerical features\n",
    "    skewed_feats = df_capFed[numeric_feats].apply(lambda x: skew(x.dropna())).sort_values(ascending=False)\n",
    "    skewness = pd.DataFrame({'Skew' :skewed_feats})\n",
    "\n",
    "\n",
    "    skewness = skewness[abs(skewness) > 0.75]\n",
    "\n",
    "    skewed_features = skewness.index\n",
    "    lam = 0.15\n",
    "    for feat in skewed_features:\n",
    "        #all_data[feat] += 1\n",
    "        df_capFed[feat] = boxcox1p(df_capFed[feat], lam)\n",
    "\n",
    "    #df_capFed=df_capFed.dropna()\n",
    "\n",
    "    #df_capFed.head()\n",
    "\n",
    "    df_capFed=pd.get_dummies(df_capFed, drop_first=True)\n",
    "\n",
    "    y1=df_capFed.precio_m2_total\n",
    "\n",
    "\n",
    "    df_capFed=df_capFed.drop('precio_m2_total', axis=1)\n",
    "\n",
    "    X1= PolynomialFeatures(2,include_bias=False,interaction_only=False).fit_transform(df_capFed) \n",
    "    \n",
    "    feature=list(X1.shape)\n",
    "    feature=feature[1]\n",
    "    component=math.trunc(feature)\n",
    "    if component<5:\n",
    "        unicaPropiedad.append(prov)\n",
    "        return\n",
    "\n",
    "\n",
    "    X_train, X_test, y_train, y_test = train_test_split(X1, y1, test_size=0.30, random_state=7)\n",
    "\n",
    "\n",
    "    scaler.fit(X_train)\n",
    "\n",
    "    scaler.transform(X_train)\n",
    "    scaler.transform(X_test)\n",
    "\n",
    "    pca_1cp = PCA(svd_solver='auto')\n",
    "    pca_1cp.fit(X_train)\n",
    "\n",
    "    X_pca = pca_1cp.transform(X_train)\n",
    "    X_pca = pca_1cp.transform(X_test)\n",
    "\n",
    "\n",
    "    al_ridge = np.linspace(0.001, 0.3, 100)#buscar que hace linspace \n",
    "    al_lasso = np.linspace(0.1, 0.5, 100)\n",
    "    kf = KFold(n_splits=5, shuffle=True, random_state=12)#buscar que es kfold \n",
    "\n",
    "    # Instanciamos los modelos\n",
    "\n",
    "    lm = LinearRegression()\n",
    "\n",
    "    lm_ridge_cv= RidgeCV(alphas=al_ridge, cv=kf, normalize=False)#hace el cross validation automatico \n",
    "\n",
    "    lm_lasso_cv = LassoCV(alphas=al_lasso, cv=kf, normalize=False)\n",
    "\n",
    "    GBoost = GradientBoostingRegressor(n_estimators=3000, learning_rate=0.05,\n",
    "                                       max_depth=4, max_features='sqrt',\n",
    "                                       min_samples_leaf=15, min_samples_split=10, \n",
    "                                       loss='huber', random_state =5)\n",
    "\n",
    "    model_lgb = lgb.LGBMRegressor(objective='regression',num_leaves=50000,\n",
    "                                  learning_rate=0.05, n_estimators=720,\n",
    "                                  max_bin = 55, bagging_fraction = 0.8,\n",
    "                                  bagging_freq = 5, feature_fraction = 0.2319,\n",
    "                                  feature_fraction_seed=9, bagging_seed=9,\n",
    "                                  min_data_in_leaf =6, min_sum_hessian_in_leaf = 11)\n",
    "\n",
    "    regr_1 = DecisionTreeRegressor(max_depth=1000)\n",
    "\n",
    "\n",
    "    models=[lm_ridge_cv,\n",
    "            GBoost,\n",
    "            model_lgb,\n",
    "           regr_1]\n",
    "           #lm]\n",
    "\n",
    "    S_train, S_test = stacking(models,                     # list of models\n",
    "                               X_train, y_train, X_test,   # data\n",
    "                               regression=True,            # regression task (if you need \n",
    "                                                           #     classification - set to False)\n",
    "                               mode='oof_pred_bag',        # mode: oof for train set, predict test \n",
    "                                                           #     set in each fold and find mean\n",
    "                               save_dir=None,              # do not save result and log (to save \n",
    "                                                           #     in current dir - set to '.')\n",
    "                                                           # metric: callable\n",
    "                               n_folds=4,                  # number of folds\n",
    "                               shuffle=True,               # shuffle the data\n",
    "                               random_state=0,             # ensure reproducibility\n",
    "                               verbose=0)                  # print all info\n",
    "\n",
    "    rmse = lambda y, y_pred: np.sqrt(mean_squared_error(y, y_pred))\n",
    "\n",
    "    # Initialize 2nd level model\n",
    "\n",
    "    model = XGBRegressor(random_state=0, n_jobs=-1, learning_rate=0.1, \n",
    "                         n_estimators=70, max_depth=7)\n",
    "\n",
    "    # Fit 2nd level model\n",
    "    model = model.fit(S_train, y_train)\n",
    "\n",
    "    # Predict\n",
    "    y_pred = model.predict(S_test)\n",
    "\n",
    "    scoreProvincia.append({\"provincia\":prov,\"score\":metrics.r2_score(y_test, y_pred),\"rmse\":np.sqrt(metrics.mean_squared_error(y_test, y_pred))})\n",
    "    # Graficamos el modelo\n",
    "    test = go.Scatter3d(\n",
    "    x=y_test,\n",
    "    y=y_test,\n",
    "    z=y_test,\n",
    "    mode='markers',\n",
    "    marker=dict(\n",
    "        size=8,\n",
    "        line=dict(\n",
    "            color='rgba(217, 217, 217, 0.14)',\n",
    "            width=0.5\n",
    "        ),\n",
    "        opacity=1\n",
    "    )\n",
    ")\n",
    "\n",
    "\n",
    "    pred = go.Scatter3d(\n",
    "    x=y_test,\n",
    "    y=y_pred,\n",
    "    z=y_test,\n",
    "    mode='markers',\n",
    "    marker=dict(\n",
    "        color='rgb(0, 255, 0)',\n",
    "        size=6,\n",
    "        symbol='cross',\n",
    "        line=dict(\n",
    "            color='rgb(204, 204, 204)',\n",
    "            width=1\n",
    "        ),\n",
    "        opacity=0.8\n",
    "    )\n",
    ")\n",
    "    data = [test, pred]\n",
    "    layout = go.Layout(\n",
    "    margin=dict(\n",
    "        l=0,\n",
    "        r=0,\n",
    "        b=0,\n",
    "        t=0\n",
    "    )\n",
    ")\n",
    "    fig = go.Figure(data=data, layout=layout)\n",
    "    \n",
    "    print ('MAE:', metrics.mean_absolute_error(y_test, y_pred))\n",
    "    print ('MSE:', metrics.mean_squared_error(y_test, y_pred))\n",
    "    print ('RMSE:', np.sqrt(metrics.mean_squared_error(y_test, y_pred)))\n",
    "    print ('R2:', metrics.r2_score(y_test, y_pred))\n",
    "    return py.iplot(fig, filename='simple-3d-scatter')"
   ]
  },
  {
   "cell_type": "code",
   "execution_count": 139,
   "metadata": {
    "scrolled": false
   },
   "outputs": [
    {
     "name": "stdout",
     "output_type": "stream",
     "text": [
      "----------------------------------------------------------------------------------------------------\n",
      "Capital Federal\n",
      "MAE: 0.009722526527003086\n",
      "MSE: 0.0002733941859079226\n",
      "RMSE: 0.016534635947244882\n",
      "R2: 0.6611444962248587\n",
      "----------------------------------------------------------------------------------------------------\n",
      "Buenos Aires Costa Atlántica\n",
      "MAE: 0.013443681451641388\n",
      "MSE: 0.0005222086454933061\n",
      "RMSE: 0.02285188494398889\n",
      "R2: 0.8484324130945013\n",
      "----------------------------------------------------------------------------------------------------\n",
      "Bs.As. G.B.A. Zona Norte\n",
      "MAE: 0.012447819944565147\n",
      "MSE: 0.0004180208385168374\n",
      "RMSE: 0.020445557916497104\n",
      "R2: 0.8059671939315615\n",
      "----------------------------------------------------------------------------------------------------\n",
      "Córdoba\n",
      "MAE: 0.02130117665277236\n",
      "MSE: 0.0012213047865775068\n",
      "RMSE: 0.03494717136732967\n",
      "R2: 0.6475806001923821\n",
      "----------------------------------------------------------------------------------------------------\n",
      "Bs.As. G.B.A. Zona Oeste\n",
      "MAE: 0.015979623114309616\n",
      "MSE: 0.0007098682086001212\n",
      "RMSE: 0.026643352052625083\n",
      "R2: 0.7369854161406548\n",
      "----------------------------------------------------------------------------------------------------\n",
      "Bs.As. G.B.A. Zona Sur\n",
      "MAE: 0.01617414787939402\n",
      "MSE: 0.0008792403522049632\n",
      "RMSE: 0.02965198732302716\n",
      "R2: 0.6420454028322777\n",
      "----------------------------------------------------------------------------------------------------\n",
      "Santa Fe\n",
      "MAE: 0.014652442362109658\n",
      "MSE: 0.0014930229326476122\n",
      "RMSE: 0.038639654924023485\n",
      "R2: 0.5325472260327602\n",
      "----------------------------------------------------------------------------------------------------\n",
      "Misiones\n",
      "MAE: 0.032159946369490267\n",
      "MSE: 0.002151342476689259\n",
      "RMSE: 0.046382566516841854\n",
      "R2: 0.5314327946065637\n",
      "----------------------------------------------------------------------------------------------------\n",
      "Entre Ríos\n",
      "MAE: 0.031533778966255636\n",
      "MSE: 0.0019196923237928048\n",
      "RMSE: 0.04381429360143565\n",
      "R2: 0.4091284490506244\n",
      "----------------------------------------------------------------------------------------------------\n",
      "Buenos Aires Interior\n",
      "MAE: 0.024140626594634347\n",
      "MSE: 0.0015752942260846394\n",
      "RMSE: 0.03968997639309753\n",
      "R2: 0.8224049494961112\n",
      "----------------------------------------------------------------------------------------------------\n",
      "Neuquén\n",
      "MAE: 0.029860773010236635\n",
      "MSE: 0.0039429570904390325\n",
      "RMSE: 0.06279297007180845\n",
      "R2: 0.31232369838528096\n",
      "----------------------------------------------------------------------------------------------------\n",
      "Río Negro\n",
      "MAE: 0.026644348320419457\n",
      "MSE: 0.0014509531762022596\n",
      "RMSE: 0.03809137928983748\n",
      "R2: 0.6014920947327844\n",
      "----------------------------------------------------------------------------------------------------\n",
      "Mendoza\n",
      "MAE: 0.029533573901277612\n",
      "MSE: 0.003458648497814119\n",
      "RMSE: 0.05881027544412727\n",
      "R2: 0.6849021086377338\n",
      "----------------------------------------------------------------------------------------------------\n",
      "Corrientes\n",
      "MAE: 0.013581329962463381\n",
      "MSE: 0.00039327835400014587\n",
      "RMSE: 0.019831246909867917\n",
      "R2: 0.6366277934067522\n",
      "----------------------------------------------------------------------------------------------------\n",
      "Chubut\n",
      "MAE: 0.025439814222229337\n",
      "MSE: 0.001708745501794077\n",
      "RMSE: 0.0413369749956873\n",
      "R2: 0.07318731199884188\n",
      "----------------------------------------------------------------------------------------------------\n",
      "Salta\n",
      "MAE: 0.03588991108568254\n",
      "MSE: 0.002570754618597876\n",
      "RMSE: 0.05070260958370758\n",
      "R2: -0.18086835135560753\n",
      "----------------------------------------------------------------------------------------------------\n",
      "San Luis\n",
      "MAE: 0.03209829280677852\n",
      "MSE: 0.002598034978124176\n",
      "RMSE: 0.05097092286906503\n",
      "R2: 0.3393182967858064\n",
      "----------------------------------------------------------------------------------------------------\n",
      "Tucumán\n",
      "MAE: 0.03021576618562242\n",
      "MSE: 0.00326547630186103\n",
      "RMSE: 0.05714434619331146\n",
      "R2: -0.13467604508504438\n",
      "----------------------------------------------------------------------------------------------------\n",
      "Tierra Del Fuego\n",
      "MAE: 0.030273857380637616\n",
      "MSE: 0.0011306140118332265\n",
      "RMSE: 0.03362460426284935\n",
      "R2: 0.5039490276741598\n",
      "----------------------------------------------------------------------------------------------------\n",
      "Chaco\n",
      "MAE: 0.032727311226255495\n",
      "MSE: 0.0013210994363606829\n",
      "RMSE: 0.036346931594849696\n",
      "R2: 0.12806760074868362\n",
      "----------------------------------------------------------------------------------------------------\n",
      "Catamarca\n",
      "MAE: 0.027202633572693338\n",
      "MSE: 0.0014493659472241324\n",
      "RMSE: 0.03807053909815479\n",
      "R2: 0.6123158802278604\n",
      "----------------------------------------------------------------------------------------------------\n",
      "Santa Cruz\n",
      "MAE: 0.04825350555969893\n",
      "MSE: 0.003035038800675229\n",
      "RMSE: 0.055091186234054075\n",
      "R2: -1.1955746839907628\n",
      "----------------------------------------------------------------------------------------------------\n",
      "La Pampa\n",
      "MAE: 0.0313246413539879\n",
      "MSE: 0.0034290544325528173\n",
      "RMSE: 0.058558128663344575\n",
      "R2: -1.6449216228162213\n",
      "----------------------------------------------------------------------------------------------------\n",
      "Santiago Del Estero\n"
     ]
    },
    {
     "ename": "ValueError",
     "evalue": "Cannot have number of splits n_splits=4 greater than the number of samples: n_samples=2.",
     "output_type": "error",
     "traceback": [
      "\u001b[0;31m---------------------------------------------------------------------------\u001b[0m",
      "\u001b[0;31mValueError\u001b[0m                                Traceback (most recent call last)",
      "\u001b[0;32m<ipython-input-139-7be67227977c>\u001b[0m in \u001b[0;36m<module>\u001b[0;34m\u001b[0m\n\u001b[1;32m      4\u001b[0m     \u001b[0mprint\u001b[0m\u001b[0;34m(\u001b[0m\u001b[0;34m\"-\"\u001b[0m\u001b[0;34m*\u001b[0m\u001b[0;36m100\u001b[0m\u001b[0;34m)\u001b[0m\u001b[0;34m\u001b[0m\u001b[0;34m\u001b[0m\u001b[0m\n\u001b[1;32m      5\u001b[0m     \u001b[0mprint\u001b[0m\u001b[0;34m(\u001b[0m\u001b[0mprov\u001b[0m\u001b[0;34m)\u001b[0m\u001b[0;34m\u001b[0m\u001b[0;34m\u001b[0m\u001b[0m\n\u001b[0;32m----> 6\u001b[0;31m     \u001b[0mscoreTrainProvincia\u001b[0m\u001b[0;34m(\u001b[0m\u001b[0mprov\u001b[0m\u001b[0;34m)\u001b[0m\u001b[0;34m\u001b[0m\u001b[0;34m\u001b[0m\u001b[0m\n\u001b[0m",
      "\u001b[0;32m<ipython-input-138-3408827e5151>\u001b[0m in \u001b[0;36mscoreTrainProvincia\u001b[0;34m(prov)\u001b[0m\n\u001b[1;32m    113\u001b[0m                                \u001b[0mshuffle\u001b[0m\u001b[0;34m=\u001b[0m\u001b[0;32mTrue\u001b[0m\u001b[0;34m,\u001b[0m               \u001b[0;31m# shuffle the data\u001b[0m\u001b[0;34m\u001b[0m\u001b[0;34m\u001b[0m\u001b[0m\n\u001b[1;32m    114\u001b[0m                                \u001b[0mrandom_state\u001b[0m\u001b[0;34m=\u001b[0m\u001b[0;36m0\u001b[0m\u001b[0;34m,\u001b[0m             \u001b[0;31m# ensure reproducibility\u001b[0m\u001b[0;34m\u001b[0m\u001b[0;34m\u001b[0m\u001b[0m\n\u001b[0;32m--> 115\u001b[0;31m                                verbose=0)                  # print all info\n\u001b[0m\u001b[1;32m    116\u001b[0m \u001b[0;34m\u001b[0m\u001b[0m\n\u001b[1;32m    117\u001b[0m     \u001b[0mrmse\u001b[0m \u001b[0;34m=\u001b[0m \u001b[0;32mlambda\u001b[0m \u001b[0my\u001b[0m\u001b[0;34m,\u001b[0m \u001b[0my_pred\u001b[0m\u001b[0;34m:\u001b[0m \u001b[0mnp\u001b[0m\u001b[0;34m.\u001b[0m\u001b[0msqrt\u001b[0m\u001b[0;34m(\u001b[0m\u001b[0mmean_squared_error\u001b[0m\u001b[0;34m(\u001b[0m\u001b[0my\u001b[0m\u001b[0;34m,\u001b[0m \u001b[0my_pred\u001b[0m\u001b[0;34m)\u001b[0m\u001b[0;34m)\u001b[0m\u001b[0;34m\u001b[0m\u001b[0;34m\u001b[0m\u001b[0m\n",
      "\u001b[0;32m/anaconda3/lib/python3.7/site-packages/vecstack/core.py\u001b[0m in \u001b[0;36mstacking\u001b[0;34m(models, X_train, y_train, X_test, sample_weight, regression, transform_target, transform_pred, mode, needs_proba, save_dir, metric, n_folds, stratified, shuffle, random_state, verbose)\u001b[0m\n\u001b[1;32m    551\u001b[0m         \u001b[0;31m#-----------------------------------------------------------------------\u001b[0m\u001b[0;34m\u001b[0m\u001b[0;34m\u001b[0m\u001b[0;34m\u001b[0m\u001b[0m\n\u001b[1;32m    552\u001b[0m         \u001b[0;32mif\u001b[0m \u001b[0mmode\u001b[0m \u001b[0;32min\u001b[0m \u001b[0;34m[\u001b[0m\u001b[0;34m'pred_bag'\u001b[0m\u001b[0;34m,\u001b[0m \u001b[0;34m'oof'\u001b[0m\u001b[0;34m,\u001b[0m \u001b[0;34m'oof_pred'\u001b[0m\u001b[0;34m,\u001b[0m \u001b[0;34m'oof_pred_bag'\u001b[0m\u001b[0;34m]\u001b[0m\u001b[0;34m:\u001b[0m\u001b[0;34m\u001b[0m\u001b[0;34m\u001b[0m\u001b[0m\n\u001b[0;32m--> 553\u001b[0;31m             \u001b[0;32mfor\u001b[0m \u001b[0mfold_counter\u001b[0m\u001b[0;34m,\u001b[0m \u001b[0;34m(\u001b[0m\u001b[0mtr_index\u001b[0m\u001b[0;34m,\u001b[0m \u001b[0mte_index\u001b[0m\u001b[0;34m)\u001b[0m \u001b[0;32min\u001b[0m \u001b[0menumerate\u001b[0m\u001b[0;34m(\u001b[0m\u001b[0mkf\u001b[0m\u001b[0;34m.\u001b[0m\u001b[0msplit\u001b[0m\u001b[0;34m(\u001b[0m\u001b[0mX_train\u001b[0m\u001b[0;34m,\u001b[0m \u001b[0my_train\u001b[0m\u001b[0;34m)\u001b[0m\u001b[0;34m)\u001b[0m\u001b[0;34m:\u001b[0m\u001b[0;34m\u001b[0m\u001b[0;34m\u001b[0m\u001b[0m\n\u001b[0m\u001b[1;32m    554\u001b[0m                 \u001b[0;31m# Split data and target\u001b[0m\u001b[0;34m\u001b[0m\u001b[0;34m\u001b[0m\u001b[0;34m\u001b[0m\u001b[0m\n\u001b[1;32m    555\u001b[0m                 \u001b[0mX_tr\u001b[0m \u001b[0;34m=\u001b[0m \u001b[0mX_train\u001b[0m\u001b[0;34m[\u001b[0m\u001b[0mtr_index\u001b[0m\u001b[0;34m]\u001b[0m\u001b[0;34m\u001b[0m\u001b[0;34m\u001b[0m\u001b[0m\n",
      "\u001b[0;32m/anaconda3/lib/python3.7/site-packages/sklearn/model_selection/_split.py\u001b[0m in \u001b[0;36msplit\u001b[0;34m(self, X, y, groups)\u001b[0m\n\u001b[1;32m    327\u001b[0m                 (\"Cannot have number of splits n_splits={0} greater\"\n\u001b[1;32m    328\u001b[0m                  \" than the number of samples: n_samples={1}.\")\n\u001b[0;32m--> 329\u001b[0;31m                 .format(self.n_splits, n_samples))\n\u001b[0m\u001b[1;32m    330\u001b[0m \u001b[0;34m\u001b[0m\u001b[0m\n\u001b[1;32m    331\u001b[0m         \u001b[0;32mfor\u001b[0m \u001b[0mtrain\u001b[0m\u001b[0;34m,\u001b[0m \u001b[0mtest\u001b[0m \u001b[0;32min\u001b[0m \u001b[0msuper\u001b[0m\u001b[0;34m(\u001b[0m\u001b[0m_BaseKFold\u001b[0m\u001b[0;34m,\u001b[0m \u001b[0mself\u001b[0m\u001b[0;34m)\u001b[0m\u001b[0;34m.\u001b[0m\u001b[0msplit\u001b[0m\u001b[0;34m(\u001b[0m\u001b[0mX\u001b[0m\u001b[0;34m,\u001b[0m \u001b[0my\u001b[0m\u001b[0;34m,\u001b[0m \u001b[0mgroups\u001b[0m\u001b[0;34m)\u001b[0m\u001b[0;34m:\u001b[0m\u001b[0;34m\u001b[0m\u001b[0;34m\u001b[0m\u001b[0m\n",
      "\u001b[0;31mValueError\u001b[0m: Cannot have number of splits n_splits=4 greater than the number of samples: n_samples=2."
     ]
    }
   ],
   "source": [
    "unicaPropiedad=[]\n",
    "scoreProvincia=[]\n",
    "for prov in provincia:\n",
    "    print(\"-\"*100)\n",
    "    print(prov)\n",
    "    scoreTrainProvincia(prov)"
   ]
  },
  {
   "cell_type": "code",
   "execution_count": 140,
   "metadata": {},
   "outputs": [
    {
     "data": {
      "text/html": [
       "<div>\n",
       "<style scoped>\n",
       "    .dataframe tbody tr th:only-of-type {\n",
       "        vertical-align: middle;\n",
       "    }\n",
       "\n",
       "    .dataframe tbody tr th {\n",
       "        vertical-align: top;\n",
       "    }\n",
       "\n",
       "    .dataframe thead th {\n",
       "        text-align: right;\n",
       "    }\n",
       "</style>\n",
       "<table border=\"1\" class=\"dataframe\">\n",
       "  <thead>\n",
       "    <tr style=\"text-align: right;\">\n",
       "      <th></th>\n",
       "      <th>provincia</th>\n",
       "      <th>rmse</th>\n",
       "      <th>score</th>\n",
       "    </tr>\n",
       "  </thead>\n",
       "  <tbody>\n",
       "    <tr>\n",
       "      <th>0</th>\n",
       "      <td>Capital Federal</td>\n",
       "      <td>0.016535</td>\n",
       "      <td>66</td>\n",
       "    </tr>\n",
       "    <tr>\n",
       "      <th>1</th>\n",
       "      <td>Buenos Aires Costa Atlántica</td>\n",
       "      <td>0.022852</td>\n",
       "      <td>84</td>\n",
       "    </tr>\n",
       "    <tr>\n",
       "      <th>2</th>\n",
       "      <td>Bs.As. G.B.A. Zona Norte</td>\n",
       "      <td>0.020446</td>\n",
       "      <td>80</td>\n",
       "    </tr>\n",
       "    <tr>\n",
       "      <th>3</th>\n",
       "      <td>Córdoba</td>\n",
       "      <td>0.034947</td>\n",
       "      <td>64</td>\n",
       "    </tr>\n",
       "    <tr>\n",
       "      <th>4</th>\n",
       "      <td>Bs.As. G.B.A. Zona Oeste</td>\n",
       "      <td>0.026643</td>\n",
       "      <td>73</td>\n",
       "    </tr>\n",
       "    <tr>\n",
       "      <th>5</th>\n",
       "      <td>Bs.As. G.B.A. Zona Sur</td>\n",
       "      <td>0.029652</td>\n",
       "      <td>64</td>\n",
       "    </tr>\n",
       "    <tr>\n",
       "      <th>6</th>\n",
       "      <td>Santa Fe</td>\n",
       "      <td>0.038640</td>\n",
       "      <td>53</td>\n",
       "    </tr>\n",
       "    <tr>\n",
       "      <th>7</th>\n",
       "      <td>Misiones</td>\n",
       "      <td>0.046383</td>\n",
       "      <td>53</td>\n",
       "    </tr>\n",
       "    <tr>\n",
       "      <th>8</th>\n",
       "      <td>Entre Ríos</td>\n",
       "      <td>0.043814</td>\n",
       "      <td>40</td>\n",
       "    </tr>\n",
       "    <tr>\n",
       "      <th>9</th>\n",
       "      <td>Buenos Aires Interior</td>\n",
       "      <td>0.039690</td>\n",
       "      <td>82</td>\n",
       "    </tr>\n",
       "    <tr>\n",
       "      <th>10</th>\n",
       "      <td>Neuquén</td>\n",
       "      <td>0.062793</td>\n",
       "      <td>31</td>\n",
       "    </tr>\n",
       "    <tr>\n",
       "      <th>11</th>\n",
       "      <td>Río Negro</td>\n",
       "      <td>0.038091</td>\n",
       "      <td>60</td>\n",
       "    </tr>\n",
       "    <tr>\n",
       "      <th>12</th>\n",
       "      <td>Mendoza</td>\n",
       "      <td>0.058810</td>\n",
       "      <td>68</td>\n",
       "    </tr>\n",
       "    <tr>\n",
       "      <th>13</th>\n",
       "      <td>Corrientes</td>\n",
       "      <td>0.019831</td>\n",
       "      <td>63</td>\n",
       "    </tr>\n",
       "    <tr>\n",
       "      <th>14</th>\n",
       "      <td>Chubut</td>\n",
       "      <td>0.041337</td>\n",
       "      <td>7</td>\n",
       "    </tr>\n",
       "    <tr>\n",
       "      <th>15</th>\n",
       "      <td>Salta</td>\n",
       "      <td>0.050703</td>\n",
       "      <td>-18</td>\n",
       "    </tr>\n",
       "    <tr>\n",
       "      <th>16</th>\n",
       "      <td>San Luis</td>\n",
       "      <td>0.050971</td>\n",
       "      <td>33</td>\n",
       "    </tr>\n",
       "    <tr>\n",
       "      <th>17</th>\n",
       "      <td>Tucumán</td>\n",
       "      <td>0.057144</td>\n",
       "      <td>-13</td>\n",
       "    </tr>\n",
       "    <tr>\n",
       "      <th>18</th>\n",
       "      <td>Tierra Del Fuego</td>\n",
       "      <td>0.033625</td>\n",
       "      <td>50</td>\n",
       "    </tr>\n",
       "    <tr>\n",
       "      <th>19</th>\n",
       "      <td>Chaco</td>\n",
       "      <td>0.036347</td>\n",
       "      <td>12</td>\n",
       "    </tr>\n",
       "    <tr>\n",
       "      <th>20</th>\n",
       "      <td>Catamarca</td>\n",
       "      <td>0.038071</td>\n",
       "      <td>61</td>\n",
       "    </tr>\n",
       "    <tr>\n",
       "      <th>21</th>\n",
       "      <td>Santa Cruz</td>\n",
       "      <td>0.055091</td>\n",
       "      <td>-119</td>\n",
       "    </tr>\n",
       "    <tr>\n",
       "      <th>22</th>\n",
       "      <td>La Pampa</td>\n",
       "      <td>0.058558</td>\n",
       "      <td>-164</td>\n",
       "    </tr>\n",
       "  </tbody>\n",
       "</table>\n",
       "</div>"
      ],
      "text/plain": [
       "                       provincia      rmse  score\n",
       "0                Capital Federal  0.016535     66\n",
       "1   Buenos Aires Costa Atlántica  0.022852     84\n",
       "2       Bs.As. G.B.A. Zona Norte  0.020446     80\n",
       "3                        Córdoba  0.034947     64\n",
       "4       Bs.As. G.B.A. Zona Oeste  0.026643     73\n",
       "5         Bs.As. G.B.A. Zona Sur  0.029652     64\n",
       "6                       Santa Fe  0.038640     53\n",
       "7                       Misiones  0.046383     53\n",
       "8                     Entre Ríos  0.043814     40\n",
       "9          Buenos Aires Interior  0.039690     82\n",
       "10                       Neuquén  0.062793     31\n",
       "11                     Río Negro  0.038091     60\n",
       "12                       Mendoza  0.058810     68\n",
       "13                    Corrientes  0.019831     63\n",
       "14                        Chubut  0.041337      7\n",
       "15                         Salta  0.050703    -18\n",
       "16                      San Luis  0.050971     33\n",
       "17                       Tucumán  0.057144    -13\n",
       "18              Tierra Del Fuego  0.033625     50\n",
       "19                         Chaco  0.036347     12\n",
       "20                     Catamarca  0.038071     61\n",
       "21                    Santa Cruz  0.055091   -119\n",
       "22                      La Pampa  0.058558   -164"
      ]
     },
     "execution_count": 140,
     "metadata": {},
     "output_type": "execute_result"
    }
   ],
   "source": [
    "dfScore=pd.DataFrame(scoreProvincia)\n",
    "dfScore.score=dfScore.score.astype(float)\n",
    "dfScore.score=dfScore.score * 100\n",
    "dfScore.score=dfScore.score.astype(int)\n",
    "dfScore"
   ]
  },
  {
   "cell_type": "code",
   "execution_count": null,
   "metadata": {},
   "outputs": [],
   "source": [
    "scoreTrainProvincia(\"Santa Cruz\")"
   ]
  },
  {
   "cell_type": "code",
   "execution_count": null,
   "metadata": {},
   "outputs": [],
   "source": []
  },
  {
   "cell_type": "code",
   "execution_count": null,
   "metadata": {},
   "outputs": [],
   "source": []
  },
  {
   "cell_type": "code",
   "execution_count": null,
   "metadata": {},
   "outputs": [],
   "source": []
  },
  {
   "cell_type": "code",
   "execution_count": null,
   "metadata": {},
   "outputs": [],
   "source": []
  },
  {
   "cell_type": "code",
   "execution_count": null,
   "metadata": {},
   "outputs": [],
   "source": []
  },
  {
   "cell_type": "code",
   "execution_count": null,
   "metadata": {},
   "outputs": [],
   "source": []
  },
  {
   "cell_type": "code",
   "execution_count": null,
   "metadata": {},
   "outputs": [],
   "source": []
  },
  {
   "cell_type": "code",
   "execution_count": null,
   "metadata": {},
   "outputs": [],
   "source": []
  },
  {
   "cell_type": "code",
   "execution_count": null,
   "metadata": {},
   "outputs": [],
   "source": []
  },
  {
   "cell_type": "code",
   "execution_count": null,
   "metadata": {},
   "outputs": [],
   "source": []
  },
  {
   "cell_type": "code",
   "execution_count": null,
   "metadata": {},
   "outputs": [],
   "source": []
  },
  {
   "cell_type": "code",
   "execution_count": null,
   "metadata": {},
   "outputs": [],
   "source": []
  },
  {
   "cell_type": "code",
   "execution_count": null,
   "metadata": {},
   "outputs": [],
   "source": []
  },
  {
   "cell_type": "code",
   "execution_count": null,
   "metadata": {},
   "outputs": [],
   "source": []
  },
  {
   "cell_type": "code",
   "execution_count": null,
   "metadata": {},
   "outputs": [],
   "source": []
  }
 ],
 "metadata": {
  "kernelspec": {
   "display_name": "Python 3",
   "language": "python",
   "name": "python3"
  },
  "language_info": {
   "codemirror_mode": {
    "name": "ipython",
    "version": 3
   },
   "file_extension": ".py",
   "mimetype": "text/x-python",
   "name": "python",
   "nbconvert_exporter": "python",
   "pygments_lexer": "ipython3",
   "version": "3.7.1"
  }
 },
 "nbformat": 4,
 "nbformat_minor": 2
}
