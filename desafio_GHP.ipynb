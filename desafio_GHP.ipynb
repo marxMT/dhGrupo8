{
 "cells": [
  {
   "cell_type": "markdown",
   "metadata": {},
   "source": [
    "### LINEAMIENTOS\n",
    "\n",
    "La inmobiliaria Properati publica periódicamente información sobre ofertas de propiedades para venta y alquiler. \n",
    "Ud. deberá asesorar a la inmobiliaria a desarrollar un modelo de regresión que permita predecir el precio por metro \n",
    "cuadrado de una propiedad. El objetivo final, a concretarse en el Desafío 2, es que el modelo que desarrollen sea utilizado \n",
    "como tasador automático a ser aplicados a las próximas propiedades que sean comercializadas por la empresa. \n",
    "Para ello, la empresa le provee de un dataset correspondiente al primer semestre de 2017.\n",
    "\n",
    "El dataset es de tamaño entre pequeño y mediano, pero tiene dos complejidades a las que deberá prestarle atención:\n",
    "\n",
    "● Peso de missing data en algunas variables relevantes.\n",
    "● Será importante tener en cuenta el problema de la influencia espacial en los precios por metro cuadrado. \n",
    "En efecto, es probable que existan diferencias importantes de en las diferentes geografías, barrios y zonas analizadas.\n",
    "\n",
    "Objetivos:\n",
    "● Efectuar una limpieza del dataset provisto. Particularmente, deberá diseñar estrategias para lidiar con los datos \n",
    "perdidos en ciertas variables.\n",
    "● Realizar un análisis descriptivo de las principales variables.\n",
    "● Crear nuevas columnas a partir de las características dadas que puedan tener valor predictivo.\n",
    "\n",
    "Datos: Descargar el dataset de: https://drive.google.com/file/d/0BzVrTKc02N8qNUdDSExBQlFTNlU/view\n",
    "\n",
    "Requisitos y material a entregar\n",
    "La limpieza y el análisis de los datos deberán ser entregados en una Jupyter notebook que satisfaga los \n",
    "requerimientos del proyecto. La notebook deberá estar debidamente comentada. Además, los grupos deberán crear \n",
    "un repositorio para el proyecto en Github.\n",
    "\n",
    "Para la presentación en clase se deben armar algunos slides no técnicos para exponer en no más de 10 minutos \n",
    "(PPT o Google Slides). La presentación debe constar de una introducción (planteo del problema, la pregunta, \n",
    "la descripción del dataset, etc.), un desarrollo de los análisis realizados (análisis descriptivo, análisis de correlaciones \n",
    "preliminares, visualizaciones preliminares) y una exposición de los principales resultados y conclusiones.\n",
    "\n",
    "Fecha de entrega\n",
    "● El material deberá entregarse en la clase 17 del curso, día viernes 13 de septiembre.\n",
    "\n",
    "Dataset\n",
    "\n",
    "El dataset contiene información sobre todas las propiedades georeferenciadas de la base de datos de la empresa. \n",
    "La información de cada propiedad que incluye es la siguiente:\n",
    "\n",
    "● Fecha de creación\n",
    "● Tipo de la propiedad (house, apartment, ph)\n",
    "● Operación del aviso (sell, rent)\n",
    "● Nombre del lugar\n",
    "● Nombre del lugar + nombre de sus ‘padres’\n",
    "● ID de geonames del lugar (si está disponible)\n",
    "● Latitud, longitud\n",
    "● Precio original del aviso\n",
    "● Moneda original del aviso (ARS, USD)\n",
    "● Precio del aviso en moneda local (ARS)\n",
    "● Precio aproximado en USD\n",
    "● Superficie en m2\n",
    "● Superficie cubierta en m2\n",
    "● Precio en USD/m2\n",
    "● Precio por m2\n",
    "● N° de piso, si corresponde\n",
    "● Ambientes\n",
    "● URL en Properati\n",
    "● Descripción\n",
    "● Título\n",
    "● URL de un thumbnail de la primer foto\n",
    "\n",
    "¿Cómo empezar? Sugerencias\n",
    "\n",
    "Agreguen toda otra información construida a partir de los datos originales (o incluso información externa) que consideren \n",
    "relevante y útil para resolver los objetivos planteados.\n",
    "\n",
    "Aprovechen las herramientas de Pandas: groupby, summation, pivot_tables y otras aplicaciones y métodos de los \n",
    "DataFrames hacen mucho más simples los cálculos y otras agregaciones de los datos.\n",
    "\n",
    "En la presentación de los resultados tengan en cuenta que es altamente probable que la audiencia no tenga un nivel técnico, \n",
    "así que mantengan el lenguaje en un nivel accesible.\n",
    "\n",
    "En términos generales, recuerden las siguientes sugerencias:\n",
    "\n",
    "● Escribir un pseudocódigo antes de empezar a codear. Suele ser muy útil para darle un esquema y una lógica generales \n",
    "al análisis.\n",
    "\n",
    "● Leer la documentación de cualquier tecnología o herramienta de análisis que usen. A veces no hay tutoriales para todo \n",
    "y los documentos y las ayudas son fundamentales para entender el funcionamiento de las herramientas utilizadas.\n",
    "\n",
    "● Documentar todos los pasos, transformaciones, comandos y análisis que realicen.\n",
    "\n",
    "Recursos útiles\n",
    "\n",
    "● Documentación de la librería GeoPandas\n",
    "● Github"
   ]
  },
  {
   "cell_type": "markdown",
   "metadata": {},
   "source": [
    "Acción: Importo file y realizo sample para tener una primera idea de algunas columnas y sus datos"
   ]
  },
  {
   "cell_type": "code",
   "execution_count": null,
   "metadata": {
    "scrolled": true
   },
   "outputs": [],
   "source": [
    "import pandas as pd\n",
    "base = pd.read_csv(r\"C:\\Users\\GuillermoPortero\\Desktop\\Digital House\\Desafio\\properatti.csv\")\n",
    "base.sample(5)"
   ]
  },
  {
   "cell_type": "markdown",
   "metadata": {},
   "source": [
    "Acción: Verifico cómo está conformada la estructura del file."
   ]
  },
  {
   "cell_type": "code",
   "execution_count": null,
   "metadata": {
    "scrolled": true
   },
   "outputs": [],
   "source": [
    "base.info()"
   ]
  },
  {
   "cell_type": "markdown",
   "metadata": {},
   "source": [
    "Observaciones: \n",
    "1) Es un Dataframe\n",
    "2) Son 121220 filas y 26 columnas\n",
    "3) A priori se observan Labels poco legibles (\"Unnamed: 0\")\n",
    "4) Hay poca información para ciertos campos (\"lat-lon\",\"expenses\",\"rooms\")\n",
    "5) Habría campos con info repetida (\"lat-lon\" vs \"lat\" y \"lon\"), 6. Hay columnas no relevantes(\"image...\",\"...url\")"
   ]
  },
  {
   "cell_type": "markdown",
   "metadata": {},
   "source": [
    "Acción: Recorro campo a campo y cuento la cantidad de valores diferentes"
   ]
  },
  {
   "cell_type": "code",
   "execution_count": null,
   "metadata": {},
   "outputs": [],
   "source": [
    "for i in base.columns:\n",
    "    print(\"\\n'{}' values:\\n\".format(i),base[i].value_counts())"
   ]
  },
  {
   "cell_type": "markdown",
   "metadata": {},
   "source": [
    "Observaciones:\n",
    "#_Unnamed: tiene 121220 valores únicos del tipo integer. Parecería un tipo de índice. A priori no agregaría valor al estimador\n",
    "#_operation: tiene 121220 valores iguales el cual es \"sell\". Campo sería descartable.  \n",
    "#_property_type: tiene 4 valores diferentes (apartment,house,PH,store). Falta corroborar si faltan valores (y cuantos)\n",
    "#_place_name: tiene muchos valores diferentes que refieren a Localidades, Barrios. Falta corroborar si faltan valores (y cuantos)\n",
    "#_place_with_parent_names: jerarquía padre/hijo/nieto... Verificar si sirve para complementar info faltante de \"place_name\" (si faltara) o si no hay concordancia entre dichos campos. Serviría para tener un valor estimado por Provincia, Localidad, Zona\n",
    "#_country_name: tiene 121220 valores iguales el cual es \"Argentina\". Campo que no agrega valor.\n",
    "#_state_name: tiene muchos valores diferentes que refieren Provincia. Falta corroborar si faltan valores (y cuantos). Serviría como base para estimar valores por provincia, y complementarse con place_with_parent_names en aquellos registros que le falte dato.\n",
    "#_geonames_id: 646 valoes. A priori no agregaría valor al estimador. Utilizaría \"lat-lon\" para complementar \"place_name\"\n",
    "#_'lat-lon': podría complementar a \"place_name\"\n",
    "#_lat: a priori sus valores están incluidos en \"lat_lon\". El campo sería descartable\n",
    "#_lon: a priori sus valores están incluidos en \"lat_lon\". El campo sería descartable\n",
    "#_price: solo 9746 registros con valores. Se requiere de \"currency\" para interpretarlo. Corroborar si sirve para complementar otros price_usd_per_m2 .\n",
    "#_currency: ~90k valores útiles. filtar registros que no estén en ARS o USD. Crear nueva columna llevando todo a USD (verificar si existe TC y sino importarlo para usarlo como DICC). \n",
    "#_price_aprox_local_currency: ~10.3k valores. Complementa aquellos casos sin \"price_usd_per_m2\",\"price\", ni \"price_aprox_usd\" (si es que priorizo estimar en USD frente a ARS)\n",
    "#_price_aprox_usd: ~10.3k valores. Complementa aquellos casos sin \"price_usd_per_m2\", ni \"price\"\n",
    "#_surface_total_in_m2: ~1.6k valores\n",
    "#_surface_covered_in_m2: ~1k valores. Principal complementador del precio en dólares para llegar a \"price_usd_per_m2\"\n",
    "#_price_usd_per_m2: ~25.6k valores. Principal estimador de precios\n",
    "#_price_per_m2: ~25k valores. Complementa \"price_usd_per_m2\" \n",
    "#_floor: ~200 valores. A priori no agregaría valor al estimador\n",
    "#_rooms: calcular cantidad de valores. A priori no agregaría valor al estimador\n",
    "#_expenses: ~1k. A priori no agregaría valor al estimador\n",
    "#_properati_url:tiene 121220 valores únicos. Útil para detectar duplicados. Luego descartable\n",
    "#_description: Campo sería descartable. \n",
    "#_title: ~73k. Se podría utilizar para complementar \"property_type\" o \"place_name\" ya que varios registros son del tipo \"Departamento - Villa Urquiza\"\n",
    "#image_thumbnail: Campo sería descartable.\n",
    "\n"
   ]
  }
 ],
 "metadata": {
  "kernelspec": {
   "display_name": "Python 3",
   "language": "python",
   "name": "python3"
  },
  "language_info": {
   "codemirror_mode": {
    "name": "ipython",
    "version": 3
   },
   "file_extension": ".py",
   "mimetype": "text/x-python",
   "name": "python",
   "nbconvert_exporter": "python",
   "pygments_lexer": "ipython3",
   "version": "3.7.3"
  }
 },
 "nbformat": 4,
 "nbformat_minor": 2
}
